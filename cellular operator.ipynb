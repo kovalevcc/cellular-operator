{
 "cells": [
  {
   "cell_type": "markdown",
   "metadata": {},
   "source": [
    "Привет, меня зовут Гребенюк Артём. Сегодня я буду делать ревью твоего проекта!\\\n",
    "В Практикуме принято общаться на \"ты\", однако если это неудобно - дай знать, и можем перейти на более официальное общение.\n",
    "\n",
    "Ниже ты найдешь мои комментарии - пожалуйста, не перемещай, не изменяй и не удаляй их. Я буду использовать цветовую разметку: \n",
    "\n",
    "<div class=\"alert alert-block alert-success\">\n",
    "<b>✔️ Success:</b> Если все сделано хорошо. </div>\n",
    "\n",
    "<div class=\"alert alert-block alert-warning\">\n",
    "<b>⚠️ Remarks:</b> Некритичное замечание; если таких замечаний меньше трех — проект может быть принят без их отработки.</div>\n",
    "\n",
    "<div class=\"alert alert-block alert-danger\">\n",
    "<b>❌ Needs fixing:</b> Грубая ошибка, необходимо исправить, иначе проект не будет принят.\n",
    "</div>\n",
    "\n",
    "Давай работать над проектом в диалоге: если ты что-то меняешь в проекте или отвечаешь на мои комменатри — пиши об этом. Мне будет легче отследить изменения, если ты выделишь свои комментарии:\n",
    "Например так:\n",
    "\n",
    "<div class=\"alert alert-block alert-info\">\n",
    "<b>💾 Fixed:</b> \n",
    "Hello World! ✔\n",
    "</div>\n",
    "\n",
    "Или можешь использовать эту галочку ✔ в моих комментариях, если писать особо нечего.\n",
    "\n",
    "<div class=\"alert alert-block alert-warning\">\n",
    "<b>Общее впечатление:</b> \n",
    "    \n",
    "- Спасибо за работу :)\n",
    "- У меня есть пара ремарок, которые помогут тебе сделать проект еще лучше.\n",
    "- Пробегись по моим комментариям, исправь недочёты и всё будет отлично :)\n",
    "    \n",
    "</div>\n",
    "\n"
   ]
  },
  {
   "cell_type": "markdown",
   "metadata": {},
   "source": [
    "<div class=\"alert alert-block alert-success\">\n",
    "<b>Привет!</b> Отличная работа над ремарками! Проект принят, поздравляю, желаю удачи в дальнейшем обучении :)"
   ]
  },
  {
   "cell_type": "markdown",
   "metadata": {},
   "source": [
    "<a id='home'></a>"
   ]
  },
  {
   "cell_type": "markdown",
   "metadata": {
    "toc": true
   },
   "source": [
    "<h1>Содержание<span class=\"tocSkip\"></span></h1>\n",
    "<div class=\"toc\"><ul class=\"toc-item\"><li><span><a href=\"#Ознакомление-с-данными\" data-toc-modified-id=\"Ознакомление-с-данными-1\"><span class=\"toc-item-num\">1&nbsp;&nbsp;</span>Ознакомление с данными</a></span><ul class=\"toc-item\"><li><span><a href=\"#Вывод\" data-toc-modified-id=\"Вывод-1.1\"><span class=\"toc-item-num\">1.1&nbsp;&nbsp;</span>Вывод</a></span></li></ul></li><li><span><a href=\"#Подготовка-данных\" data-toc-modified-id=\"Подготовка-данных-2\"><span class=\"toc-item-num\">2&nbsp;&nbsp;</span>Подготовка данных</a></span><ul class=\"toc-item\"><li><span><a href=\"#Вывод\" data-toc-modified-id=\"Вывод-2.1\"><span class=\"toc-item-num\">2.1&nbsp;&nbsp;</span>Вывод</a></span></li></ul></li><li><span><a href=\"#Анализ-данных\" data-toc-modified-id=\"Анализ-данных-3\"><span class=\"toc-item-num\">3&nbsp;&nbsp;</span>Анализ данных</a></span><ul class=\"toc-item\"><li><span><a href=\"#Вывод\" data-toc-modified-id=\"Вывод-3.1\"><span class=\"toc-item-num\">3.1&nbsp;&nbsp;</span>Вывод</a></span></li></ul></li><li><span><a href=\"#Проверка-гипотез\" data-toc-modified-id=\"Проверка-гипотез-4\"><span class=\"toc-item-num\">4&nbsp;&nbsp;</span>Проверка гипотез</a></span><ul class=\"toc-item\"><li><span><a href=\"#Cредняя-выручка-пользователей-тарифов-«Ультра»-и-«Смарт»-различаются\" data-toc-modified-id=\"Cредняя-выручка-пользователей-тарифов-«Ультра»-и-«Смарт»-различаются-4.1\"><span class=\"toc-item-num\">4.1&nbsp;&nbsp;</span><strong>Cредняя выручка пользователей тарифов «Ультра» и «Смарт» различаются</strong></a></span></li><li><span><a href=\"#Вывод\" data-toc-modified-id=\"Вывод-4.2\"><span class=\"toc-item-num\">4.2&nbsp;&nbsp;</span>Вывод</a></span></li><li><span><a href=\"#Cредняя-выручка-пользователей-из-Москвы-отличается-от-выручки-пользователей-из-других-регионов.\" data-toc-modified-id=\"Cредняя-выручка-пользователей-из-Москвы-отличается-от-выручки-пользователей-из-других-регионов.-4.3\"><span class=\"toc-item-num\">4.3&nbsp;&nbsp;</span><strong>Cредняя выручка пользователей из Москвы отличается от выручки пользователей из других регионов.</strong></a></span></li><li><span><a href=\"#Вывод\" data-toc-modified-id=\"Вывод-4.4\"><span class=\"toc-item-num\">4.4&nbsp;&nbsp;</span>Вывод</a></span></li></ul></li><li><span><a href=\"#Общий-вывод\" data-toc-modified-id=\"Общий-вывод-5\"><span class=\"toc-item-num\">5&nbsp;&nbsp;</span>Общий вывод</a></span></li></ul></div>"
   ]
  },
  {
   "cell_type": "markdown",
   "metadata": {},
   "source": [
    "# Определение перспективного тарифа для телеком-компании"
   ]
  },
  {
   "cell_type": "markdown",
   "metadata": {},
   "source": [
    "Вы аналитик компании «Мегалайн» — федерального оператора сотовой связи. Клиентам предлагают два тарифных плана: «Смарт» и «Ультра». Чтобы скорректировать рекламный бюджет, коммерческий департамент хочет понять, какой тариф приносит больше денег.\n",
    "Вам предстоит сделать предварительный анализ тарифов на небольшой выборке клиентов. В вашем распоряжении данные 500 пользователей «Мегалайна»: кто они, откуда, каким тарифом пользуются, сколько звонков и сообщений каждый отправил за 2018 год. Нужно проанализировать поведение клиентов и сделать вывод — какой тариф лучше."
   ]
  },
  {
   "cell_type": "markdown",
   "metadata": {},
   "source": [
    "<div class=\"alert alert-block alert-success\">\n",
    "<b>✔️ Success:</b> Отличное введение в работу! Можно еще улучшить навигацию - добавив ссылки \"в начало\" в ключевых разделах работы."
   ]
  },
  {
   "cell_type": "markdown",
   "metadata": {},
   "source": [
    "<div class=\"alert alert-block alert-info\">\n",
    "<b>💾 Fixed:</b> \n",
    "Спасибо! добавил ссылки \"в начало\"\n",
    "</div>"
   ]
  },
  {
   "cell_type": "markdown",
   "metadata": {},
   "source": [
    "<div class=\"alert alert-block alert-success\">\n",
    "красота :)"
   ]
  },
  {
   "cell_type": "markdown",
   "metadata": {},
   "source": [
    "## Ознакомление с данными"
   ]
  },
  {
   "cell_type": "code",
   "execution_count": 1,
   "metadata": {},
   "outputs": [],
   "source": [
    "import pandas as pd\n",
    "import matplotlib.pyplot as plt\n",
    "import numpy as np\n",
    "from scipy import stats as st"
   ]
  },
  {
   "cell_type": "markdown",
   "metadata": {},
   "source": [
    "<div class=\"alert alert-block alert-success\">\n",
    "<b>✔️ Success:</b> \n",
    "    \n",
    "Здорово, что все импорты и настройки собраны в начале проекта - так в нем очень удобно ориентироваться."
   ]
  },
  {
   "cell_type": "code",
   "execution_count": 2,
   "metadata": {},
   "outputs": [],
   "source": [
    "calls = pd.read_csv(\"/datasets/calls.csv\")\n",
    "internet = pd.read_csv(\"/datasets/internet.csv\")\n",
    "messages = pd.read_csv(\"/datasets/messages.csv\")\n",
    "tariffs = pd.read_csv(\"/datasets/tariffs.csv\")\n",
    "users = pd.read_csv(\"/datasets/users.csv\")"
   ]
  },
  {
   "cell_type": "code",
   "execution_count": 3,
   "metadata": {},
   "outputs": [
    {
     "name": "stdout",
     "output_type": "stream",
     "text": [
      "<class 'pandas.core.frame.DataFrame'>\n",
      "RangeIndex: 202607 entries, 0 to 202606\n",
      "Data columns (total 4 columns):\n",
      "id           202607 non-null object\n",
      "call_date    202607 non-null object\n",
      "duration     202607 non-null float64\n",
      "user_id      202607 non-null int64\n",
      "dtypes: float64(1), int64(1), object(2)\n",
      "memory usage: 6.2+ MB\n"
     ]
    }
   ],
   "source": [
    "calls.info()"
   ]
  },
  {
   "cell_type": "code",
   "execution_count": 4,
   "metadata": {
    "scrolled": true
   },
   "outputs": [
    {
     "data": {
      "text/html": [
       "<div>\n",
       "<style scoped>\n",
       "    .dataframe tbody tr th:only-of-type {\n",
       "        vertical-align: middle;\n",
       "    }\n",
       "\n",
       "    .dataframe tbody tr th {\n",
       "        vertical-align: top;\n",
       "    }\n",
       "\n",
       "    .dataframe thead th {\n",
       "        text-align: right;\n",
       "    }\n",
       "</style>\n",
       "<table border=\"1\" class=\"dataframe\">\n",
       "  <thead>\n",
       "    <tr style=\"text-align: right;\">\n",
       "      <th></th>\n",
       "      <th>id</th>\n",
       "      <th>call_date</th>\n",
       "      <th>duration</th>\n",
       "      <th>user_id</th>\n",
       "    </tr>\n",
       "  </thead>\n",
       "  <tbody>\n",
       "    <tr>\n",
       "      <td>44710</td>\n",
       "      <td>1113_126</td>\n",
       "      <td>2018-02-07</td>\n",
       "      <td>17.17</td>\n",
       "      <td>1113</td>\n",
       "    </tr>\n",
       "    <tr>\n",
       "      <td>182315</td>\n",
       "      <td>1454_67</td>\n",
       "      <td>2018-09-20</td>\n",
       "      <td>19.38</td>\n",
       "      <td>1454</td>\n",
       "    </tr>\n",
       "    <tr>\n",
       "      <td>53478</td>\n",
       "      <td>1134_539</td>\n",
       "      <td>2018-05-10</td>\n",
       "      <td>6.64</td>\n",
       "      <td>1134</td>\n",
       "    </tr>\n",
       "    <tr>\n",
       "      <td>128274</td>\n",
       "      <td>1330_138</td>\n",
       "      <td>2018-06-27</td>\n",
       "      <td>15.04</td>\n",
       "      <td>1330</td>\n",
       "    </tr>\n",
       "    <tr>\n",
       "      <td>191113</td>\n",
       "      <td>1470_72</td>\n",
       "      <td>2018-11-02</td>\n",
       "      <td>0.00</td>\n",
       "      <td>1470</td>\n",
       "    </tr>\n",
       "  </tbody>\n",
       "</table>\n",
       "</div>"
      ],
      "text/plain": [
       "              id   call_date  duration  user_id\n",
       "44710   1113_126  2018-02-07     17.17     1113\n",
       "182315   1454_67  2018-09-20     19.38     1454\n",
       "53478   1134_539  2018-05-10      6.64     1134\n",
       "128274  1330_138  2018-06-27     15.04     1330\n",
       "191113   1470_72  2018-11-02      0.00     1470"
      ]
     },
     "execution_count": 4,
     "metadata": {},
     "output_type": "execute_result"
    }
   ],
   "source": [
    "calls.sample(5)"
   ]
  },
  {
   "cell_type": "code",
   "execution_count": 5,
   "metadata": {
    "scrolled": true
   },
   "outputs": [
    {
     "name": "stdout",
     "output_type": "stream",
     "text": [
      "<class 'pandas.core.frame.DataFrame'>\n",
      "RangeIndex: 149396 entries, 0 to 149395\n",
      "Data columns (total 5 columns):\n",
      "Unnamed: 0      149396 non-null int64\n",
      "id              149396 non-null object\n",
      "mb_used         149396 non-null float64\n",
      "session_date    149396 non-null object\n",
      "user_id         149396 non-null int64\n",
      "dtypes: float64(1), int64(2), object(2)\n",
      "memory usage: 5.7+ MB\n"
     ]
    },
    {
     "data": {
      "text/html": [
       "<div>\n",
       "<style scoped>\n",
       "    .dataframe tbody tr th:only-of-type {\n",
       "        vertical-align: middle;\n",
       "    }\n",
       "\n",
       "    .dataframe tbody tr th {\n",
       "        vertical-align: top;\n",
       "    }\n",
       "\n",
       "    .dataframe thead th {\n",
       "        text-align: right;\n",
       "    }\n",
       "</style>\n",
       "<table border=\"1\" class=\"dataframe\">\n",
       "  <thead>\n",
       "    <tr style=\"text-align: right;\">\n",
       "      <th></th>\n",
       "      <th>Unnamed: 0</th>\n",
       "      <th>id</th>\n",
       "      <th>mb_used</th>\n",
       "      <th>session_date</th>\n",
       "      <th>user_id</th>\n",
       "    </tr>\n",
       "  </thead>\n",
       "  <tbody>\n",
       "    <tr>\n",
       "      <td>32767</td>\n",
       "      <td>32767</td>\n",
       "      <td>1114_164</td>\n",
       "      <td>1026.84</td>\n",
       "      <td>2018-12-04</td>\n",
       "      <td>1114</td>\n",
       "    </tr>\n",
       "    <tr>\n",
       "      <td>41352</td>\n",
       "      <td>41352</td>\n",
       "      <td>1145_88</td>\n",
       "      <td>0.00</td>\n",
       "      <td>2018-04-17</td>\n",
       "      <td>1145</td>\n",
       "    </tr>\n",
       "    <tr>\n",
       "      <td>49586</td>\n",
       "      <td>49586</td>\n",
       "      <td>1171_288</td>\n",
       "      <td>518.90</td>\n",
       "      <td>2018-12-17</td>\n",
       "      <td>1171</td>\n",
       "    </tr>\n",
       "    <tr>\n",
       "      <td>136081</td>\n",
       "      <td>136081</td>\n",
       "      <td>1456_230</td>\n",
       "      <td>145.43</td>\n",
       "      <td>2018-09-20</td>\n",
       "      <td>1456</td>\n",
       "    </tr>\n",
       "    <tr>\n",
       "      <td>5042</td>\n",
       "      <td>5042</td>\n",
       "      <td>1015_50</td>\n",
       "      <td>438.71</td>\n",
       "      <td>2018-08-15</td>\n",
       "      <td>1015</td>\n",
       "    </tr>\n",
       "  </tbody>\n",
       "</table>\n",
       "</div>"
      ],
      "text/plain": [
       "        Unnamed: 0        id  mb_used session_date  user_id\n",
       "32767        32767  1114_164  1026.84   2018-12-04     1114\n",
       "41352        41352   1145_88     0.00   2018-04-17     1145\n",
       "49586        49586  1171_288   518.90   2018-12-17     1171\n",
       "136081      136081  1456_230   145.43   2018-09-20     1456\n",
       "5042          5042   1015_50   438.71   2018-08-15     1015"
      ]
     },
     "metadata": {},
     "output_type": "display_data"
    },
    {
     "data": {
      "text/html": [
       "<div>\n",
       "<style scoped>\n",
       "    .dataframe tbody tr th:only-of-type {\n",
       "        vertical-align: middle;\n",
       "    }\n",
       "\n",
       "    .dataframe tbody tr th {\n",
       "        vertical-align: top;\n",
       "    }\n",
       "\n",
       "    .dataframe thead th {\n",
       "        text-align: right;\n",
       "    }\n",
       "</style>\n",
       "<table border=\"1\" class=\"dataframe\">\n",
       "  <thead>\n",
       "    <tr style=\"text-align: right;\">\n",
       "      <th></th>\n",
       "      <th>Unnamed: 0</th>\n",
       "      <th>mb_used</th>\n",
       "      <th>user_id</th>\n",
       "    </tr>\n",
       "  </thead>\n",
       "  <tbody>\n",
       "    <tr>\n",
       "      <td>count</td>\n",
       "      <td>149396.000000</td>\n",
       "      <td>149396.000000</td>\n",
       "      <td>149396.000000</td>\n",
       "    </tr>\n",
       "    <tr>\n",
       "      <td>mean</td>\n",
       "      <td>74697.500000</td>\n",
       "      <td>370.192426</td>\n",
       "      <td>1252.099842</td>\n",
       "    </tr>\n",
       "    <tr>\n",
       "      <td>std</td>\n",
       "      <td>43127.054745</td>\n",
       "      <td>278.300951</td>\n",
       "      <td>144.050823</td>\n",
       "    </tr>\n",
       "    <tr>\n",
       "      <td>min</td>\n",
       "      <td>0.000000</td>\n",
       "      <td>0.000000</td>\n",
       "      <td>1000.000000</td>\n",
       "    </tr>\n",
       "    <tr>\n",
       "      <td>25%</td>\n",
       "      <td>37348.750000</td>\n",
       "      <td>138.187500</td>\n",
       "      <td>1130.000000</td>\n",
       "    </tr>\n",
       "    <tr>\n",
       "      <td>50%</td>\n",
       "      <td>74697.500000</td>\n",
       "      <td>348.015000</td>\n",
       "      <td>1251.000000</td>\n",
       "    </tr>\n",
       "    <tr>\n",
       "      <td>75%</td>\n",
       "      <td>112046.250000</td>\n",
       "      <td>559.552500</td>\n",
       "      <td>1380.000000</td>\n",
       "    </tr>\n",
       "    <tr>\n",
       "      <td>max</td>\n",
       "      <td>149395.000000</td>\n",
       "      <td>1724.830000</td>\n",
       "      <td>1499.000000</td>\n",
       "    </tr>\n",
       "  </tbody>\n",
       "</table>\n",
       "</div>"
      ],
      "text/plain": [
       "          Unnamed: 0        mb_used        user_id\n",
       "count  149396.000000  149396.000000  149396.000000\n",
       "mean    74697.500000     370.192426    1252.099842\n",
       "std     43127.054745     278.300951     144.050823\n",
       "min         0.000000       0.000000    1000.000000\n",
       "25%     37348.750000     138.187500    1130.000000\n",
       "50%     74697.500000     348.015000    1251.000000\n",
       "75%    112046.250000     559.552500    1380.000000\n",
       "max    149395.000000    1724.830000    1499.000000"
      ]
     },
     "execution_count": 5,
     "metadata": {},
     "output_type": "execute_result"
    }
   ],
   "source": [
    "internet.info()\n",
    "display(internet.sample(5))\n",
    "internet.describe()"
   ]
  },
  {
   "cell_type": "markdown",
   "metadata": {},
   "source": [
    "Замечаем лишний столбец Unnamed:0. Вероятно произошла техническая ошибка и индексы продублировались в этом столбце, проверим это. Сравнив индекс со значением столбца."
   ]
  },
  {
   "cell_type": "markdown",
   "metadata": {},
   "source": [
    "<div class=\"alert alert-block alert-success\">\n",
    "<b>✔️ Success:</b> \n",
    "    \n",
    "верно, можем этот столбец при открытии csv файла использовать как столбец индексов"
   ]
  },
  {
   "cell_type": "code",
   "execution_count": 6,
   "metadata": {
    "scrolled": true
   },
   "outputs": [
    {
     "name": "stdout",
     "output_type": "stream",
     "text": [
      "данные идентичны\n"
     ]
    }
   ],
   "source": [
    "for i in internet.index:\n",
    "    if i != internet['Unnamed: 0'][i]:\n",
    "        print('данные не совпадают')\n",
    "else:\n",
    "    print('данные идентичны')"
   ]
  },
  {
   "cell_type": "markdown",
   "metadata": {},
   "source": [
    "Данные одинаковые, удалим столбец `Unnamed: 0`"
   ]
  },
  {
   "cell_type": "code",
   "execution_count": 7,
   "metadata": {},
   "outputs": [],
   "source": [
    "internet = internet.drop('Unnamed: 0',1)"
   ]
  },
  {
   "cell_type": "code",
   "execution_count": 8,
   "metadata": {
    "scrolled": true
   },
   "outputs": [
    {
     "name": "stdout",
     "output_type": "stream",
     "text": [
      "<class 'pandas.core.frame.DataFrame'>\n",
      "RangeIndex: 149396 entries, 0 to 149395\n",
      "Data columns (total 4 columns):\n",
      "id              149396 non-null object\n",
      "mb_used         149396 non-null float64\n",
      "session_date    149396 non-null object\n",
      "user_id         149396 non-null int64\n",
      "dtypes: float64(1), int64(1), object(2)\n",
      "memory usage: 4.6+ MB\n"
     ]
    }
   ],
   "source": [
    "internet.info()"
   ]
  },
  {
   "cell_type": "code",
   "execution_count": 9,
   "metadata": {},
   "outputs": [
    {
     "name": "stdout",
     "output_type": "stream",
     "text": [
      "<class 'pandas.core.frame.DataFrame'>\n",
      "RangeIndex: 123036 entries, 0 to 123035\n",
      "Data columns (total 3 columns):\n",
      "id              123036 non-null object\n",
      "message_date    123036 non-null object\n",
      "user_id         123036 non-null int64\n",
      "dtypes: int64(1), object(2)\n",
      "memory usage: 2.8+ MB\n"
     ]
    },
    {
     "data": {
      "text/html": [
       "<div>\n",
       "<style scoped>\n",
       "    .dataframe tbody tr th:only-of-type {\n",
       "        vertical-align: middle;\n",
       "    }\n",
       "\n",
       "    .dataframe tbody tr th {\n",
       "        vertical-align: top;\n",
       "    }\n",
       "\n",
       "    .dataframe thead th {\n",
       "        text-align: right;\n",
       "    }\n",
       "</style>\n",
       "<table border=\"1\" class=\"dataframe\">\n",
       "  <thead>\n",
       "    <tr style=\"text-align: right;\">\n",
       "      <th></th>\n",
       "      <th>id</th>\n",
       "      <th>message_date</th>\n",
       "      <th>user_id</th>\n",
       "    </tr>\n",
       "  </thead>\n",
       "  <tbody>\n",
       "    <tr>\n",
       "      <td>43227</td>\n",
       "      <td>1186_640</td>\n",
       "      <td>2018-09-15</td>\n",
       "      <td>1186</td>\n",
       "    </tr>\n",
       "    <tr>\n",
       "      <td>108290</td>\n",
       "      <td>1433_897</td>\n",
       "      <td>2018-06-28</td>\n",
       "      <td>1433</td>\n",
       "    </tr>\n",
       "    <tr>\n",
       "      <td>99526</td>\n",
       "      <td>1407_30</td>\n",
       "      <td>2018-10-29</td>\n",
       "      <td>1407</td>\n",
       "    </tr>\n",
       "    <tr>\n",
       "      <td>28121</td>\n",
       "      <td>1121_248</td>\n",
       "      <td>2018-11-08</td>\n",
       "      <td>1121</td>\n",
       "    </tr>\n",
       "    <tr>\n",
       "      <td>119011</td>\n",
       "      <td>1482_573</td>\n",
       "      <td>2018-10-07</td>\n",
       "      <td>1482</td>\n",
       "    </tr>\n",
       "  </tbody>\n",
       "</table>\n",
       "</div>"
      ],
      "text/plain": [
       "              id message_date  user_id\n",
       "43227   1186_640   2018-09-15     1186\n",
       "108290  1433_897   2018-06-28     1433\n",
       "99526    1407_30   2018-10-29     1407\n",
       "28121   1121_248   2018-11-08     1121\n",
       "119011  1482_573   2018-10-07     1482"
      ]
     },
     "metadata": {},
     "output_type": "display_data"
    },
    {
     "data": {
      "text/html": [
       "<div>\n",
       "<style scoped>\n",
       "    .dataframe tbody tr th:only-of-type {\n",
       "        vertical-align: middle;\n",
       "    }\n",
       "\n",
       "    .dataframe tbody tr th {\n",
       "        vertical-align: top;\n",
       "    }\n",
       "\n",
       "    .dataframe thead th {\n",
       "        text-align: right;\n",
       "    }\n",
       "</style>\n",
       "<table border=\"1\" class=\"dataframe\">\n",
       "  <thead>\n",
       "    <tr style=\"text-align: right;\">\n",
       "      <th></th>\n",
       "      <th>user_id</th>\n",
       "    </tr>\n",
       "  </thead>\n",
       "  <tbody>\n",
       "    <tr>\n",
       "      <td>count</td>\n",
       "      <td>123036.000000</td>\n",
       "    </tr>\n",
       "    <tr>\n",
       "      <td>mean</td>\n",
       "      <td>1256.989410</td>\n",
       "    </tr>\n",
       "    <tr>\n",
       "      <td>std</td>\n",
       "      <td>143.523967</td>\n",
       "    </tr>\n",
       "    <tr>\n",
       "      <td>min</td>\n",
       "      <td>1000.000000</td>\n",
       "    </tr>\n",
       "    <tr>\n",
       "      <td>25%</td>\n",
       "      <td>1134.000000</td>\n",
       "    </tr>\n",
       "    <tr>\n",
       "      <td>50%</td>\n",
       "      <td>1271.000000</td>\n",
       "    </tr>\n",
       "    <tr>\n",
       "      <td>75%</td>\n",
       "      <td>1381.000000</td>\n",
       "    </tr>\n",
       "    <tr>\n",
       "      <td>max</td>\n",
       "      <td>1499.000000</td>\n",
       "    </tr>\n",
       "  </tbody>\n",
       "</table>\n",
       "</div>"
      ],
      "text/plain": [
       "             user_id\n",
       "count  123036.000000\n",
       "mean     1256.989410\n",
       "std       143.523967\n",
       "min      1000.000000\n",
       "25%      1134.000000\n",
       "50%      1271.000000\n",
       "75%      1381.000000\n",
       "max      1499.000000"
      ]
     },
     "execution_count": 9,
     "metadata": {},
     "output_type": "execute_result"
    }
   ],
   "source": [
    "messages.info()\n",
    "display(messages.sample(5))\n",
    "messages.describe()"
   ]
  },
  {
   "cell_type": "markdown",
   "metadata": {},
   "source": [
    "В датафрейме аномалии не прослеживаются. Конвертируем дату в формат `datetime` на следующем этапе."
   ]
  },
  {
   "cell_type": "code",
   "execution_count": 10,
   "metadata": {},
   "outputs": [
    {
     "name": "stdout",
     "output_type": "stream",
     "text": [
      "<class 'pandas.core.frame.DataFrame'>\n",
      "RangeIndex: 2 entries, 0 to 1\n",
      "Data columns (total 8 columns):\n",
      "messages_included        2 non-null int64\n",
      "mb_per_month_included    2 non-null int64\n",
      "minutes_included         2 non-null int64\n",
      "rub_monthly_fee          2 non-null int64\n",
      "rub_per_gb               2 non-null int64\n",
      "rub_per_message          2 non-null int64\n",
      "rub_per_minute           2 non-null int64\n",
      "tariff_name              2 non-null object\n",
      "dtypes: int64(7), object(1)\n",
      "memory usage: 256.0+ bytes\n"
     ]
    },
    {
     "data": {
      "text/html": [
       "<div>\n",
       "<style scoped>\n",
       "    .dataframe tbody tr th:only-of-type {\n",
       "        vertical-align: middle;\n",
       "    }\n",
       "\n",
       "    .dataframe tbody tr th {\n",
       "        vertical-align: top;\n",
       "    }\n",
       "\n",
       "    .dataframe thead th {\n",
       "        text-align: right;\n",
       "    }\n",
       "</style>\n",
       "<table border=\"1\" class=\"dataframe\">\n",
       "  <thead>\n",
       "    <tr style=\"text-align: right;\">\n",
       "      <th></th>\n",
       "      <th>messages_included</th>\n",
       "      <th>mb_per_month_included</th>\n",
       "      <th>minutes_included</th>\n",
       "      <th>rub_monthly_fee</th>\n",
       "      <th>rub_per_gb</th>\n",
       "      <th>rub_per_message</th>\n",
       "      <th>rub_per_minute</th>\n",
       "      <th>tariff_name</th>\n",
       "    </tr>\n",
       "  </thead>\n",
       "  <tbody>\n",
       "    <tr>\n",
       "      <td>0</td>\n",
       "      <td>50</td>\n",
       "      <td>15360</td>\n",
       "      <td>500</td>\n",
       "      <td>550</td>\n",
       "      <td>200</td>\n",
       "      <td>3</td>\n",
       "      <td>3</td>\n",
       "      <td>smart</td>\n",
       "    </tr>\n",
       "    <tr>\n",
       "      <td>1</td>\n",
       "      <td>1000</td>\n",
       "      <td>30720</td>\n",
       "      <td>3000</td>\n",
       "      <td>1950</td>\n",
       "      <td>150</td>\n",
       "      <td>1</td>\n",
       "      <td>1</td>\n",
       "      <td>ultra</td>\n",
       "    </tr>\n",
       "  </tbody>\n",
       "</table>\n",
       "</div>"
      ],
      "text/plain": [
       "   messages_included  mb_per_month_included  minutes_included  \\\n",
       "0                 50                  15360               500   \n",
       "1               1000                  30720              3000   \n",
       "\n",
       "   rub_monthly_fee  rub_per_gb  rub_per_message  rub_per_minute tariff_name  \n",
       "0              550         200                3               3       smart  \n",
       "1             1950         150                1               1       ultra  "
      ]
     },
     "metadata": {},
     "output_type": "display_data"
    }
   ],
   "source": [
    "tariffs.info()\n",
    "display(tariffs)"
   ]
  },
  {
   "cell_type": "markdown",
   "metadata": {},
   "source": [
    "С тарифами все в порядке"
   ]
  },
  {
   "cell_type": "code",
   "execution_count": 11,
   "metadata": {},
   "outputs": [
    {
     "name": "stdout",
     "output_type": "stream",
     "text": [
      "<class 'pandas.core.frame.DataFrame'>\n",
      "RangeIndex: 500 entries, 0 to 499\n",
      "Data columns (total 8 columns):\n",
      "user_id       500 non-null int64\n",
      "age           500 non-null int64\n",
      "churn_date    38 non-null object\n",
      "city          500 non-null object\n",
      "first_name    500 non-null object\n",
      "last_name     500 non-null object\n",
      "reg_date      500 non-null object\n",
      "tariff        500 non-null object\n",
      "dtypes: int64(2), object(6)\n",
      "memory usage: 31.4+ KB\n"
     ]
    },
    {
     "data": {
      "text/html": [
       "<div>\n",
       "<style scoped>\n",
       "    .dataframe tbody tr th:only-of-type {\n",
       "        vertical-align: middle;\n",
       "    }\n",
       "\n",
       "    .dataframe tbody tr th {\n",
       "        vertical-align: top;\n",
       "    }\n",
       "\n",
       "    .dataframe thead th {\n",
       "        text-align: right;\n",
       "    }\n",
       "</style>\n",
       "<table border=\"1\" class=\"dataframe\">\n",
       "  <thead>\n",
       "    <tr style=\"text-align: right;\">\n",
       "      <th></th>\n",
       "      <th>user_id</th>\n",
       "      <th>age</th>\n",
       "      <th>churn_date</th>\n",
       "      <th>city</th>\n",
       "      <th>first_name</th>\n",
       "      <th>last_name</th>\n",
       "      <th>reg_date</th>\n",
       "      <th>tariff</th>\n",
       "    </tr>\n",
       "  </thead>\n",
       "  <tbody>\n",
       "    <tr>\n",
       "      <td>34</td>\n",
       "      <td>1034</td>\n",
       "      <td>66</td>\n",
       "      <td>2018-11-21</td>\n",
       "      <td>Вологда</td>\n",
       "      <td>Святослав</td>\n",
       "      <td>Бондарев</td>\n",
       "      <td>2018-08-26</td>\n",
       "      <td>smart</td>\n",
       "    </tr>\n",
       "    <tr>\n",
       "      <td>411</td>\n",
       "      <td>1411</td>\n",
       "      <td>36</td>\n",
       "      <td>NaN</td>\n",
       "      <td>Грозный</td>\n",
       "      <td>Берта</td>\n",
       "      <td>Прокофьева</td>\n",
       "      <td>2018-07-13</td>\n",
       "      <td>smart</td>\n",
       "    </tr>\n",
       "    <tr>\n",
       "      <td>171</td>\n",
       "      <td>1171</td>\n",
       "      <td>47</td>\n",
       "      <td>NaN</td>\n",
       "      <td>Москва</td>\n",
       "      <td>Каролина</td>\n",
       "      <td>Иванова</td>\n",
       "      <td>2018-03-20</td>\n",
       "      <td>smart</td>\n",
       "    </tr>\n",
       "    <tr>\n",
       "      <td>133</td>\n",
       "      <td>1133</td>\n",
       "      <td>70</td>\n",
       "      <td>NaN</td>\n",
       "      <td>Барнаул</td>\n",
       "      <td>Надежда</td>\n",
       "      <td>Аникина</td>\n",
       "      <td>2018-10-19</td>\n",
       "      <td>smart</td>\n",
       "    </tr>\n",
       "    <tr>\n",
       "      <td>170</td>\n",
       "      <td>1170</td>\n",
       "      <td>69</td>\n",
       "      <td>NaN</td>\n",
       "      <td>Новосибирск</td>\n",
       "      <td>Вадим</td>\n",
       "      <td>Козлов</td>\n",
       "      <td>2018-12-20</td>\n",
       "      <td>smart</td>\n",
       "    </tr>\n",
       "  </tbody>\n",
       "</table>\n",
       "</div>"
      ],
      "text/plain": [
       "     user_id  age  churn_date         city first_name   last_name    reg_date  \\\n",
       "34      1034   66  2018-11-21      Вологда  Святослав    Бондарев  2018-08-26   \n",
       "411     1411   36         NaN      Грозный      Берта  Прокофьева  2018-07-13   \n",
       "171     1171   47         NaN       Москва   Каролина     Иванова  2018-03-20   \n",
       "133     1133   70         NaN      Барнаул    Надежда     Аникина  2018-10-19   \n",
       "170     1170   69         NaN  Новосибирск      Вадим      Козлов  2018-12-20   \n",
       "\n",
       "    tariff  \n",
       "34   smart  \n",
       "411  smart  \n",
       "171  smart  \n",
       "133  smart  \n",
       "170  smart  "
      ]
     },
     "metadata": {},
     "output_type": "display_data"
    },
    {
     "data": {
      "text/html": [
       "<div>\n",
       "<style scoped>\n",
       "    .dataframe tbody tr th:only-of-type {\n",
       "        vertical-align: middle;\n",
       "    }\n",
       "\n",
       "    .dataframe tbody tr th {\n",
       "        vertical-align: top;\n",
       "    }\n",
       "\n",
       "    .dataframe thead th {\n",
       "        text-align: right;\n",
       "    }\n",
       "</style>\n",
       "<table border=\"1\" class=\"dataframe\">\n",
       "  <thead>\n",
       "    <tr style=\"text-align: right;\">\n",
       "      <th></th>\n",
       "      <th>user_id</th>\n",
       "      <th>age</th>\n",
       "    </tr>\n",
       "  </thead>\n",
       "  <tbody>\n",
       "    <tr>\n",
       "      <td>count</td>\n",
       "      <td>500.000000</td>\n",
       "      <td>500.00000</td>\n",
       "    </tr>\n",
       "    <tr>\n",
       "      <td>mean</td>\n",
       "      <td>1249.500000</td>\n",
       "      <td>46.58800</td>\n",
       "    </tr>\n",
       "    <tr>\n",
       "      <td>std</td>\n",
       "      <td>144.481833</td>\n",
       "      <td>16.66763</td>\n",
       "    </tr>\n",
       "    <tr>\n",
       "      <td>min</td>\n",
       "      <td>1000.000000</td>\n",
       "      <td>18.00000</td>\n",
       "    </tr>\n",
       "    <tr>\n",
       "      <td>25%</td>\n",
       "      <td>1124.750000</td>\n",
       "      <td>32.00000</td>\n",
       "    </tr>\n",
       "    <tr>\n",
       "      <td>50%</td>\n",
       "      <td>1249.500000</td>\n",
       "      <td>46.00000</td>\n",
       "    </tr>\n",
       "    <tr>\n",
       "      <td>75%</td>\n",
       "      <td>1374.250000</td>\n",
       "      <td>62.00000</td>\n",
       "    </tr>\n",
       "    <tr>\n",
       "      <td>max</td>\n",
       "      <td>1499.000000</td>\n",
       "      <td>75.00000</td>\n",
       "    </tr>\n",
       "  </tbody>\n",
       "</table>\n",
       "</div>"
      ],
      "text/plain": [
       "           user_id        age\n",
       "count   500.000000  500.00000\n",
       "mean   1249.500000   46.58800\n",
       "std     144.481833   16.66763\n",
       "min    1000.000000   18.00000\n",
       "25%    1124.750000   32.00000\n",
       "50%    1249.500000   46.00000\n",
       "75%    1374.250000   62.00000\n",
       "max    1499.000000   75.00000"
      ]
     },
     "execution_count": 11,
     "metadata": {},
     "output_type": "execute_result"
    }
   ],
   "source": [
    "users.info()\n",
    "display(users.sample(5))\n",
    "users.describe()"
   ]
  },
  {
   "cell_type": "code",
   "execution_count": 12,
   "metadata": {},
   "outputs": [
    {
     "data": {
      "text/plain": [
       "array(['ultra', 'smart'], dtype=object)"
      ]
     },
     "execution_count": 12,
     "metadata": {},
     "output_type": "execute_result"
    }
   ],
   "source": [
    "users['tariff'].unique()"
   ]
  },
  {
   "cell_type": "markdown",
   "metadata": {},
   "source": [
    "Данные во всех столбцах кроме столбца `churn_date` Не вызывают опасений. Заполним пропуски и конвертируем даты в `datetime` на следующем этапе."
   ]
  },
  {
   "cell_type": "markdown",
   "metadata": {},
   "source": [
    "### Вывод"
   ]
  },
  {
   "cell_type": "markdown",
   "metadata": {},
   "source": [
    "Ознакомились с данными. Обнаружили столбец `Unnamed: 0` в таблице internet, его данные полностью дублировали индекс датафрейма, удалили этот столбец.\n",
    "\n",
    "Обнаружили в данных неверные типы данных в столбцах:\n",
    "* `call_date` в датафрейме calls\n",
    "* `message_date` в messages\n",
    "* `reg_date` и `churn_date` в users, также нашли пропуски в столбце `churn_date`."
   ]
  },
  {
   "cell_type": "markdown",
   "metadata": {},
   "source": [
    "<div class=\"alert alert-block alert-success\">\n",
    "<b>✔️ Success:</b> \n",
    "    \n",
    "отличный обзор данных!"
   ]
  },
  {
   "cell_type": "markdown",
   "metadata": {},
   "source": [
    "## Подготовка данных"
   ]
  },
  {
   "cell_type": "markdown",
   "metadata": {},
   "source": [
    "[в начало](#home)"
   ]
  },
  {
   "cell_type": "markdown",
   "metadata": {},
   "source": [
    "Переведем столбцы с датой формат `datetime`"
   ]
  },
  {
   "cell_type": "code",
   "execution_count": 13,
   "metadata": {},
   "outputs": [],
   "source": [
    "calls['call_date'] = pd.to_datetime(calls['call_date'])\n",
    "messages['message_date'] = pd.to_datetime(messages['message_date'])\n",
    "internet['session_date'] = pd.to_datetime(internet['session_date'])\n",
    "users['reg_date'] = pd.to_datetime(users['reg_date'])\n",
    "users['churn_date'] = pd.to_datetime(users['churn_date'])\n"
   ]
  },
  {
   "cell_type": "markdown",
   "metadata": {},
   "source": [
    "<div class=\"alert alert-block alert-warning\">\n",
    "<b>⚠️ Remarks:</b> \n",
    "    \n",
    "Потенциал для эффективного изменения типов тут очень широк.\n",
    "    \n",
    "Давай я дам тебе две классные статьи, а ты попробуешь изменить типы данных на еще более подходящие и замеришь, сколько памяти в % ты сэкономишь:\n",
    "    \n",
    "https://pyprog.pro/data_types.html\n",
    "    \n",
    "https://habr.com/ru/company/ruvds/blog/442516/"
   ]
  },
  {
   "cell_type": "markdown",
   "metadata": {},
   "source": [
    "<div class=\"alert alert-block alert-info\">\n",
    "<b>💾 Fixed:</b> \n",
    "Большое спасибо! Отличные статьи, изменил типы данных и измерил сэкономленную память ниже.\n",
    "</div>"
   ]
  },
  {
   "cell_type": "markdown",
   "metadata": {},
   "source": [
    "<div class=\"alert alert-block alert-success\">\n",
    "рад, что тебе понравилось :) в больших датасетах будет полезным навыком)"
   ]
  },
  {
   "cell_type": "markdown",
   "metadata": {},
   "source": [
    "Оптимизируем использование памяти. Замерим результаты оптимизации с помощью функции."
   ]
  },
  {
   "cell_type": "code",
   "execution_count": 14,
   "metadata": {},
   "outputs": [],
   "source": [
    "def mem_usage(pandas_obj):\n",
    "    if isinstance(pandas_obj,pd.DataFrame):\n",
    "        usage_b = pandas_obj.memory_usage(deep=True).sum()\n",
    "    else: # исходим из предположения о том, что если это не DataFrame, то это Series\n",
    "        usage_b = pandas_obj.memory_usage(deep=True)\n",
    "    usage_mb = usage_b / 1024 ** 2 # преобразуем байты в мегабайты\n",
    "    return usage_mb"
   ]
  },
  {
   "cell_type": "code",
   "execution_count": 15,
   "metadata": {},
   "outputs": [
    {
     "name": "stdout",
     "output_type": "stream",
     "text": [
      "Датафреймы занимают 39.43 мб. памяти\n"
     ]
    }
   ],
   "source": [
    "all_frames = [calls,internet,messages,tariffs,users]\n",
    "memory = 0\n",
    "for i in all_frames:\n",
    "    memory += mem_usage(i)\n",
    "mem_before = memory.round(2) \n",
    "print(f'Датафреймы занимают {mem_before} мб. памяти')"
   ]
  },
  {
   "cell_type": "markdown",
   "metadata": {},
   "source": [
    "Преобразуем \n",
    "столбцы в оптимальные типы данных."
   ]
  },
  {
   "cell_type": "code",
   "execution_count": 16,
   "metadata": {},
   "outputs": [],
   "source": [
    "calls['user_id'] = calls['user_id'].astype('int16')\n",
    "calls['duration'] = calls['duration'].astype('float16')\n",
    "internet['user_id'] = internet['user_id'].astype('int16')\n",
    "internet['mb_used'] = internet['mb_used'].astype('float16')\n",
    "messages['user_id'] = messages['user_id'].astype('int16')\n",
    "users['user_id'] = users['user_id'].astype('int16')\n",
    "users['age'] = users['age'].astype('int8')\n",
    "users['tariff'] = users['tariff'].astype('category')"
   ]
  },
  {
   "cell_type": "code",
   "execution_count": 17,
   "metadata": {},
   "outputs": [
    {
     "name": "stdout",
     "output_type": "stream",
     "text": [
      "Датафреймы занимают 34.67 мб. памяти\n"
     ]
    }
   ],
   "source": [
    "memory = 0\n",
    "for i in all_frames:\n",
    "    memory += mem_usage(i)\n",
    "    \n",
    "mem_after = memory.round(2)\n",
    "print (f'Датафреймы занимают {mem_after} мб. памяти')"
   ]
  },
  {
   "cell_type": "code",
   "execution_count": 18,
   "metadata": {},
   "outputs": [
    {
     "name": "stdout",
     "output_type": "stream",
     "text": [
      "удалось сохранить 12.069999999999993% памяти\n"
     ]
    }
   ],
   "source": [
    "print(f'удалось сохранить {100 - (mem_after/(mem_before/100)).round(2)}% памяти')"
   ]
  },
  {
   "cell_type": "markdown",
   "metadata": {},
   "source": [
    "Добавим в датафреймы, в которых есть дата столбцы с годом, месяцем и числом."
   ]
  },
  {
   "cell_type": "code",
   "execution_count": 19,
   "metadata": {},
   "outputs": [],
   "source": [
    "calls['year'] = calls['call_date'].dt.year\n",
    "calls['month'] = calls['call_date'].dt.month\n",
    "calls['day'] = calls['call_date'].dt.day\n",
    "messages['year'] = messages['message_date'].dt.year\n",
    "messages['month'] = messages['message_date'].dt.month\n",
    "messages['day'] = messages['message_date'].dt.day\n",
    "internet['year'] = internet['session_date'].dt.year\n",
    "internet['month'] = internet['session_date'].dt.month\n",
    "internet['day'] = internet['session_date'].dt.day"
   ]
  },
  {
   "cell_type": "markdown",
   "metadata": {},
   "source": [
    "Проверим относятся ли все данные к одному году."
   ]
  },
  {
   "cell_type": "code",
   "execution_count": 20,
   "metadata": {
    "scrolled": true
   },
   "outputs": [
    {
     "data": {
      "text/plain": [
       "array([2018])"
      ]
     },
     "execution_count": 20,
     "metadata": {},
     "output_type": "execute_result"
    }
   ],
   "source": [
    "calls['year'].unique()"
   ]
  },
  {
   "cell_type": "markdown",
   "metadata": {},
   "source": [
    "Все данные относятся к 2018 году"
   ]
  },
  {
   "cell_type": "markdown",
   "metadata": {},
   "source": [
    "<div class=\"alert alert-block alert-success\">\n",
    "<b>✔️ Success:</b> \n",
    "    \n",
    "замечательно :)"
   ]
  },
  {
   "cell_type": "markdown",
   "metadata": {},
   "source": [
    "Обратим внимания что в тарифе указаны минуты и гигабайты, округлим столбец длительности звонка. Нулями обозначены пропущенные звонки, оставим их в датафрейме."
   ]
  },
  {
   "cell_type": "code",
   "execution_count": 21,
   "metadata": {},
   "outputs": [],
   "source": [
    "calls = calls.dropna(subset=['duration']).reset_index(drop=True)"
   ]
  },
  {
   "cell_type": "code",
   "execution_count": 22,
   "metadata": {
    "scrolled": true
   },
   "outputs": [],
   "source": [
    "calls['duration'] = calls['duration'].apply(np.ceil)"
   ]
  },
  {
   "cell_type": "markdown",
   "metadata": {},
   "source": [
    "<div class=\"alert alert-block alert-warning\">\n",
    "<b>⚠️ Remarks:</b> что думаешь насчет нулевых звонков?"
   ]
  },
  {
   "cell_type": "markdown",
   "metadata": {},
   "source": [
    "<div class=\"alert alert-block alert-info\">\n",
    "<b>💾 Fixed:</b> \n",
    "Нулем обозначены пропущенные звонки, они могли бы изменить среднее значение, но функция `count` по умолчанию подсчитывает только ненулевые значения, и при подсчет суммы потраченных минут значения не изменятся. Но поскольку звонки с длительностью 0с. бесплатны, эти значения мы можем убрать. Убрал их выше.\n",
    "</div>"
   ]
  },
  {
   "cell_type": "markdown",
   "metadata": {},
   "source": [
    "<div class=\"alert alert-block alert-success\">\n",
    "хорошо, просто не забывай вести читателя за своей мыслью :)"
   ]
  },
  {
   "cell_type": "markdown",
   "metadata": {},
   "source": [
    "Рассчитаем количество сделанных звонков и израсходованных минут разговора по месяцам для каждого пользователя."
   ]
  },
  {
   "cell_type": "code",
   "execution_count": 23,
   "metadata": {
    "scrolled": true
   },
   "outputs": [
    {
     "data": {
      "text/html": [
       "<div>\n",
       "<style scoped>\n",
       "    .dataframe tbody tr th:only-of-type {\n",
       "        vertical-align: middle;\n",
       "    }\n",
       "\n",
       "    .dataframe tbody tr th {\n",
       "        vertical-align: top;\n",
       "    }\n",
       "\n",
       "    .dataframe thead th {\n",
       "        text-align: right;\n",
       "    }\n",
       "</style>\n",
       "<table border=\"1\" class=\"dataframe\">\n",
       "  <thead>\n",
       "    <tr style=\"text-align: right;\">\n",
       "      <th></th>\n",
       "      <th></th>\n",
       "      <th>calls_duration</th>\n",
       "      <th>calls_qty</th>\n",
       "    </tr>\n",
       "    <tr>\n",
       "      <th>user_id</th>\n",
       "      <th>month</th>\n",
       "      <th></th>\n",
       "      <th></th>\n",
       "    </tr>\n",
       "  </thead>\n",
       "  <tbody>\n",
       "    <tr>\n",
       "      <td rowspan=\"5\" valign=\"top\">1000</td>\n",
       "      <td>5</td>\n",
       "      <td>159.0</td>\n",
       "      <td>22</td>\n",
       "    </tr>\n",
       "    <tr>\n",
       "      <td>6</td>\n",
       "      <td>172.0</td>\n",
       "      <td>43</td>\n",
       "    </tr>\n",
       "    <tr>\n",
       "      <td>7</td>\n",
       "      <td>340.0</td>\n",
       "      <td>47</td>\n",
       "    </tr>\n",
       "    <tr>\n",
       "      <td>8</td>\n",
       "      <td>408.0</td>\n",
       "      <td>52</td>\n",
       "    </tr>\n",
       "    <tr>\n",
       "      <td>9</td>\n",
       "      <td>466.0</td>\n",
       "      <td>58</td>\n",
       "    </tr>\n",
       "    <tr>\n",
       "      <td>...</td>\n",
       "      <td>...</td>\n",
       "      <td>...</td>\n",
       "      <td>...</td>\n",
       "    </tr>\n",
       "    <tr>\n",
       "      <td>1498</td>\n",
       "      <td>10</td>\n",
       "      <td>247.0</td>\n",
       "      <td>41</td>\n",
       "    </tr>\n",
       "    <tr>\n",
       "      <td rowspan=\"4\" valign=\"top\">1499</td>\n",
       "      <td>9</td>\n",
       "      <td>70.0</td>\n",
       "      <td>9</td>\n",
       "    </tr>\n",
       "    <tr>\n",
       "      <td>10</td>\n",
       "      <td>449.0</td>\n",
       "      <td>68</td>\n",
       "    </tr>\n",
       "    <tr>\n",
       "      <td>11</td>\n",
       "      <td>612.0</td>\n",
       "      <td>74</td>\n",
       "    </tr>\n",
       "    <tr>\n",
       "      <td>12</td>\n",
       "      <td>492.0</td>\n",
       "      <td>69</td>\n",
       "    </tr>\n",
       "  </tbody>\n",
       "</table>\n",
       "<p>3174 rows × 2 columns</p>\n",
       "</div>"
      ],
      "text/plain": [
       "               calls_duration  calls_qty\n",
       "user_id month                           \n",
       "1000    5               159.0         22\n",
       "        6               172.0         43\n",
       "        7               340.0         47\n",
       "        8               408.0         52\n",
       "        9               466.0         58\n",
       "...                       ...        ...\n",
       "1498    10              247.0         41\n",
       "1499    9                70.0          9\n",
       "        10              449.0         68\n",
       "        11              612.0         74\n",
       "        12              492.0         69\n",
       "\n",
       "[3174 rows x 2 columns]"
      ]
     },
     "metadata": {},
     "output_type": "display_data"
    }
   ],
   "source": [
    "calls_pivot = calls.pivot_table(index=['user_id','month'], values='duration',aggfunc=['sum','count'])\n",
    "calls_pivot.columns = ['calls_duration','calls_qty']\n",
    "display(calls_pivot)"
   ]
  },
  {
   "cell_type": "markdown",
   "metadata": {},
   "source": [
    "Получили сводную таблицу со средней продолжительностью и количеством звонков."
   ]
  },
  {
   "cell_type": "markdown",
   "metadata": {},
   "source": [
    "Рассчитаем количество отправленных сообщений по месяцам"
   ]
  },
  {
   "cell_type": "code",
   "execution_count": 24,
   "metadata": {},
   "outputs": [],
   "source": [
    "messages_pivot = messages.pivot_table(index=['user_id','month'],values='id',aggfunc='count')"
   ]
  },
  {
   "cell_type": "code",
   "execution_count": 25,
   "metadata": {
    "scrolled": true
   },
   "outputs": [
    {
     "data": {
      "text/html": [
       "<div>\n",
       "<style scoped>\n",
       "    .dataframe tbody tr th:only-of-type {\n",
       "        vertical-align: middle;\n",
       "    }\n",
       "\n",
       "    .dataframe tbody tr th {\n",
       "        vertical-align: top;\n",
       "    }\n",
       "\n",
       "    .dataframe thead th {\n",
       "        text-align: right;\n",
       "    }\n",
       "</style>\n",
       "<table border=\"1\" class=\"dataframe\">\n",
       "  <thead>\n",
       "    <tr style=\"text-align: right;\">\n",
       "      <th></th>\n",
       "      <th></th>\n",
       "      <th>id</th>\n",
       "    </tr>\n",
       "    <tr>\n",
       "      <th>user_id</th>\n",
       "      <th>month</th>\n",
       "      <th></th>\n",
       "    </tr>\n",
       "  </thead>\n",
       "  <tbody>\n",
       "    <tr>\n",
       "      <td rowspan=\"5\" valign=\"top\">1000</td>\n",
       "      <td>5</td>\n",
       "      <td>22</td>\n",
       "    </tr>\n",
       "    <tr>\n",
       "      <td>6</td>\n",
       "      <td>60</td>\n",
       "    </tr>\n",
       "    <tr>\n",
       "      <td>7</td>\n",
       "      <td>75</td>\n",
       "    </tr>\n",
       "    <tr>\n",
       "      <td>8</td>\n",
       "      <td>81</td>\n",
       "    </tr>\n",
       "    <tr>\n",
       "      <td>9</td>\n",
       "      <td>57</td>\n",
       "    </tr>\n",
       "    <tr>\n",
       "      <td>...</td>\n",
       "      <td>...</td>\n",
       "      <td>...</td>\n",
       "    </tr>\n",
       "    <tr>\n",
       "      <td>1498</td>\n",
       "      <td>10</td>\n",
       "      <td>42</td>\n",
       "    </tr>\n",
       "    <tr>\n",
       "      <td rowspan=\"4\" valign=\"top\">1499</td>\n",
       "      <td>9</td>\n",
       "      <td>11</td>\n",
       "    </tr>\n",
       "    <tr>\n",
       "      <td>10</td>\n",
       "      <td>48</td>\n",
       "    </tr>\n",
       "    <tr>\n",
       "      <td>11</td>\n",
       "      <td>59</td>\n",
       "    </tr>\n",
       "    <tr>\n",
       "      <td>12</td>\n",
       "      <td>66</td>\n",
       "    </tr>\n",
       "  </tbody>\n",
       "</table>\n",
       "<p>2717 rows × 1 columns</p>\n",
       "</div>"
      ],
      "text/plain": [
       "               id\n",
       "user_id month    \n",
       "1000    5      22\n",
       "        6      60\n",
       "        7      75\n",
       "        8      81\n",
       "        9      57\n",
       "...            ..\n",
       "1498    10     42\n",
       "1499    9      11\n",
       "        10     48\n",
       "        11     59\n",
       "        12     66\n",
       "\n",
       "[2717 rows x 1 columns]"
      ]
     },
     "execution_count": 25,
     "metadata": {},
     "output_type": "execute_result"
    }
   ],
   "source": [
    "messages_pivot"
   ]
  },
  {
   "cell_type": "code",
   "execution_count": 26,
   "metadata": {},
   "outputs": [],
   "source": [
    "messages_pivot.columns=['messages_qty']"
   ]
  },
  {
   "cell_type": "code",
   "execution_count": 27,
   "metadata": {},
   "outputs": [
    {
     "data": {
      "text/html": [
       "<div>\n",
       "<style scoped>\n",
       "    .dataframe tbody tr th:only-of-type {\n",
       "        vertical-align: middle;\n",
       "    }\n",
       "\n",
       "    .dataframe tbody tr th {\n",
       "        vertical-align: top;\n",
       "    }\n",
       "\n",
       "    .dataframe thead th {\n",
       "        text-align: right;\n",
       "    }\n",
       "</style>\n",
       "<table border=\"1\" class=\"dataframe\">\n",
       "  <thead>\n",
       "    <tr style=\"text-align: right;\">\n",
       "      <th></th>\n",
       "      <th></th>\n",
       "      <th>messages_qty</th>\n",
       "    </tr>\n",
       "    <tr>\n",
       "      <th>user_id</th>\n",
       "      <th>month</th>\n",
       "      <th></th>\n",
       "    </tr>\n",
       "  </thead>\n",
       "  <tbody>\n",
       "    <tr>\n",
       "      <td rowspan=\"5\" valign=\"top\">1000</td>\n",
       "      <td>5</td>\n",
       "      <td>22</td>\n",
       "    </tr>\n",
       "    <tr>\n",
       "      <td>6</td>\n",
       "      <td>60</td>\n",
       "    </tr>\n",
       "    <tr>\n",
       "      <td>7</td>\n",
       "      <td>75</td>\n",
       "    </tr>\n",
       "    <tr>\n",
       "      <td>8</td>\n",
       "      <td>81</td>\n",
       "    </tr>\n",
       "    <tr>\n",
       "      <td>9</td>\n",
       "      <td>57</td>\n",
       "    </tr>\n",
       "    <tr>\n",
       "      <td>...</td>\n",
       "      <td>...</td>\n",
       "      <td>...</td>\n",
       "    </tr>\n",
       "    <tr>\n",
       "      <td>1498</td>\n",
       "      <td>10</td>\n",
       "      <td>42</td>\n",
       "    </tr>\n",
       "    <tr>\n",
       "      <td rowspan=\"4\" valign=\"top\">1499</td>\n",
       "      <td>9</td>\n",
       "      <td>11</td>\n",
       "    </tr>\n",
       "    <tr>\n",
       "      <td>10</td>\n",
       "      <td>48</td>\n",
       "    </tr>\n",
       "    <tr>\n",
       "      <td>11</td>\n",
       "      <td>59</td>\n",
       "    </tr>\n",
       "    <tr>\n",
       "      <td>12</td>\n",
       "      <td>66</td>\n",
       "    </tr>\n",
       "  </tbody>\n",
       "</table>\n",
       "<p>2717 rows × 1 columns</p>\n",
       "</div>"
      ],
      "text/plain": [
       "               messages_qty\n",
       "user_id month              \n",
       "1000    5                22\n",
       "        6                60\n",
       "        7                75\n",
       "        8                81\n",
       "        9                57\n",
       "...                     ...\n",
       "1498    10               42\n",
       "1499    9                11\n",
       "        10               48\n",
       "        11               59\n",
       "        12               66\n",
       "\n",
       "[2717 rows x 1 columns]"
      ]
     },
     "metadata": {},
     "output_type": "display_data"
    }
   ],
   "source": [
    "display (messages_pivot)"
   ]
  },
  {
   "cell_type": "markdown",
   "metadata": {},
   "source": [
    "Рассчитаем объем израсходованного интернет-трафика по месяцам для каждого пользователя"
   ]
  },
  {
   "cell_type": "code",
   "execution_count": 28,
   "metadata": {},
   "outputs": [],
   "source": [
    "internet_pivot = internet.pivot_table(index=['user_id','month'],values='mb_used',aggfunc=['sum'])"
   ]
  },
  {
   "cell_type": "code",
   "execution_count": 29,
   "metadata": {},
   "outputs": [],
   "source": [
    "internet_pivot.columns = ['mb_used']"
   ]
  },
  {
   "cell_type": "markdown",
   "metadata": {},
   "source": [
    " Создадим общую сводную таблицу по звонкам, сообщениям и интернету"
   ]
  },
  {
   "cell_type": "code",
   "execution_count": 30,
   "metadata": {},
   "outputs": [],
   "source": [
    "common_pivot = calls_pivot.merge(messages_pivot, on=['user_id','month'],how='outer')\n",
    "common_pivot = common_pivot.merge(internet_pivot, on=['user_id','month'],how='outer').reset_index()\n",
    "common_pivot = common_pivot.merge(users, on='user_id',how='right')"
   ]
  },
  {
   "cell_type": "code",
   "execution_count": 31,
   "metadata": {
    "scrolled": true
   },
   "outputs": [
    {
     "data": {
      "text/html": [
       "<div>\n",
       "<style scoped>\n",
       "    .dataframe tbody tr th:only-of-type {\n",
       "        vertical-align: middle;\n",
       "    }\n",
       "\n",
       "    .dataframe tbody tr th {\n",
       "        vertical-align: top;\n",
       "    }\n",
       "\n",
       "    .dataframe thead th {\n",
       "        text-align: right;\n",
       "    }\n",
       "</style>\n",
       "<table border=\"1\" class=\"dataframe\">\n",
       "  <thead>\n",
       "    <tr style=\"text-align: right;\">\n",
       "      <th></th>\n",
       "      <th>user_id</th>\n",
       "      <th>month</th>\n",
       "      <th>calls_duration</th>\n",
       "      <th>calls_qty</th>\n",
       "      <th>messages_qty</th>\n",
       "      <th>mb_used</th>\n",
       "      <th>age</th>\n",
       "      <th>churn_date</th>\n",
       "      <th>city</th>\n",
       "      <th>first_name</th>\n",
       "      <th>last_name</th>\n",
       "      <th>reg_date</th>\n",
       "      <th>tariff</th>\n",
       "    </tr>\n",
       "  </thead>\n",
       "  <tbody>\n",
       "    <tr>\n",
       "      <td>0</td>\n",
       "      <td>1000</td>\n",
       "      <td>5.0</td>\n",
       "      <td>159.0</td>\n",
       "      <td>22.0</td>\n",
       "      <td>22.0</td>\n",
       "      <td>2254.0</td>\n",
       "      <td>52</td>\n",
       "      <td>NaT</td>\n",
       "      <td>Краснодар</td>\n",
       "      <td>Рафаил</td>\n",
       "      <td>Верещагин</td>\n",
       "      <td>2018-05-25</td>\n",
       "      <td>ultra</td>\n",
       "    </tr>\n",
       "    <tr>\n",
       "      <td>1</td>\n",
       "      <td>1000</td>\n",
       "      <td>6.0</td>\n",
       "      <td>172.0</td>\n",
       "      <td>43.0</td>\n",
       "      <td>60.0</td>\n",
       "      <td>23232.0</td>\n",
       "      <td>52</td>\n",
       "      <td>NaT</td>\n",
       "      <td>Краснодар</td>\n",
       "      <td>Рафаил</td>\n",
       "      <td>Верещагин</td>\n",
       "      <td>2018-05-25</td>\n",
       "      <td>ultra</td>\n",
       "    </tr>\n",
       "    <tr>\n",
       "      <td>2</td>\n",
       "      <td>1000</td>\n",
       "      <td>7.0</td>\n",
       "      <td>340.0</td>\n",
       "      <td>47.0</td>\n",
       "      <td>75.0</td>\n",
       "      <td>14008.0</td>\n",
       "      <td>52</td>\n",
       "      <td>NaT</td>\n",
       "      <td>Краснодар</td>\n",
       "      <td>Рафаил</td>\n",
       "      <td>Верещагин</td>\n",
       "      <td>2018-05-25</td>\n",
       "      <td>ultra</td>\n",
       "    </tr>\n",
       "    <tr>\n",
       "      <td>3</td>\n",
       "      <td>1000</td>\n",
       "      <td>8.0</td>\n",
       "      <td>408.0</td>\n",
       "      <td>52.0</td>\n",
       "      <td>81.0</td>\n",
       "      <td>14056.0</td>\n",
       "      <td>52</td>\n",
       "      <td>NaT</td>\n",
       "      <td>Краснодар</td>\n",
       "      <td>Рафаил</td>\n",
       "      <td>Верещагин</td>\n",
       "      <td>2018-05-25</td>\n",
       "      <td>ultra</td>\n",
       "    </tr>\n",
       "    <tr>\n",
       "      <td>4</td>\n",
       "      <td>1000</td>\n",
       "      <td>9.0</td>\n",
       "      <td>466.0</td>\n",
       "      <td>58.0</td>\n",
       "      <td>57.0</td>\n",
       "      <td>14568.0</td>\n",
       "      <td>52</td>\n",
       "      <td>NaT</td>\n",
       "      <td>Краснодар</td>\n",
       "      <td>Рафаил</td>\n",
       "      <td>Верещагин</td>\n",
       "      <td>2018-05-25</td>\n",
       "      <td>ultra</td>\n",
       "    </tr>\n",
       "    <tr>\n",
       "      <td>...</td>\n",
       "      <td>...</td>\n",
       "      <td>...</td>\n",
       "      <td>...</td>\n",
       "      <td>...</td>\n",
       "      <td>...</td>\n",
       "      <td>...</td>\n",
       "      <td>...</td>\n",
       "      <td>...</td>\n",
       "      <td>...</td>\n",
       "      <td>...</td>\n",
       "      <td>...</td>\n",
       "      <td>...</td>\n",
       "      <td>...</td>\n",
       "    </tr>\n",
       "    <tr>\n",
       "      <td>3211</td>\n",
       "      <td>1489</td>\n",
       "      <td>10.0</td>\n",
       "      <td>NaN</td>\n",
       "      <td>NaN</td>\n",
       "      <td>21.0</td>\n",
       "      <td>19552.0</td>\n",
       "      <td>35</td>\n",
       "      <td>NaT</td>\n",
       "      <td>Санкт-Петербург</td>\n",
       "      <td>Павел</td>\n",
       "      <td>Гончаров</td>\n",
       "      <td>2018-08-15</td>\n",
       "      <td>smart</td>\n",
       "    </tr>\n",
       "    <tr>\n",
       "      <td>3212</td>\n",
       "      <td>1489</td>\n",
       "      <td>11.0</td>\n",
       "      <td>NaN</td>\n",
       "      <td>NaN</td>\n",
       "      <td>20.0</td>\n",
       "      <td>17488.0</td>\n",
       "      <td>35</td>\n",
       "      <td>NaT</td>\n",
       "      <td>Санкт-Петербург</td>\n",
       "      <td>Павел</td>\n",
       "      <td>Гончаров</td>\n",
       "      <td>2018-08-15</td>\n",
       "      <td>smart</td>\n",
       "    </tr>\n",
       "    <tr>\n",
       "      <td>3213</td>\n",
       "      <td>1489</td>\n",
       "      <td>12.0</td>\n",
       "      <td>NaN</td>\n",
       "      <td>NaN</td>\n",
       "      <td>35.0</td>\n",
       "      <td>17328.0</td>\n",
       "      <td>35</td>\n",
       "      <td>NaT</td>\n",
       "      <td>Санкт-Петербург</td>\n",
       "      <td>Павел</td>\n",
       "      <td>Гончаров</td>\n",
       "      <td>2018-08-15</td>\n",
       "      <td>smart</td>\n",
       "    </tr>\n",
       "    <tr>\n",
       "      <td>3214</td>\n",
       "      <td>1128</td>\n",
       "      <td>NaN</td>\n",
       "      <td>NaN</td>\n",
       "      <td>NaN</td>\n",
       "      <td>NaN</td>\n",
       "      <td>NaN</td>\n",
       "      <td>51</td>\n",
       "      <td>2018-12-23</td>\n",
       "      <td>Волжский</td>\n",
       "      <td>Ксения</td>\n",
       "      <td>Агаева</td>\n",
       "      <td>2018-12-15</td>\n",
       "      <td>ultra</td>\n",
       "    </tr>\n",
       "    <tr>\n",
       "      <td>3215</td>\n",
       "      <td>1371</td>\n",
       "      <td>NaN</td>\n",
       "      <td>NaN</td>\n",
       "      <td>NaN</td>\n",
       "      <td>NaN</td>\n",
       "      <td>NaN</td>\n",
       "      <td>50</td>\n",
       "      <td>2018-12-30</td>\n",
       "      <td>Омск</td>\n",
       "      <td>Ириней</td>\n",
       "      <td>Трофимов</td>\n",
       "      <td>2018-12-25</td>\n",
       "      <td>smart</td>\n",
       "    </tr>\n",
       "  </tbody>\n",
       "</table>\n",
       "<p>3216 rows × 13 columns</p>\n",
       "</div>"
      ],
      "text/plain": [
       "      user_id  month  calls_duration  calls_qty  messages_qty  mb_used  age  \\\n",
       "0        1000    5.0           159.0       22.0          22.0   2254.0   52   \n",
       "1        1000    6.0           172.0       43.0          60.0  23232.0   52   \n",
       "2        1000    7.0           340.0       47.0          75.0  14008.0   52   \n",
       "3        1000    8.0           408.0       52.0          81.0  14056.0   52   \n",
       "4        1000    9.0           466.0       58.0          57.0  14568.0   52   \n",
       "...       ...    ...             ...        ...           ...      ...  ...   \n",
       "3211     1489   10.0             NaN        NaN          21.0  19552.0   35   \n",
       "3212     1489   11.0             NaN        NaN          20.0  17488.0   35   \n",
       "3213     1489   12.0             NaN        NaN          35.0  17328.0   35   \n",
       "3214     1128    NaN             NaN        NaN           NaN      NaN   51   \n",
       "3215     1371    NaN             NaN        NaN           NaN      NaN   50   \n",
       "\n",
       "     churn_date             city first_name  last_name   reg_date tariff  \n",
       "0           NaT        Краснодар     Рафаил  Верещагин 2018-05-25  ultra  \n",
       "1           NaT        Краснодар     Рафаил  Верещагин 2018-05-25  ultra  \n",
       "2           NaT        Краснодар     Рафаил  Верещагин 2018-05-25  ultra  \n",
       "3           NaT        Краснодар     Рафаил  Верещагин 2018-05-25  ultra  \n",
       "4           NaT        Краснодар     Рафаил  Верещагин 2018-05-25  ultra  \n",
       "...         ...              ...        ...        ...        ...    ...  \n",
       "3211        NaT  Санкт-Петербург      Павел   Гончаров 2018-08-15  smart  \n",
       "3212        NaT  Санкт-Петербург      Павел   Гончаров 2018-08-15  smart  \n",
       "3213        NaT  Санкт-Петербург      Павел   Гончаров 2018-08-15  smart  \n",
       "3214 2018-12-23         Волжский     Ксения     Агаева 2018-12-15  ultra  \n",
       "3215 2018-12-30             Омск     Ириней   Трофимов 2018-12-25  smart  \n",
       "\n",
       "[3216 rows x 13 columns]"
      ]
     },
     "execution_count": 31,
     "metadata": {},
     "output_type": "execute_result"
    }
   ],
   "source": [
    "common_pivot"
   ]
  },
  {
   "cell_type": "markdown",
   "metadata": {},
   "source": [
    "<div class=\"alert alert-block alert-success\">\n",
    "<b>✔️ Success:</b> объединение таблиц произведено верно!"
   ]
  },
  {
   "cell_type": "code",
   "execution_count": 32,
   "metadata": {},
   "outputs": [],
   "source": [
    "def tariffication(row): \n",
    "    tf=0\n",
    "    row['revenue']=0\n",
    "    \n",
    "    if row ['tariff'] == tariffs['tariff_name'][tf]:\n",
    "        tf = 0\n",
    "    else:\n",
    "        tf = 1\n",
    "    \n",
    "    row['minutes_rest'] = tariffs['minutes_included'][tf] - row['calls_duration'] \n",
    "    if row['minutes_rest'] < 0:\n",
    "        row['revenue'] += abs(row['minutes_rest']) * tariffs['rub_per_minute'][tf]\n",
    "        \n",
    "    row['mb_rest'] = tariffs['mb_per_month_included'][tf] - row['mb_used']\n",
    "    if row['mb_rest'] < 0:\n",
    "        row['revenue'] += np.ceil((abs(row['mb_rest'])/1024)) * tariffs['rub_per_gb'][tf]\n",
    "    \n",
    "    row['messages_rest'] = tariffs['messages_included'][tf] - row['messages_qty']\n",
    "    if row['messages_rest'] < 0:\n",
    "        row['revenue'] += abs(row['messages_rest']) * tariffs['rub_per_message'][tf]\n",
    "    if row['churn_date'] is pd.NaT:\n",
    "        row['revenue'] += tariffs['rub_monthly_fee'][tf]      \n",
    "    return (row)\n"
   ]
  },
  {
   "cell_type": "markdown",
   "metadata": {},
   "source": [
    "<div class=\"alert alert-block alert-success\">\n",
    "<b>✔️ Success:</b> отличная функция! Можно тут еще удачно применить метод `max()`"
   ]
  },
  {
   "cell_type": "code",
   "execution_count": 33,
   "metadata": {
    "scrolled": false
   },
   "outputs": [],
   "source": [
    "common_pivot = common_pivot.apply(tariffication,axis=1)"
   ]
  },
  {
   "cell_type": "markdown",
   "metadata": {},
   "source": [
    "### Вывод"
   ]
  },
  {
   "cell_type": "markdown",
   "metadata": {},
   "source": [
    "На этом этапе мы подготовили данные:\n",
    "* Округлили значение израсходованных минут до одной минуты, а израсходованных мб до 1 гб.\n",
    "* Рассчитали количество смс, звонков и потраченного трафика для каждого пользователя за один месяц\n",
    "* Объединили все данные в одну таблицу"
   ]
  },
  {
   "cell_type": "markdown",
   "metadata": {},
   "source": [
    "## Анализ данных"
   ]
  },
  {
   "cell_type": "markdown",
   "metadata": {},
   "source": [
    "[В начало](#home)"
   ]
  },
  {
   "cell_type": "markdown",
   "metadata": {},
   "source": [
    "Построим гистограммы основных параметров."
   ]
  },
  {
   "cell_type": "code",
   "execution_count": 34,
   "metadata": {
    "scrolled": false
   },
   "outputs": [
    {
     "data": {
      "image/png": "[encoded data removed]",
      "text/plain": [
       "<Figure size 432x288 with 1 Axes>"
      ]
     },
     "metadata": {
      "needs_background": "light"
     },
     "output_type": "display_data"
    }
   ],
   "source": [
    "common_pivot.groupby(by='tariff')['calls_duration'].plot(kind='hist',\n",
    "                                                         alpha=0.7,\n",
    "                                                         legend=True,\n",
    "                                                         title='гистограмма продолжительности звонков в месяц на тарифах smart и ultra, мин')\n",
    "plt.xlabel('продолжительность звонков, мин')\n",
    "plt.ylabel('кол-во, чел.')\n",
    "plt.show()"
   ]
  },
  {
   "cell_type": "markdown",
   "metadata": {},
   "source": [
    "<div class=\"alert alert-block alert-warning\">\n",
    "<b>⚠️ Remarks:</b>\n",
    "    \n",
    "Дальше будут проекты, где тебе придется строить очень много графиков, поэтому лучше сразу их правильно строить. На данном графике у тебя должны быть подписаны оси, ось Y должна содержать еще размерность данных (шт., млн. и т.д.). Оси и заголовок должны быть на одном языке. В заголовке еще можно написать за какой период у нас данные. Поправь и другие графики в проекте.\n",
    "\n",
    "Правильное оформление графиков сильно повышает вероятность сдачи проекта с первого раза ;)\n",
    "    \n",
    " https://python-graph-gallery.com/ Тут ты можешь найти много классных примеров"
   ]
  },
  {
   "cell_type": "markdown",
   "metadata": {},
   "source": [
    "<div class=\"alert alert-block alert-info\">\n",
    "<b>💾 Fixed:</b> \n",
    "Спасибо! Поправил этот и остальные графики\n",
    "</div>"
   ]
  },
  {
   "cell_type": "markdown",
   "metadata": {},
   "source": [
    "<div class=\"alert alert-block alert-success\">\n",
    "замечательно :)"
   ]
  },
  {
   "cell_type": "markdown",
   "metadata": {},
   "source": [
    "Узнаем среднее значение и дисперсию в столбце `calls_duration`"
   ]
  },
  {
   "cell_type": "code",
   "execution_count": 35,
   "metadata": {
    "scrolled": true
   },
   "outputs": [
    {
     "name": "stdout",
     "output_type": "stream",
     "text": [
      "средние значения \n",
      "smart    419.062978\n",
      "ultra    545.451104\n",
      "стандратное отклонение \n",
      "smart    189.325618\n",
      "ultra    306.925754\n",
      "дисперсия:\n",
      "smart    35844.189551\n",
      "ultra    94203.418396\n"
     ]
    }
   ],
   "source": [
    "print(f'средние значения {common_pivot.groupby(by=\"tariff\")[\"calls_duration\"].mean().to_string().replace(\"tariff\",\"\")}') \n",
    "print(f'стандратное отклонение {common_pivot.groupby(by=\"tariff\")[\"calls_duration\"].std().to_string().replace(\"tariff\",\"\")}')\n",
    "print (f'дисперсия:{(common_pivot.groupby(by=\"tariff\")[\"calls_duration\"].var()).to_string().replace(\"tariff\",\"\")}')"
   ]
  },
  {
   "cell_type": "markdown",
   "metadata": {},
   "source": [
    "Из гистограмме видно что пользователи на тарифе тарифе smart используют больше минут, это связано с тем, что наши выборки не равны по кол-ву входящий значений.\n",
    "График тарифа ultra отображает нормальное распределение а график тарифа smart скошен справа."
   ]
  },
  {
   "cell_type": "code",
   "execution_count": 36,
   "metadata": {},
   "outputs": [
    {
     "data": {
      "image/png": "[encoded data removed]",
      "text/plain": [
       "<Figure size 432x288 with 1 Axes>"
      ]
     },
     "metadata": {
      "needs_background": "light"
     },
     "output_type": "display_data"
    }
   ],
   "source": [
    "common_pivot.groupby(by='tariff')['messages_qty'].plot(kind='hist',\n",
    "                                                       alpha=0.7,\n",
    "                                                       legend=True,\n",
    "                                                       title='гистограмма кол-ва сообщений в месяц на тарифах smart и ultra',\n",
    "                                                       )\n",
    "plt.xlabel('кол-во сообщений в месяц, шт')\n",
    "plt.ylabel('кол-во, чел.')\n",
    "plt.show()"
   ]
  },
  {
   "cell_type": "markdown",
   "metadata": {},
   "source": [
    "<div class=\"alert alert-block alert-success\">\n",
    "<b>✔️ Success:</b> очень наглядные графики!"
   ]
  },
  {
   "cell_type": "markdown",
   "metadata": {},
   "source": [
    "На гистограмме мы видим распределение Пуассона для пользователей двух тарифов."
   ]
  },
  {
   "cell_type": "code",
   "execution_count": 37,
   "metadata": {},
   "outputs": [
    {
     "name": "stdout",
     "output_type": "stream",
     "text": [
      "средние значения \n",
      "smart    38.716441\n",
      "ultra    61.161006\n",
      "стандратное отклонение \n",
      "smart    26.787949\n",
      "ultra    45.931026\n",
      "дисперсия:\n",
      "smart     717.594201\n",
      "ultra    2109.659183\n"
     ]
    }
   ],
   "source": [
    "print(f'средние значения {common_pivot.groupby(by=\"tariff\")[\"messages_qty\"].mean().to_string().replace(\"tariff\",\"\")}') \n",
    "print(f'стандратное отклонение {common_pivot.groupby(by=\"tariff\")[\"messages_qty\"].std().to_string().replace(\"tariff\",\"\")}')\n",
    "print (f'дисперсия:{(common_pivot.groupby(by=\"tariff\")[\"messages_qty\"].var()).to_string().replace(\"tariff\",\"\")}')"
   ]
  },
  {
   "cell_type": "code",
   "execution_count": 38,
   "metadata": {
    "scrolled": false
   },
   "outputs": [
    {
     "data": {
      "image/png": "[encoded data removed]",
      "text/plain": [
       "<Figure size 432x288 with 1 Axes>"
      ]
     },
     "metadata": {
      "needs_background": "light"
     },
     "output_type": "display_data"
    }
   ],
   "source": [
    "common_pivot.groupby(by='tariff')['mb_used'].plot(kind='hist',\n",
    "                                                  alpha=0.7,\n",
    "                                                  legend=True,\n",
    "                                                  title='гистограмма количества использованного трафика на тарифах smart и ultra, мб',\n",
    "                                                  )\n",
    "plt.xlabel('использовано трафика, мб.')\n",
    "plt.ylabel('кол-во, чел.')\n",
    "plt.show()"
   ]
  },
  {
   "cell_type": "code",
   "execution_count": 39,
   "metadata": {},
   "outputs": [
    {
     "name": "stdout",
     "output_type": "stream",
     "text": [
      "средние значения \n",
      "smart    16215.539441\n",
      "ultra    19668.575385\n",
      "стандратное отклонение \n",
      "smart    5861.719539\n",
      "ultra    9942.877747\n",
      "дисперсия:\n",
      "smart    3.435976e+07\n",
      "ultra    9.886082e+07\n"
     ]
    }
   ],
   "source": [
    "print(f'средние значения {common_pivot.groupby(by=\"tariff\")[\"mb_used\"].mean().to_string().replace(\"tariff\",\"\")}') \n",
    "print(f'стандратное отклонение {common_pivot.groupby(by=\"tariff\")[\"mb_used\"].std().to_string().replace(\"tariff\",\"\")}')\n",
    "print (f'дисперсия:{(common_pivot.groupby(by=\"tariff\")[\"mb_used\"].var()).to_string().replace(\"tariff\",\"\")}')"
   ]
  },
  {
   "cell_type": "markdown",
   "metadata": {},
   "source": [
    "Из гистограммы мы видим нормальное распределение для тарифа `ultra` и нормальное распределение скошенное справа для тарифа smart."
   ]
  },
  {
   "cell_type": "markdown",
   "metadata": {},
   "source": [
    "### Вывод"
   ]
  },
  {
   "cell_type": "markdown",
   "metadata": {},
   "source": [
    "В среднем абонента тарифа `smart` использует:\n",
    "\n",
    "Исспользовано / включено в тариф\n",
    "* 419 минут / 500 минут\n",
    "* 39 сообщений / 50 сообщений\n",
    "* 16215 мб / 15360 мб (15,82 гб / 15 гб.)\n",
    "\n",
    "В среднем абонента тарифа `ultra` использует:\n",
    "\n",
    "Исспользовано / включено в тариф\n",
    "* 545 / 3000 минут\n",
    "* 61 / 1000 сообщений\n",
    "* 19668 мб / 30720 мб (19,21 гб / 30 гб)"
   ]
  },
  {
   "cell_type": "markdown",
   "metadata": {},
   "source": [
    "<div class=\"alert alert-block alert-warning\">\n",
    "<b>⚠️ Remarks:</b> тут было бы здорово отразить, как это соизмеряется с лимитами тарифов"
   ]
  },
  {
   "cell_type": "markdown",
   "metadata": {},
   "source": [
    "<div class=\"alert alert-block alert-info\">\n",
    "<b>💾 Fixed:</b> \n",
    "Добавил трафик включенный в тариф через слэш.\n",
    "</div>"
   ]
  },
  {
   "cell_type": "markdown",
   "metadata": {},
   "source": [
    "## Проверка гипотез"
   ]
  },
  {
   "cell_type": "markdown",
   "metadata": {},
   "source": [
    "[В начало](#home)"
   ]
  },
  {
   "cell_type": "markdown",
   "metadata": {},
   "source": [
    "При проверке гипотез будем использовать значение alpha равное 0.05. Для проверки двух гипотез используем t-тест. "
   ]
  },
  {
   "cell_type": "markdown",
   "metadata": {},
   "source": [
    " ### **Cредняя выручка пользователей тарифов «Ультра» и «Смарт» различаются**"
   ]
  },
  {
   "cell_type": "markdown",
   "metadata": {},
   "source": [
    "Примем равенство выручки за нулевую гипотезу, тогда альтернативная гипотеза: средняя выручка пользователей тарифов «Ультра» и «Смарт» различаются"
   ]
  },
  {
   "cell_type": "code",
   "execution_count": 40,
   "metadata": {
    "scrolled": false
   },
   "outputs": [
    {
     "name": "stdout",
     "output_type": "stream",
     "text": [
      "Дисперсия выборки по тарифу ultra 403790.26708606083\n",
      "Дисперсия выборки по тарифу smart 693534.0984473849\n"
     ]
    }
   ],
   "source": [
    "ultra = common_pivot.query('tariff == \"ultra\"').reset_index(drop=True)\n",
    "smart = common_pivot.query('tariff == \"smart\"').reset_index(drop=True)\n",
    "\n",
    "print (f'Дисперсия выборки по тарифу ultra {np.var(ultra[\"revenue\"])}')\n",
    "print (f'Дисперсия выборки по тарифу smart {np.var(smart[\"revenue\"])}')\n"
   ]
  },
  {
   "cell_type": "markdown",
   "metadata": {},
   "source": [
    "Видим что дисперсия выборок различается"
   ]
  },
  {
   "cell_type": "code",
   "execution_count": 41,
   "metadata": {},
   "outputs": [
    {
     "name": "stdout",
     "output_type": "stream",
     "text": [
      "p-значение:  2.980908280302656e-118\n",
      "Отвергаем нулевую гипотезу\n"
     ]
    }
   ],
   "source": [
    "alpha = .05\n",
    "\n",
    "results = st.ttest_ind(\n",
    "    ultra['revenue'], \n",
    "    smart['revenue'],\n",
    "    equal_var = False)\n",
    "\n",
    "print('p-значение: ', results.pvalue)\n",
    "\n",
    "if results.pvalue < alpha:\n",
    "    print(\"Отвергаем нулевую гипотезу\")\n",
    "else:\n",
    "    print(\"Не получилось отвергнуть нулевую гипотезу\") "
   ]
  },
  {
   "cell_type": "markdown",
   "metadata": {},
   "source": [
    "<div class=\"alert alert-block alert-success\">\n",
    "<b>✔️ Success:</b> всё верно"
   ]
  },
  {
   "cell_type": "markdown",
   "metadata": {},
   "source": [
    "### Вывод"
   ]
  },
  {
   "cell_type": "markdown",
   "metadata": {},
   "source": [
    "Отвергаем нулевую гипотезу. Выручка на тарифах `Smart` и `Ultra` различаются."
   ]
  },
  {
   "cell_type": "markdown",
   "metadata": {},
   "source": [
    "### **Cредняя выручка пользователей из Москвы отличается от выручки пользователей из других регионов.**"
   ]
  },
  {
   "cell_type": "markdown",
   "metadata": {},
   "source": [
    "Примем равенство выручки за нулевую гипотезу, тогда альтернативная гипотеза: средняя выручка пользователей Москвы и других городов различаются"
   ]
  },
  {
   "cell_type": "code",
   "execution_count": 42,
   "metadata": {},
   "outputs": [
    {
     "name": "stdout",
     "output_type": "stream",
     "text": [
      "Дисперсия выборки для пользователей из москвы 640031.2326925086\n",
      "Дисперсия выборки для пользователей из других городов 709555.4706317764\n"
     ]
    }
   ],
   "source": [
    "moscow = common_pivot.query('city == \"Москва\"')\n",
    "others = common_pivot.query('city != \"Москва\"')\n",
    "\n",
    "print (f'Дисперсия выборки для пользователей из москвы {np.var(moscow[\"revenue\"])}')\n",
    "print (f'Дисперсия выборки для пользователей из других городов {np.var(others[\"revenue\"])}')"
   ]
  },
  {
   "cell_type": "code",
   "execution_count": 43,
   "metadata": {},
   "outputs": [
    {
     "name": "stdout",
     "output_type": "stream",
     "text": [
      "p-значение:  0.7348019892827533\n",
      "Не получилось отвергнуть нулевую гипотезу\n"
     ]
    }
   ],
   "source": [
    "results = st.ttest_ind(\n",
    "    moscow['revenue'], \n",
    "    others['revenue'],\n",
    "    equal_var = False)\n",
    "\n",
    "print('p-значение: ', results.pvalue)\n",
    "\n",
    "if results.pvalue < alpha:\n",
    "    print(\"Отвергаем нулевую гипотезу\")\n",
    "else:\n",
    "    print(\"Не получилось отвергнуть нулевую гипотезу\") "
   ]
  },
  {
   "cell_type": "markdown",
   "metadata": {},
   "source": [
    "### Вывод"
   ]
  },
  {
   "cell_type": "markdown",
   "metadata": {},
   "source": [
    "Мы не можем отклонить нулевую гипотезу. Вероятнее всего выручка в Москве и других городах не различается."
   ]
  },
  {
   "cell_type": "markdown",
   "metadata": {},
   "source": [
    "<div class=\"alert alert-block alert-success\">\n",
    "<b>✔️ Success:</b> работа с гипотезами проведена корерктно!"
   ]
  },
  {
   "cell_type": "markdown",
   "metadata": {},
   "source": [
    "## Общий вывод"
   ]
  },
  {
   "cell_type": "markdown",
   "metadata": {},
   "source": [
    "[В начало](#home)"
   ]
  },
  {
   "cell_type": "markdown",
   "metadata": {},
   "source": [
    "При выполнении проекта мы столкнулись ошибками в данных, например:\n",
    "* Обнаружили столбец Unnamed: 0 в таблице internet, его данные полностью дублировали индекс датафрейма.\n",
    "\n",
    "Обнаружили в данных неверные типы данных в столбцах:\n",
    "* call_date в датафрейме calls\n",
    "* message_date в messages\n",
    "* reg_date и churn_date в users.\n",
    "\n",
    "В результате нашего исследования мы получили следующие данные:\n",
    "\n",
    "В среднем абонента тарифа `smart` использует:\n",
    "* 419 минут / 500 минут\n",
    "* 39 сообщений / 50 сообщений\n",
    "* 16215 мб / 15360 мб (15,82 гб / 15 гб.)\n",
    "\n",
    "В среднем абонента тарифа `ultra` использует:\n",
    "* 545 / 3000 минут\n",
    "* 61 / 1000 сообщений\n",
    "* 19668 мб / 30720 мб (19,21 гб / 30 гб)\n",
    "\n",
    "В результате проверок двух гипотез мы установили:\n",
    "* Выручка на тарифах `Smart` и `Ultra` различаются. (P<0,0001)\n",
    "* Выручка в Москве не отличается от выручки в других городах (p=0.73)\n",
    "\n",
    "\n"
   ]
  },
  {
   "cell_type": "markdown",
   "metadata": {},
   "source": [
    "<div class=\"alert alert-block alert-success\">\n",
    "<b>✔️ Success:</b> отличный содержательный общий вывод!"
   ]
  }
 ],
 "metadata": {
  "ExecuteTimeLog": [
   {
    "duration": 634,
    "start_time": "2022-02-22T07:49:53.410Z"
   },
   {
    "duration": 86,
    "start_time": "2022-02-22T10:59:52.782Z"
   },
   {
    "duration": 2283,
    "start_time": "2022-02-22T11:01:27.091Z"
   },
   {
    "duration": 839,
    "start_time": "2022-02-22T11:01:35.840Z"
   },
   {
    "duration": 2153,
    "start_time": "2022-02-22T11:01:51.768Z"
   },
   {
    "duration": 1943,
    "start_time": "2022-02-22T11:01:56.488Z"
   },
   {
    "duration": 375,
    "start_time": "2022-02-22T11:02:17.968Z"
   },
   {
    "duration": 89,
    "start_time": "2022-02-22T11:03:26.279Z"
   },
   {
    "duration": 23,
    "start_time": "2022-02-22T11:03:30.215Z"
   },
   {
    "duration": 22,
    "start_time": "2022-02-22T11:03:54.639Z"
   },
   {
    "duration": 9,
    "start_time": "2022-02-22T11:04:44.071Z"
   },
   {
    "duration": 126,
    "start_time": "2022-02-22T11:04:48.479Z"
   },
   {
    "duration": 112,
    "start_time": "2022-02-22T11:04:55.110Z"
   },
   {
    "duration": 7,
    "start_time": "2022-02-22T11:05:05.055Z"
   },
   {
    "duration": 267,
    "start_time": "2022-02-22T11:07:09.726Z"
   },
   {
    "duration": 6,
    "start_time": "2022-02-22T11:07:20.046Z"
   },
   {
    "duration": 14,
    "start_time": "2022-02-22T11:08:16.814Z"
   },
   {
    "duration": 107,
    "start_time": "2022-02-22T11:09:58.437Z"
   },
   {
    "duration": 7,
    "start_time": "2022-02-22T11:10:03.044Z"
   },
   {
    "duration": 81,
    "start_time": "2022-02-22T11:10:12.478Z"
   },
   {
    "duration": 299,
    "start_time": "2022-02-22T11:12:00.901Z"
   },
   {
    "duration": 461,
    "start_time": "2022-02-22T11:12:19.732Z"
   },
   {
    "duration": 3,
    "start_time": "2022-02-22T11:12:34.428Z"
   },
   {
    "duration": 443,
    "start_time": "2022-02-22T11:12:38.420Z"
   },
   {
    "duration": 3,
    "start_time": "2022-02-22T11:17:04.571Z"
   },
   {
    "duration": 255,
    "start_time": "2022-02-22T11:17:07.011Z"
   },
   {
    "duration": 30,
    "start_time": "2022-02-22T11:19:39.018Z"
   },
   {
    "duration": 98,
    "start_time": "2022-02-22T11:20:44.450Z"
   },
   {
    "duration": 82,
    "start_time": "2022-02-22T11:23:24.826Z"
   },
   {
    "duration": 287,
    "start_time": "2022-02-22T11:25:59.864Z"
   },
   {
    "duration": 261,
    "start_time": "2022-02-22T11:31:29.647Z"
   },
   {
    "duration": 5152,
    "start_time": "2022-02-22T11:31:34.351Z"
   },
   {
    "duration": 29,
    "start_time": "2022-02-22T11:31:51.503Z"
   },
   {
    "duration": 29,
    "start_time": "2022-02-22T11:32:28.398Z"
   },
   {
    "duration": 14,
    "start_time": "2022-02-22T11:32:39.126Z"
   },
   {
    "duration": 9,
    "start_time": "2022-02-22T11:32:52.766Z"
   },
   {
    "duration": 15,
    "start_time": "2022-02-22T11:33:01.870Z"
   },
   {
    "duration": 8,
    "start_time": "2022-02-22T11:36:36.246Z"
   },
   {
    "duration": 17,
    "start_time": "2022-02-22T11:36:37.717Z"
   },
   {
    "duration": 717,
    "start_time": "2022-02-22T11:36:45.171Z"
   },
   {
    "duration": 388,
    "start_time": "2022-02-22T11:36:45.890Z"
   },
   {
    "duration": 22,
    "start_time": "2022-02-22T11:36:46.280Z"
   },
   {
    "duration": 28,
    "start_time": "2022-02-22T11:36:46.304Z"
   },
   {
    "duration": 6,
    "start_time": "2022-02-22T11:36:46.334Z"
   },
   {
    "duration": 97,
    "start_time": "2022-02-22T11:36:46.341Z"
   },
   {
    "duration": 211,
    "start_time": "2022-02-22T11:36:46.440Z"
   },
   {
    "duration": 30,
    "start_time": "2022-02-22T11:36:46.654Z"
   },
   {
    "duration": 47,
    "start_time": "2022-02-22T11:36:46.686Z"
   },
   {
    "duration": 14,
    "start_time": "2022-02-22T11:36:46.736Z"
   },
   {
    "duration": 26,
    "start_time": "2022-02-22T11:36:46.753Z"
   },
   {
    "duration": 16,
    "start_time": "2022-02-22T11:42:53.383Z"
   },
   {
    "duration": 4,
    "start_time": "2022-02-22T11:43:02.143Z"
   },
   {
    "duration": 12,
    "start_time": "2022-02-22T11:43:09.614Z"
   },
   {
    "duration": 53,
    "start_time": "2022-02-22T11:48:48.565Z"
   },
   {
    "duration": 56,
    "start_time": "2022-02-22T11:49:04.094Z"
   },
   {
    "duration": 92,
    "start_time": "2022-02-22T11:53:27.323Z"
   },
   {
    "duration": 8328,
    "start_time": "2022-02-22T11:54:02.131Z"
   },
   {
    "duration": 8038,
    "start_time": "2022-02-22T11:56:53.563Z"
   },
   {
    "duration": 5,
    "start_time": "2022-02-22T11:57:11.788Z"
   },
   {
    "duration": 5,
    "start_time": "2022-02-22T11:57:17.387Z"
   },
   {
    "duration": 4,
    "start_time": "2022-02-22T11:57:20.674Z"
   },
   {
    "duration": 250,
    "start_time": "2022-02-22T11:57:29.490Z"
   },
   {
    "duration": 5,
    "start_time": "2022-02-22T11:57:41.906Z"
   },
   {
    "duration": 80,
    "start_time": "2022-02-22T11:59:18.762Z"
   },
   {
    "duration": 85,
    "start_time": "2022-02-22T11:59:29.770Z"
   },
   {
    "duration": 5,
    "start_time": "2022-02-22T11:59:32.202Z"
   },
   {
    "duration": 247,
    "start_time": "2022-02-22T11:59:38.369Z"
   },
   {
    "duration": 5,
    "start_time": "2022-02-22T11:59:42.018Z"
   },
   {
    "duration": 4,
    "start_time": "2022-02-22T11:59:45.514Z"
   },
   {
    "duration": 5,
    "start_time": "2022-02-22T12:00:03.721Z"
   },
   {
    "duration": 290,
    "start_time": "2022-02-22T12:01:37.650Z"
   },
   {
    "duration": 284,
    "start_time": "2022-02-22T12:01:59.505Z"
   },
   {
    "duration": 245,
    "start_time": "2022-02-22T12:02:33.010Z"
   },
   {
    "duration": 274,
    "start_time": "2022-02-22T12:02:37.706Z"
   },
   {
    "duration": 333,
    "start_time": "2022-02-22T12:02:55.849Z"
   },
   {
    "duration": 5,
    "start_time": "2022-02-22T12:05:12.032Z"
   },
   {
    "duration": 471,
    "start_time": "2022-02-22T12:05:16.576Z"
   },
   {
    "duration": 4,
    "start_time": "2022-02-22T12:05:19.609Z"
   },
   {
    "duration": -585,
    "start_time": "2022-02-22T12:05:36.982Z"
   },
   {
    "duration": 77,
    "start_time": "2022-02-22T12:07:41.799Z"
   },
   {
    "duration": 91,
    "start_time": "2022-02-22T12:07:52.086Z"
   },
   {
    "duration": 1335,
    "start_time": "2022-02-22T12:07:58.696Z"
   },
   {
    "duration": 9,
    "start_time": "2022-02-22T12:10:05.575Z"
   },
   {
    "duration": 17,
    "start_time": "2022-02-22T12:10:15.502Z"
   },
   {
    "duration": 79,
    "start_time": "2022-02-22T12:10:48.925Z"
   },
   {
    "duration": 37,
    "start_time": "2022-02-22T12:11:32.455Z"
   },
   {
    "duration": 79,
    "start_time": "2022-02-22T12:13:41.573Z"
   },
   {
    "duration": 104,
    "start_time": "2022-02-22T12:13:58.284Z"
   },
   {
    "duration": 266,
    "start_time": "2022-02-22T12:19:18.947Z"
   },
   {
    "duration": 243,
    "start_time": "2022-02-22T12:19:21.739Z"
   },
   {
    "duration": 37,
    "start_time": "2022-02-22T12:19:26.771Z"
   },
   {
    "duration": 12,
    "start_time": "2022-02-22T12:19:43.455Z"
   },
   {
    "duration": 88,
    "start_time": "2022-02-22T12:20:21.212Z"
   },
   {
    "duration": 28,
    "start_time": "2022-02-22T12:20:55.308Z"
   },
   {
    "duration": 5,
    "start_time": "2022-02-22T12:25:00.837Z"
   },
   {
    "duration": 84,
    "start_time": "2022-02-22T12:28:26.436Z"
   },
   {
    "duration": 116,
    "start_time": "2022-02-22T12:38:56.150Z"
   },
   {
    "duration": 89,
    "start_time": "2022-02-22T12:39:32.773Z"
   },
   {
    "duration": 9,
    "start_time": "2022-02-22T12:39:38.646Z"
   },
   {
    "duration": 13,
    "start_time": "2022-02-22T12:40:04.901Z"
   },
   {
    "duration": 81,
    "start_time": "2022-02-22T13:31:22.613Z"
   },
   {
    "duration": 7175,
    "start_time": "2022-02-22T13:34:12.636Z"
   },
   {
    "duration": 24,
    "start_time": "2022-02-22T13:35:12.876Z"
   },
   {
    "duration": 15,
    "start_time": "2022-02-22T13:35:17.244Z"
   },
   {
    "duration": 26,
    "start_time": "2022-02-22T13:35:34.460Z"
   },
   {
    "duration": 5,
    "start_time": "2022-02-22T13:38:41.453Z"
   },
   {
    "duration": 18,
    "start_time": "2022-02-22T13:38:48.788Z"
   },
   {
    "duration": 8,
    "start_time": "2022-02-22T13:39:33.930Z"
   },
   {
    "duration": 25,
    "start_time": "2022-02-22T13:46:31.280Z"
   },
   {
    "duration": 638,
    "start_time": "2022-02-22T13:47:10.175Z"
   },
   {
    "duration": 40,
    "start_time": "2022-02-22T13:47:19.351Z"
   },
   {
    "duration": 337,
    "start_time": "2022-02-22T13:48:40.351Z"
   },
   {
    "duration": 95,
    "start_time": "2022-02-22T13:48:56.512Z"
   },
   {
    "duration": 286,
    "start_time": "2022-02-22T13:48:59.655Z"
   },
   {
    "duration": 35,
    "start_time": "2022-02-22T13:49:03.848Z"
   },
   {
    "duration": 34,
    "start_time": "2022-02-22T13:49:06.375Z"
   },
   {
    "duration": 42,
    "start_time": "2022-02-22T13:49:12.055Z"
   },
   {
    "duration": 43,
    "start_time": "2022-02-22T13:50:38.264Z"
   },
   {
    "duration": 43,
    "start_time": "2022-02-22T13:51:28.351Z"
   },
   {
    "duration": 45,
    "start_time": "2022-02-22T13:51:31.031Z"
   },
   {
    "duration": 42,
    "start_time": "2022-02-22T13:51:35.056Z"
   },
   {
    "duration": 42,
    "start_time": "2022-02-22T13:51:47.038Z"
   },
   {
    "duration": 721,
    "start_time": "2022-02-22T13:51:57.362Z"
   },
   {
    "duration": 391,
    "start_time": "2022-02-22T13:51:58.085Z"
   },
   {
    "duration": 22,
    "start_time": "2022-02-22T13:51:58.478Z"
   },
   {
    "duration": 17,
    "start_time": "2022-02-22T13:51:58.503Z"
   },
   {
    "duration": 59,
    "start_time": "2022-02-22T13:51:58.522Z"
   },
   {
    "duration": 1592,
    "start_time": "2022-02-22T13:51:58.583Z"
   },
   {
    "duration": 11,
    "start_time": "2022-02-22T13:52:00.177Z"
   },
   {
    "duration": 33,
    "start_time": "2022-02-22T13:52:00.191Z"
   },
   {
    "duration": 35,
    "start_time": "2022-02-22T13:52:00.226Z"
   },
   {
    "duration": 14,
    "start_time": "2022-02-22T13:52:00.264Z"
   },
   {
    "duration": 70,
    "start_time": "2022-02-22T13:52:00.280Z"
   },
   {
    "duration": 6,
    "start_time": "2022-02-22T13:52:00.353Z"
   },
   {
    "duration": 14,
    "start_time": "2022-02-22T13:52:00.361Z"
   },
   {
    "duration": 145,
    "start_time": "2022-02-22T13:52:00.377Z"
   },
   {
    "duration": 233,
    "start_time": "2022-02-22T13:52:00.524Z"
   },
   {
    "duration": 59,
    "start_time": "2022-02-22T13:52:00.760Z"
   },
   {
    "duration": 28,
    "start_time": "2022-02-22T13:52:00.821Z"
   },
   {
    "duration": 6,
    "start_time": "2022-02-22T13:52:00.852Z"
   },
   {
    "duration": 31,
    "start_time": "2022-02-22T13:52:00.860Z"
   },
   {
    "duration": 27,
    "start_time": "2022-02-22T13:52:00.893Z"
   },
   {
    "duration": 485,
    "start_time": "2022-02-22T13:52:00.923Z"
   },
   {
    "duration": 31,
    "start_time": "2022-02-22T13:52:08.832Z"
   },
   {
    "duration": 79,
    "start_time": "2022-02-22T13:53:23.639Z"
   },
   {
    "duration": 252,
    "start_time": "2022-02-22T13:53:29.719Z"
   },
   {
    "duration": 98,
    "start_time": "2022-02-22T13:54:18.839Z"
   },
   {
    "duration": 300,
    "start_time": "2022-02-22T13:54:23.710Z"
   },
   {
    "duration": 308,
    "start_time": "2022-02-22T13:54:31.158Z"
   },
   {
    "duration": 32,
    "start_time": "2022-02-22T13:54:50.886Z"
   },
   {
    "duration": 255,
    "start_time": "2022-02-22T13:59:20.004Z"
   },
   {
    "duration": 318,
    "start_time": "2022-02-22T13:59:35.172Z"
   },
   {
    "duration": 229,
    "start_time": "2022-02-22T22:02:03.029Z"
   },
   {
    "duration": 656,
    "start_time": "2022-02-22T22:02:10.055Z"
   },
   {
    "duration": 406,
    "start_time": "2022-02-22T22:02:10.714Z"
   },
   {
    "duration": 24,
    "start_time": "2022-02-22T22:02:11.123Z"
   },
   {
    "duration": 18,
    "start_time": "2022-02-22T22:02:11.149Z"
   },
   {
    "duration": 85,
    "start_time": "2022-02-22T22:02:11.168Z"
   },
   {
    "duration": 1427,
    "start_time": "2022-02-22T22:02:11.255Z"
   },
   {
    "duration": 11,
    "start_time": "2022-02-22T22:02:12.684Z"
   },
   {
    "duration": 31,
    "start_time": "2022-02-22T22:02:12.697Z"
   },
   {
    "duration": 34,
    "start_time": "2022-02-22T22:02:12.731Z"
   },
   {
    "duration": 12,
    "start_time": "2022-02-22T22:02:12.767Z"
   },
   {
    "duration": 58,
    "start_time": "2022-02-22T22:02:12.781Z"
   },
   {
    "duration": 4,
    "start_time": "2022-02-22T22:02:12.841Z"
   },
   {
    "duration": 245,
    "start_time": "2022-02-22T22:02:12.848Z"
   },
   {
    "duration": 64,
    "start_time": "2022-02-22T22:02:13.095Z"
   },
   {
    "duration": 29,
    "start_time": "2022-02-22T22:02:13.161Z"
   },
   {
    "duration": 39,
    "start_time": "2022-02-22T22:02:13.192Z"
   },
   {
    "duration": 237,
    "start_time": "2022-02-22T22:02:13.234Z"
   },
   {
    "duration": -537,
    "start_time": "2022-02-22T22:02:14.011Z"
   },
   {
    "duration": -575,
    "start_time": "2022-02-22T22:02:14.050Z"
   },
   {
    "duration": 302,
    "start_time": "2022-02-22T22:03:25.184Z"
   },
   {
    "duration": 65,
    "start_time": "2022-02-22T22:03:43.688Z"
   },
   {
    "duration": 6081,
    "start_time": "2022-02-22T22:03:46.288Z"
   },
   {
    "duration": 64,
    "start_time": "2022-02-22T22:04:33.224Z"
   },
   {
    "duration": 15,
    "start_time": "2022-02-22T22:04:37.399Z"
   },
   {
    "duration": 5,
    "start_time": "2022-02-22T22:05:00.760Z"
   },
   {
    "duration": 6,
    "start_time": "2022-02-22T22:05:04.631Z"
   },
   {
    "duration": 196,
    "start_time": "2022-02-22T22:06:50.903Z"
   },
   {
    "duration": 22,
    "start_time": "2022-02-22T22:07:07.328Z"
   },
   {
    "duration": 8,
    "start_time": "2022-02-22T22:07:16.574Z"
   },
   {
    "duration": 196,
    "start_time": "2022-02-22T22:07:41.959Z"
   },
   {
    "duration": 212,
    "start_time": "2022-02-22T22:07:48.711Z"
   },
   {
    "duration": 4582,
    "start_time": "2022-02-22T22:09:22.102Z"
   },
   {
    "duration": -577,
    "start_time": "2022-02-22T22:09:27.263Z"
   },
   {
    "duration": -579,
    "start_time": "2022-02-22T22:09:27.266Z"
   },
   {
    "duration": -579,
    "start_time": "2022-02-22T22:09:27.267Z"
   },
   {
    "duration": 182,
    "start_time": "2022-02-22T22:09:32.334Z"
   },
   {
    "duration": 105,
    "start_time": "2022-02-22T22:09:49.454Z"
   },
   {
    "duration": 5,
    "start_time": "2022-02-22T22:09:50.254Z"
   },
   {
    "duration": 40,
    "start_time": "2022-02-22T22:09:50.774Z"
   },
   {
    "duration": 22,
    "start_time": "2022-02-22T22:09:52.008Z"
   },
   {
    "duration": 7,
    "start_time": "2022-02-22T22:09:53.574Z"
   },
   {
    "duration": 20,
    "start_time": "2022-02-22T22:10:11.174Z"
   },
   {
    "duration": 7,
    "start_time": "2022-02-22T22:10:12.838Z"
   },
   {
    "duration": 176,
    "start_time": "2022-02-22T22:10:33.814Z"
   },
   {
    "duration": 3,
    "start_time": "2022-02-22T22:11:19.206Z"
   },
   {
    "duration": 5,
    "start_time": "2022-02-22T22:11:19.741Z"
   },
   {
    "duration": 4,
    "start_time": "2022-02-22T22:11:32.182Z"
   },
   {
    "duration": 16,
    "start_time": "2022-02-22T22:12:04.894Z"
   },
   {
    "duration": 4,
    "start_time": "2022-02-22T22:12:06.517Z"
   },
   {
    "duration": 3,
    "start_time": "2022-02-22T22:12:11.246Z"
   },
   {
    "duration": 196,
    "start_time": "2022-02-22T22:12:15.677Z"
   },
   {
    "duration": 3,
    "start_time": "2022-02-22T22:12:16.222Z"
   },
   {
    "duration": 20,
    "start_time": "2022-02-22T22:13:25.877Z"
   },
   {
    "duration": 5,
    "start_time": "2022-02-22T22:13:27.309Z"
   },
   {
    "duration": 24,
    "start_time": "2022-02-22T22:13:50.293Z"
   },
   {
    "duration": 14,
    "start_time": "2022-02-22T22:13:52.267Z"
   },
   {
    "duration": 5226,
    "start_time": "2022-02-22T22:14:12.573Z"
   },
   {
    "duration": 4157,
    "start_time": "2022-02-22T22:14:25.020Z"
   },
   {
    "duration": 172,
    "start_time": "2022-02-22T22:14:43.565Z"
   },
   {
    "duration": 4,
    "start_time": "2022-02-22T22:14:51.189Z"
   },
   {
    "duration": 5,
    "start_time": "2022-02-22T22:14:58.852Z"
   },
   {
    "duration": 25,
    "start_time": "2022-02-22T22:15:06.069Z"
   },
   {
    "duration": 12,
    "start_time": "2022-02-22T22:15:13.140Z"
   },
   {
    "duration": 191,
    "start_time": "2022-02-22T22:24:05.290Z"
   },
   {
    "duration": 237,
    "start_time": "2022-02-22T22:24:16.417Z"
   },
   {
    "duration": 202,
    "start_time": "2022-02-22T22:24:29.354Z"
   },
   {
    "duration": 171,
    "start_time": "2022-02-22T22:24:32.346Z"
   },
   {
    "duration": 3,
    "start_time": "2022-02-22T22:24:44.633Z"
   },
   {
    "duration": 179,
    "start_time": "2022-02-22T22:24:46.858Z"
   },
   {
    "duration": 138,
    "start_time": "2022-02-22T22:24:54.968Z"
   },
   {
    "duration": 277,
    "start_time": "2022-02-22T22:28:52.034Z"
   },
   {
    "duration": 32,
    "start_time": "2022-02-22T22:29:42.888Z"
   },
   {
    "duration": 31,
    "start_time": "2022-02-22T22:29:43.799Z"
   },
   {
    "duration": 90,
    "start_time": "2022-02-22T22:29:44.248Z"
   },
   {
    "duration": 136,
    "start_time": "2022-02-22T22:29:44.999Z"
   },
   {
    "duration": 5,
    "start_time": "2022-02-22T22:29:45.137Z"
   },
   {
    "duration": 52,
    "start_time": "2022-02-22T22:29:46.071Z"
   },
   {
    "duration": 132,
    "start_time": "2022-02-22T22:30:10.968Z"
   },
   {
    "duration": 57,
    "start_time": "2022-02-22T22:36:55.902Z"
   },
   {
    "duration": 36,
    "start_time": "2022-02-22T22:37:05.638Z"
   },
   {
    "duration": 148,
    "start_time": "2022-02-22T22:37:12.111Z"
   },
   {
    "duration": 17,
    "start_time": "2022-02-22T22:38:54.591Z"
   },
   {
    "duration": 179,
    "start_time": "2022-02-22T22:38:56.757Z"
   },
   {
    "duration": 288,
    "start_time": "2022-02-23T12:52:02.256Z"
   },
   {
    "duration": 729,
    "start_time": "2022-02-23T12:52:09.366Z"
   },
   {
    "duration": 422,
    "start_time": "2022-02-23T12:52:10.100Z"
   },
   {
    "duration": 26,
    "start_time": "2022-02-23T12:52:10.524Z"
   },
   {
    "duration": 18,
    "start_time": "2022-02-23T12:52:10.552Z"
   },
   {
    "duration": 90,
    "start_time": "2022-02-23T12:52:10.572Z"
   },
   {
    "duration": 1567,
    "start_time": "2022-02-23T12:52:10.664Z"
   },
   {
    "duration": 12,
    "start_time": "2022-02-23T12:52:12.233Z"
   },
   {
    "duration": 35,
    "start_time": "2022-02-23T12:52:12.248Z"
   },
   {
    "duration": 47,
    "start_time": "2022-02-23T12:52:12.285Z"
   },
   {
    "duration": 11,
    "start_time": "2022-02-23T12:52:12.334Z"
   },
   {
    "duration": 28,
    "start_time": "2022-02-23T12:52:12.347Z"
   },
   {
    "duration": 4,
    "start_time": "2022-02-23T12:52:12.377Z"
   },
   {
    "duration": 215,
    "start_time": "2022-02-23T12:52:12.418Z"
   },
   {
    "duration": 83,
    "start_time": "2022-02-23T12:52:12.635Z"
   },
   {
    "duration": 27,
    "start_time": "2022-02-23T12:52:12.720Z"
   },
   {
    "duration": 16,
    "start_time": "2022-02-23T12:52:12.749Z"
   },
   {
    "duration": 169,
    "start_time": "2022-02-23T12:52:12.767Z"
   },
   {
    "duration": 5,
    "start_time": "2022-02-23T12:52:12.938Z"
   },
   {
    "duration": 39,
    "start_time": "2022-02-23T12:52:12.944Z"
   },
   {
    "duration": 57,
    "start_time": "2022-02-23T12:52:12.985Z"
   },
   {
    "duration": 13,
    "start_time": "2022-02-23T12:52:13.044Z"
   },
   {
    "duration": 26,
    "start_time": "2022-02-23T12:52:13.059Z"
   },
   {
    "duration": 31,
    "start_time": "2022-02-23T12:52:13.087Z"
   },
   {
    "duration": 8,
    "start_time": "2022-02-23T12:52:13.120Z"
   },
   {
    "duration": 16,
    "start_time": "2022-02-23T12:52:25.731Z"
   },
   {
    "duration": 1133,
    "start_time": "2022-02-23T12:53:56.419Z"
   },
   {
    "duration": 651,
    "start_time": "2022-02-23T12:54:43.960Z"
   },
   {
    "duration": 384,
    "start_time": "2022-02-23T12:54:44.613Z"
   },
   {
    "duration": 25,
    "start_time": "2022-02-23T12:54:44.999Z"
   },
   {
    "duration": 31,
    "start_time": "2022-02-23T12:54:45.026Z"
   },
   {
    "duration": 96,
    "start_time": "2022-02-23T12:54:45.060Z"
   },
   {
    "duration": 1567,
    "start_time": "2022-02-23T12:54:45.158Z"
   },
   {
    "duration": 11,
    "start_time": "2022-02-23T12:54:46.727Z"
   },
   {
    "duration": 20,
    "start_time": "2022-02-23T12:54:46.741Z"
   },
   {
    "duration": 64,
    "start_time": "2022-02-23T12:54:46.763Z"
   },
   {
    "duration": 11,
    "start_time": "2022-02-23T12:54:46.828Z"
   },
   {
    "duration": 27,
    "start_time": "2022-02-23T12:54:46.841Z"
   },
   {
    "duration": 4,
    "start_time": "2022-02-23T12:54:46.870Z"
   },
   {
    "duration": 254,
    "start_time": "2022-02-23T12:54:46.876Z"
   },
   {
    "duration": 89,
    "start_time": "2022-02-23T12:54:47.132Z"
   },
   {
    "duration": 30,
    "start_time": "2022-02-23T12:54:47.223Z"
   },
   {
    "duration": 16,
    "start_time": "2022-02-23T12:54:47.255Z"
   },
   {
    "duration": 171,
    "start_time": "2022-02-23T12:54:47.273Z"
   },
   {
    "duration": 5,
    "start_time": "2022-02-23T12:54:47.446Z"
   },
   {
    "duration": 42,
    "start_time": "2022-02-23T12:54:47.453Z"
   },
   {
    "duration": 40,
    "start_time": "2022-02-23T12:54:47.497Z"
   },
   {
    "duration": 1054,
    "start_time": "2022-02-23T12:54:47.538Z"
   },
   {
    "duration": -1235,
    "start_time": "2022-02-23T12:54:49.829Z"
   },
   {
    "duration": -1236,
    "start_time": "2022-02-23T12:54:49.831Z"
   },
   {
    "duration": -1237,
    "start_time": "2022-02-23T12:54:49.833Z"
   },
   {
    "duration": -1238,
    "start_time": "2022-02-23T12:54:49.835Z"
   },
   {
    "duration": -1239,
    "start_time": "2022-02-23T12:54:49.837Z"
   },
   {
    "duration": 17,
    "start_time": "2022-02-23T12:55:06.137Z"
   },
   {
    "duration": 3,
    "start_time": "2022-02-23T12:55:33.897Z"
   },
   {
    "duration": 13,
    "start_time": "2022-02-23T12:55:37.288Z"
   },
   {
    "duration": 3,
    "start_time": "2022-02-23T12:55:58.585Z"
   },
   {
    "duration": 13,
    "start_time": "2022-02-23T12:55:59.248Z"
   },
   {
    "duration": 671,
    "start_time": "2022-02-23T12:56:08.658Z"
   },
   {
    "duration": 411,
    "start_time": "2022-02-23T12:56:09.331Z"
   },
   {
    "duration": 27,
    "start_time": "2022-02-23T12:56:09.744Z"
   },
   {
    "duration": 20,
    "start_time": "2022-02-23T12:56:09.773Z"
   },
   {
    "duration": 77,
    "start_time": "2022-02-23T12:56:09.796Z"
   },
   {
    "duration": 1448,
    "start_time": "2022-02-23T12:56:09.875Z"
   },
   {
    "duration": 12,
    "start_time": "2022-02-23T12:56:11.326Z"
   },
   {
    "duration": 20,
    "start_time": "2022-02-23T12:56:11.341Z"
   },
   {
    "duration": 65,
    "start_time": "2022-02-23T12:56:11.364Z"
   },
   {
    "duration": 11,
    "start_time": "2022-02-23T12:56:11.432Z"
   },
   {
    "duration": 31,
    "start_time": "2022-02-23T12:56:11.445Z"
   },
   {
    "duration": 4,
    "start_time": "2022-02-23T12:56:11.478Z"
   },
   {
    "duration": 214,
    "start_time": "2022-02-23T12:56:11.518Z"
   },
   {
    "duration": 85,
    "start_time": "2022-02-23T12:56:11.734Z"
   },
   {
    "duration": 27,
    "start_time": "2022-02-23T12:56:11.821Z"
   },
   {
    "duration": 18,
    "start_time": "2022-02-23T12:56:11.850Z"
   },
   {
    "duration": 189,
    "start_time": "2022-02-23T12:56:11.870Z"
   },
   {
    "duration": 5,
    "start_time": "2022-02-23T12:56:12.061Z"
   },
   {
    "duration": 72,
    "start_time": "2022-02-23T12:56:12.068Z"
   },
   {
    "duration": 32,
    "start_time": "2022-02-23T12:56:12.142Z"
   },
   {
    "duration": 14,
    "start_time": "2022-02-23T12:56:12.176Z"
   },
   {
    "duration": 4,
    "start_time": "2022-02-23T12:56:12.218Z"
   },
   {
    "duration": 17,
    "start_time": "2022-02-23T12:56:12.224Z"
   },
   {
    "duration": 24,
    "start_time": "2022-02-23T12:56:12.243Z"
   },
   {
    "duration": 13,
    "start_time": "2022-02-23T12:56:12.269Z"
   },
   {
    "duration": 40,
    "start_time": "2022-02-23T12:56:12.284Z"
   },
   {
    "duration": 11,
    "start_time": "2022-02-23T12:56:12.328Z"
   },
   {
    "duration": 83,
    "start_time": "2022-02-23T12:57:49.531Z"
   },
   {
    "duration": 49,
    "start_time": "2022-02-23T12:57:59.249Z"
   },
   {
    "duration": 84,
    "start_time": "2022-02-23T12:58:31.722Z"
   },
   {
    "duration": 19,
    "start_time": "2022-02-23T12:58:46.330Z"
   },
   {
    "duration": 19,
    "start_time": "2022-02-23T12:58:47.978Z"
   },
   {
    "duration": 757,
    "start_time": "2022-02-23T12:59:01.628Z"
   },
   {
    "duration": 406,
    "start_time": "2022-02-23T12:59:02.387Z"
   },
   {
    "duration": 25,
    "start_time": "2022-02-23T12:59:02.796Z"
   },
   {
    "duration": 42,
    "start_time": "2022-02-23T12:59:02.823Z"
   },
   {
    "duration": 87,
    "start_time": "2022-02-23T12:59:02.867Z"
   },
   {
    "duration": 1646,
    "start_time": "2022-02-23T12:59:02.956Z"
   },
   {
    "duration": 18,
    "start_time": "2022-02-23T12:59:04.603Z"
   },
   {
    "duration": 19,
    "start_time": "2022-02-23T12:59:04.624Z"
   },
   {
    "duration": 40,
    "start_time": "2022-02-23T12:59:04.646Z"
   },
   {
    "duration": 11,
    "start_time": "2022-02-23T12:59:04.719Z"
   },
   {
    "duration": 32,
    "start_time": "2022-02-23T12:59:04.732Z"
   },
   {
    "duration": 5,
    "start_time": "2022-02-23T12:59:04.765Z"
   },
   {
    "duration": 247,
    "start_time": "2022-02-23T12:59:04.771Z"
   },
   {
    "duration": 76,
    "start_time": "2022-02-23T12:59:05.020Z"
   },
   {
    "duration": 41,
    "start_time": "2022-02-23T12:59:05.098Z"
   },
   {
    "duration": 16,
    "start_time": "2022-02-23T12:59:05.140Z"
   },
   {
    "duration": 176,
    "start_time": "2022-02-23T12:59:05.158Z"
   },
   {
    "duration": 5,
    "start_time": "2022-02-23T12:59:05.336Z"
   },
   {
    "duration": 80,
    "start_time": "2022-02-23T12:59:05.343Z"
   },
   {
    "duration": 27,
    "start_time": "2022-02-23T12:59:05.424Z"
   },
   {
    "duration": 13,
    "start_time": "2022-02-23T12:59:05.453Z"
   },
   {
    "duration": 16,
    "start_time": "2022-02-23T12:59:05.468Z"
   },
   {
    "duration": 35,
    "start_time": "2022-02-23T12:59:05.487Z"
   },
   {
    "duration": 27,
    "start_time": "2022-02-23T12:59:05.524Z"
   },
   {
    "duration": 14,
    "start_time": "2022-02-23T12:59:05.553Z"
   },
   {
    "duration": 19,
    "start_time": "2022-02-23T12:59:05.569Z"
   },
   {
    "duration": 41,
    "start_time": "2022-02-23T12:59:05.590Z"
   },
   {
    "duration": 111,
    "start_time": "2022-02-23T12:59:54.221Z"
   },
   {
    "duration": 368,
    "start_time": "2022-02-23T13:00:17.020Z"
   },
   {
    "duration": 20,
    "start_time": "2022-02-23T13:00:23.500Z"
   },
   {
    "duration": 19,
    "start_time": "2022-02-23T13:00:24.884Z"
   },
   {
    "duration": 3,
    "start_time": "2022-02-23T13:02:17.235Z"
   },
   {
    "duration": 638,
    "start_time": "2022-02-23T13:02:26.074Z"
   },
   {
    "duration": 379,
    "start_time": "2022-02-23T13:02:26.714Z"
   },
   {
    "duration": 35,
    "start_time": "2022-02-23T13:02:27.095Z"
   },
   {
    "duration": 19,
    "start_time": "2022-02-23T13:02:27.132Z"
   },
   {
    "duration": 88,
    "start_time": "2022-02-23T13:02:27.152Z"
   },
   {
    "duration": 1413,
    "start_time": "2022-02-23T13:02:27.241Z"
   },
   {
    "duration": 11,
    "start_time": "2022-02-23T13:02:28.655Z"
   },
   {
    "duration": 20,
    "start_time": "2022-02-23T13:02:28.669Z"
   },
   {
    "duration": 55,
    "start_time": "2022-02-23T13:02:28.692Z"
   },
   {
    "duration": 10,
    "start_time": "2022-02-23T13:02:28.748Z"
   },
   {
    "duration": 59,
    "start_time": "2022-02-23T13:02:28.760Z"
   },
   {
    "duration": 4,
    "start_time": "2022-02-23T13:02:28.821Z"
   },
   {
    "duration": 220,
    "start_time": "2022-02-23T13:02:28.827Z"
   },
   {
    "duration": 86,
    "start_time": "2022-02-23T13:02:29.049Z"
   },
   {
    "duration": 28,
    "start_time": "2022-02-23T13:02:29.136Z"
   },
   {
    "duration": 17,
    "start_time": "2022-02-23T13:02:29.166Z"
   },
   {
    "duration": 162,
    "start_time": "2022-02-23T13:02:29.185Z"
   },
   {
    "duration": 5,
    "start_time": "2022-02-23T13:02:29.349Z"
   },
   {
    "duration": 72,
    "start_time": "2022-02-23T13:02:29.356Z"
   },
   {
    "duration": 26,
    "start_time": "2022-02-23T13:02:29.429Z"
   },
   {
    "duration": 13,
    "start_time": "2022-02-23T13:02:29.457Z"
   },
   {
    "duration": 5,
    "start_time": "2022-02-23T13:02:29.472Z"
   },
   {
    "duration": 47,
    "start_time": "2022-02-23T13:02:29.481Z"
   },
   {
    "duration": 22,
    "start_time": "2022-02-23T13:02:29.530Z"
   },
   {
    "duration": 14,
    "start_time": "2022-02-23T13:02:29.554Z"
   },
   {
    "duration": 624,
    "start_time": "2022-02-23T13:02:29.569Z"
   },
   {
    "duration": -1186,
    "start_time": "2022-02-23T13:02:31.381Z"
   },
   {
    "duration": 23,
    "start_time": "2022-02-23T13:02:40.306Z"
   },
   {
    "duration": 19,
    "start_time": "2022-02-23T13:02:41.488Z"
   },
   {
    "duration": 9,
    "start_time": "2022-02-23T13:34:18.241Z"
   },
   {
    "duration": 725,
    "start_time": "2022-02-23T13:36:12.131Z"
   },
   {
    "duration": 400,
    "start_time": "2022-02-23T13:36:12.858Z"
   },
   {
    "duration": 24,
    "start_time": "2022-02-23T13:36:13.260Z"
   },
   {
    "duration": 31,
    "start_time": "2022-02-23T13:36:13.286Z"
   },
   {
    "duration": 63,
    "start_time": "2022-02-23T13:36:13.319Z"
   },
   {
    "duration": 1449,
    "start_time": "2022-02-23T13:36:13.384Z"
   },
   {
    "duration": 10,
    "start_time": "2022-02-23T13:36:14.835Z"
   },
   {
    "duration": 21,
    "start_time": "2022-02-23T13:36:14.848Z"
   },
   {
    "duration": 59,
    "start_time": "2022-02-23T13:36:14.872Z"
   },
   {
    "duration": 10,
    "start_time": "2022-02-23T13:36:14.933Z"
   },
   {
    "duration": 33,
    "start_time": "2022-02-23T13:36:14.945Z"
   },
   {
    "duration": 4,
    "start_time": "2022-02-23T13:36:14.979Z"
   },
   {
    "duration": 309,
    "start_time": "2022-02-23T13:36:14.985Z"
   },
   {
    "duration": 81,
    "start_time": "2022-02-23T13:36:15.296Z"
   },
   {
    "duration": 40,
    "start_time": "2022-02-23T13:36:15.379Z"
   },
   {
    "duration": 21,
    "start_time": "2022-02-23T13:36:15.420Z"
   },
   {
    "duration": 168,
    "start_time": "2022-02-23T13:36:15.443Z"
   },
   {
    "duration": 7,
    "start_time": "2022-02-23T13:36:15.612Z"
   },
   {
    "duration": 66,
    "start_time": "2022-02-23T13:36:15.621Z"
   },
   {
    "duration": 46,
    "start_time": "2022-02-23T13:36:15.689Z"
   },
   {
    "duration": 13,
    "start_time": "2022-02-23T13:36:15.737Z"
   },
   {
    "duration": 28,
    "start_time": "2022-02-23T13:36:15.752Z"
   },
   {
    "duration": 34,
    "start_time": "2022-02-23T13:36:15.783Z"
   },
   {
    "duration": 13,
    "start_time": "2022-02-23T13:36:15.819Z"
   },
   {
    "duration": 29,
    "start_time": "2022-02-23T13:36:15.833Z"
   },
   {
    "duration": 16,
    "start_time": "2022-02-23T13:36:15.864Z"
   },
   {
    "duration": 21,
    "start_time": "2022-02-23T13:36:15.882Z"
   },
   {
    "duration": 47,
    "start_time": "2022-02-23T13:37:22.713Z"
   },
   {
    "duration": 660,
    "start_time": "2022-02-23T13:37:28.758Z"
   },
   {
    "duration": 397,
    "start_time": "2022-02-23T13:37:29.420Z"
   },
   {
    "duration": 23,
    "start_time": "2022-02-23T13:37:29.819Z"
   },
   {
    "duration": 19,
    "start_time": "2022-02-23T13:37:29.844Z"
   },
   {
    "duration": 83,
    "start_time": "2022-02-23T13:37:29.865Z"
   },
   {
    "duration": 1602,
    "start_time": "2022-02-23T13:37:29.951Z"
   },
   {
    "duration": 11,
    "start_time": "2022-02-23T13:37:31.555Z"
   },
   {
    "duration": 54,
    "start_time": "2022-02-23T13:37:31.569Z"
   },
   {
    "duration": 48,
    "start_time": "2022-02-23T13:37:31.626Z"
   },
   {
    "duration": 12,
    "start_time": "2022-02-23T13:37:31.675Z"
   },
   {
    "duration": 53,
    "start_time": "2022-02-23T13:37:31.688Z"
   },
   {
    "duration": 6,
    "start_time": "2022-02-23T13:37:31.743Z"
   },
   {
    "duration": 232,
    "start_time": "2022-02-23T13:37:31.751Z"
   },
   {
    "duration": 86,
    "start_time": "2022-02-23T13:37:31.985Z"
   },
   {
    "duration": 28,
    "start_time": "2022-02-23T13:37:32.072Z"
   },
   {
    "duration": 31,
    "start_time": "2022-02-23T13:37:32.101Z"
   },
   {
    "duration": 156,
    "start_time": "2022-02-23T13:37:32.133Z"
   },
   {
    "duration": 5,
    "start_time": "2022-02-23T13:37:32.291Z"
   },
   {
    "duration": 70,
    "start_time": "2022-02-23T13:37:32.298Z"
   },
   {
    "duration": 25,
    "start_time": "2022-02-23T13:37:32.370Z"
   },
   {
    "duration": 29,
    "start_time": "2022-02-23T13:37:32.397Z"
   },
   {
    "duration": 12,
    "start_time": "2022-02-23T13:37:32.428Z"
   },
   {
    "duration": 25,
    "start_time": "2022-02-23T13:37:32.443Z"
   },
   {
    "duration": 12,
    "start_time": "2022-02-23T13:37:32.470Z"
   },
   {
    "duration": 49,
    "start_time": "2022-02-23T13:37:32.484Z"
   },
   {
    "duration": 15,
    "start_time": "2022-02-23T13:37:32.535Z"
   },
   {
    "duration": 9,
    "start_time": "2022-02-23T13:37:32.552Z"
   },
   {
    "duration": 31,
    "start_time": "2022-02-23T13:39:42.100Z"
   },
   {
    "duration": 24,
    "start_time": "2022-02-23T13:39:43.003Z"
   },
   {
    "duration": 442,
    "start_time": "2022-02-23T13:43:05.417Z"
   },
   {
    "duration": 3,
    "start_time": "2022-02-23T13:43:09.642Z"
   },
   {
    "duration": 3571,
    "start_time": "2022-02-23T13:43:29.049Z"
   },
   {
    "duration": 22,
    "start_time": "2022-02-23T13:44:13.579Z"
   },
   {
    "duration": 8,
    "start_time": "2022-02-23T13:44:16.889Z"
   },
   {
    "duration": 3,
    "start_time": "2022-02-23T13:44:17.241Z"
   },
   {
    "duration": 3710,
    "start_time": "2022-02-23T13:44:17.441Z"
   },
   {
    "duration": 3,
    "start_time": "2022-02-23T13:44:52.961Z"
   },
   {
    "duration": 1170,
    "start_time": "2022-02-23T13:44:53.868Z"
   },
   {
    "duration": 766,
    "start_time": "2022-02-23T13:45:18.516Z"
   },
   {
    "duration": 416,
    "start_time": "2022-02-23T13:45:19.284Z"
   },
   {
    "duration": 24,
    "start_time": "2022-02-23T13:45:19.702Z"
   },
   {
    "duration": 17,
    "start_time": "2022-02-23T13:45:19.729Z"
   },
   {
    "duration": 59,
    "start_time": "2022-02-23T13:45:19.748Z"
   },
   {
    "duration": 1626,
    "start_time": "2022-02-23T13:45:19.819Z"
   },
   {
    "duration": 14,
    "start_time": "2022-02-23T13:45:21.447Z"
   },
   {
    "duration": 27,
    "start_time": "2022-02-23T13:45:21.463Z"
   },
   {
    "duration": 52,
    "start_time": "2022-02-23T13:45:21.494Z"
   },
   {
    "duration": 12,
    "start_time": "2022-02-23T13:45:21.548Z"
   },
   {
    "duration": 69,
    "start_time": "2022-02-23T13:45:21.562Z"
   },
   {
    "duration": 5,
    "start_time": "2022-02-23T13:45:21.633Z"
   },
   {
    "duration": 253,
    "start_time": "2022-02-23T13:45:21.640Z"
   },
   {
    "duration": 83,
    "start_time": "2022-02-23T13:45:21.894Z"
   },
   {
    "duration": 40,
    "start_time": "2022-02-23T13:45:21.978Z"
   },
   {
    "duration": 18,
    "start_time": "2022-02-23T13:45:22.020Z"
   },
   {
    "duration": 166,
    "start_time": "2022-02-23T13:45:22.041Z"
   },
   {
    "duration": 11,
    "start_time": "2022-02-23T13:45:22.208Z"
   },
   {
    "duration": 63,
    "start_time": "2022-02-23T13:45:22.221Z"
   },
   {
    "duration": 51,
    "start_time": "2022-02-23T13:45:22.286Z"
   },
   {
    "duration": 15,
    "start_time": "2022-02-23T13:45:22.339Z"
   },
   {
    "duration": 16,
    "start_time": "2022-02-23T13:45:22.356Z"
   },
   {
    "duration": 56,
    "start_time": "2022-02-23T13:45:22.374Z"
   },
   {
    "duration": 13,
    "start_time": "2022-02-23T13:45:22.432Z"
   },
   {
    "duration": 25,
    "start_time": "2022-02-23T13:45:22.447Z"
   },
   {
    "duration": 45,
    "start_time": "2022-02-23T13:45:22.474Z"
   },
   {
    "duration": 10,
    "start_time": "2022-02-23T13:45:22.524Z"
   },
   {
    "duration": 8,
    "start_time": "2022-02-23T13:45:22.536Z"
   },
   {
    "duration": 866,
    "start_time": "2022-02-23T13:45:22.547Z"
   },
   {
    "duration": 21,
    "start_time": "2022-02-23T13:46:01.691Z"
   },
   {
    "duration": 744,
    "start_time": "2022-02-23T13:46:07.942Z"
   },
   {
    "duration": 420,
    "start_time": "2022-02-23T13:46:08.688Z"
   },
   {
    "duration": 23,
    "start_time": "2022-02-23T13:46:09.110Z"
   },
   {
    "duration": 18,
    "start_time": "2022-02-23T13:46:09.136Z"
   },
   {
    "duration": 92,
    "start_time": "2022-02-23T13:46:09.156Z"
   },
   {
    "duration": 1561,
    "start_time": "2022-02-23T13:46:09.250Z"
   },
   {
    "duration": 15,
    "start_time": "2022-02-23T13:46:10.813Z"
   },
   {
    "duration": 22,
    "start_time": "2022-02-23T13:46:10.831Z"
   },
   {
    "duration": 63,
    "start_time": "2022-02-23T13:46:10.856Z"
   },
   {
    "duration": 12,
    "start_time": "2022-02-23T13:46:10.921Z"
   },
   {
    "duration": 32,
    "start_time": "2022-02-23T13:46:10.935Z"
   },
   {
    "duration": 4,
    "start_time": "2022-02-23T13:46:10.969Z"
   },
   {
    "duration": 244,
    "start_time": "2022-02-23T13:46:10.975Z"
   },
   {
    "duration": 75,
    "start_time": "2022-02-23T13:46:11.221Z"
   },
   {
    "duration": 41,
    "start_time": "2022-02-23T13:46:11.298Z"
   },
   {
    "duration": 15,
    "start_time": "2022-02-23T13:46:11.341Z"
   },
   {
    "duration": 174,
    "start_time": "2022-02-23T13:46:11.357Z"
   },
   {
    "duration": 5,
    "start_time": "2022-02-23T13:46:11.532Z"
   },
   {
    "duration": 65,
    "start_time": "2022-02-23T13:46:11.538Z"
   },
   {
    "duration": 40,
    "start_time": "2022-02-23T13:46:11.605Z"
   },
   {
    "duration": 13,
    "start_time": "2022-02-23T13:46:11.647Z"
   },
   {
    "duration": 15,
    "start_time": "2022-02-23T13:46:11.661Z"
   },
   {
    "duration": 55,
    "start_time": "2022-02-23T13:46:11.679Z"
   },
   {
    "duration": 14,
    "start_time": "2022-02-23T13:46:11.736Z"
   },
   {
    "duration": 23,
    "start_time": "2022-02-23T13:46:11.752Z"
   },
   {
    "duration": 49,
    "start_time": "2022-02-23T13:46:11.777Z"
   },
   {
    "duration": 8,
    "start_time": "2022-02-23T13:46:11.828Z"
   },
   {
    "duration": 5,
    "start_time": "2022-02-23T13:46:11.838Z"
   },
   {
    "duration": 577,
    "start_time": "2022-02-23T13:46:11.845Z"
   },
   {
    "duration": 24,
    "start_time": "2022-02-23T13:46:30.279Z"
   },
   {
    "duration": 15,
    "start_time": "2022-02-23T13:46:34.129Z"
   },
   {
    "duration": 352,
    "start_time": "2022-02-23T13:46:58.624Z"
   },
   {
    "duration": 708,
    "start_time": "2022-02-23T13:47:12.854Z"
   },
   {
    "duration": 427,
    "start_time": "2022-02-23T13:47:13.565Z"
   },
   {
    "duration": 22,
    "start_time": "2022-02-23T13:47:13.994Z"
   },
   {
    "duration": 16,
    "start_time": "2022-02-23T13:47:14.018Z"
   },
   {
    "duration": 58,
    "start_time": "2022-02-23T13:47:14.036Z"
   },
   {
    "duration": 1564,
    "start_time": "2022-02-23T13:47:14.119Z"
   },
   {
    "duration": 12,
    "start_time": "2022-02-23T13:47:15.685Z"
   },
   {
    "duration": 31,
    "start_time": "2022-02-23T13:47:15.700Z"
   },
   {
    "duration": 34,
    "start_time": "2022-02-23T13:47:15.733Z"
   },
   {
    "duration": 11,
    "start_time": "2022-02-23T13:47:15.768Z"
   },
   {
    "duration": 58,
    "start_time": "2022-02-23T13:47:15.781Z"
   },
   {
    "duration": 4,
    "start_time": "2022-02-23T13:47:15.841Z"
   },
   {
    "duration": 240,
    "start_time": "2022-02-23T13:47:15.847Z"
   },
   {
    "duration": 88,
    "start_time": "2022-02-23T13:47:16.089Z"
   },
   {
    "duration": 28,
    "start_time": "2022-02-23T13:47:16.179Z"
   },
   {
    "duration": 18,
    "start_time": "2022-02-23T13:47:16.219Z"
   },
   {
    "duration": 170,
    "start_time": "2022-02-23T13:47:16.239Z"
   },
   {
    "duration": 5,
    "start_time": "2022-02-23T13:47:16.411Z"
   },
   {
    "duration": 66,
    "start_time": "2022-02-23T13:47:16.418Z"
   },
   {
    "duration": 50,
    "start_time": "2022-02-23T13:47:16.486Z"
   },
   {
    "duration": 13,
    "start_time": "2022-02-23T13:47:16.538Z"
   },
   {
    "duration": 25,
    "start_time": "2022-02-23T13:47:16.553Z"
   },
   {
    "duration": 43,
    "start_time": "2022-02-23T13:47:16.582Z"
   },
   {
    "duration": 12,
    "start_time": "2022-02-23T13:47:16.628Z"
   },
   {
    "duration": 10,
    "start_time": "2022-02-23T13:47:16.678Z"
   },
   {
    "duration": 3,
    "start_time": "2022-02-23T13:47:16.719Z"
   },
   {
    "duration": 643,
    "start_time": "2022-02-23T13:47:16.724Z"
   },
   {
    "duration": -1165,
    "start_time": "2022-02-23T13:47:18.533Z"
   },
   {
    "duration": -1213,
    "start_time": "2022-02-23T13:47:18.583Z"
   },
   {
    "duration": 18,
    "start_time": "2022-02-23T13:47:21.939Z"
   },
   {
    "duration": 11,
    "start_time": "2022-02-23T13:47:22.531Z"
   },
   {
    "duration": 8,
    "start_time": "2022-02-23T13:47:23.108Z"
   },
   {
    "duration": 21,
    "start_time": "2022-02-23T13:47:43.011Z"
   },
   {
    "duration": 12,
    "start_time": "2022-02-23T13:47:44.435Z"
   },
   {
    "duration": 272,
    "start_time": "2022-02-23T13:47:49.500Z"
   },
   {
    "duration": 367,
    "start_time": "2022-02-23T13:48:17.158Z"
   },
   {
    "duration": 12,
    "start_time": "2022-02-23T13:48:17.771Z"
   },
   {
    "duration": 26,
    "start_time": "2022-02-23T13:48:25.500Z"
   },
   {
    "duration": 17,
    "start_time": "2022-02-23T13:48:26.715Z"
   },
   {
    "duration": 25,
    "start_time": "2022-02-23T13:48:41.060Z"
   },
   {
    "duration": 25,
    "start_time": "2022-02-23T13:48:48.252Z"
   },
   {
    "duration": 24,
    "start_time": "2022-02-23T13:48:48.919Z"
   },
   {
    "duration": 27,
    "start_time": "2022-02-23T13:52:20.995Z"
   },
   {
    "duration": 25,
    "start_time": "2022-02-23T13:52:21.922Z"
   },
   {
    "duration": 302,
    "start_time": "2022-02-23T13:52:38.490Z"
   },
   {
    "duration": 141,
    "start_time": "2022-02-23T13:52:49.147Z"
   },
   {
    "duration": 23,
    "start_time": "2022-02-23T13:52:52.123Z"
   },
   {
    "duration": 22,
    "start_time": "2022-02-23T13:52:52.202Z"
   },
   {
    "duration": 23,
    "start_time": "2022-02-23T13:53:10.714Z"
   },
   {
    "duration": 24,
    "start_time": "2022-02-23T13:53:11.595Z"
   },
   {
    "duration": 27,
    "start_time": "2022-02-23T13:53:24.252Z"
   },
   {
    "duration": 25,
    "start_time": "2022-02-23T13:53:28.114Z"
   },
   {
    "duration": 3,
    "start_time": "2022-02-23T13:59:55.472Z"
   },
   {
    "duration": 930,
    "start_time": "2022-02-23T13:59:56.551Z"
   },
   {
    "duration": 3,
    "start_time": "2022-02-23T14:00:07.944Z"
   },
   {
    "duration": 3682,
    "start_time": "2022-02-23T14:00:08.529Z"
   },
   {
    "duration": 7846,
    "start_time": "2022-02-23T14:01:26.968Z"
   },
   {
    "duration": 3,
    "start_time": "2022-02-23T14:01:53.504Z"
   },
   {
    "duration": 557,
    "start_time": "2022-02-23T14:01:54.511Z"
   },
   {
    "duration": 966,
    "start_time": "2022-02-23T14:05:12.976Z"
   },
   {
    "duration": 1434,
    "start_time": "2022-02-23T14:05:22.967Z"
   },
   {
    "duration": 3,
    "start_time": "2022-02-23T14:05:36.798Z"
   },
   {
    "duration": 12,
    "start_time": "2022-02-23T14:05:39.062Z"
   },
   {
    "duration": 648,
    "start_time": "2022-02-23T14:05:45.965Z"
   },
   {
    "duration": 390,
    "start_time": "2022-02-23T14:05:46.615Z"
   },
   {
    "duration": 21,
    "start_time": "2022-02-23T14:05:47.007Z"
   },
   {
    "duration": 16,
    "start_time": "2022-02-23T14:05:47.032Z"
   },
   {
    "duration": 83,
    "start_time": "2022-02-23T14:05:47.050Z"
   },
   {
    "duration": 1365,
    "start_time": "2022-02-23T14:05:47.135Z"
   },
   {
    "duration": 20,
    "start_time": "2022-02-23T14:05:48.502Z"
   },
   {
    "duration": 20,
    "start_time": "2022-02-23T14:05:48.525Z"
   },
   {
    "duration": 38,
    "start_time": "2022-02-23T14:05:48.548Z"
   },
   {
    "duration": 11,
    "start_time": "2022-02-23T14:05:48.588Z"
   },
   {
    "duration": 26,
    "start_time": "2022-02-23T14:05:48.619Z"
   },
   {
    "duration": 4,
    "start_time": "2022-02-23T14:05:48.647Z"
   },
   {
    "duration": 223,
    "start_time": "2022-02-23T14:05:48.652Z"
   },
   {
    "duration": 75,
    "start_time": "2022-02-23T14:05:48.877Z"
   },
   {
    "duration": 27,
    "start_time": "2022-02-23T14:05:48.954Z"
   },
   {
    "duration": 16,
    "start_time": "2022-02-23T14:05:48.983Z"
   },
   {
    "duration": 145,
    "start_time": "2022-02-23T14:05:49.019Z"
   },
   {
    "duration": 5,
    "start_time": "2022-02-23T14:05:49.166Z"
   },
   {
    "duration": 75,
    "start_time": "2022-02-23T14:05:49.172Z"
   },
   {
    "duration": 27,
    "start_time": "2022-02-23T14:05:49.249Z"
   },
   {
    "duration": 12,
    "start_time": "2022-02-23T14:05:49.278Z"
   },
   {
    "duration": 22,
    "start_time": "2022-02-23T14:05:49.291Z"
   },
   {
    "duration": 25,
    "start_time": "2022-02-23T14:05:49.319Z"
   },
   {
    "duration": 40,
    "start_time": "2022-02-23T14:05:49.346Z"
   },
   {
    "duration": 13,
    "start_time": "2022-02-23T14:05:49.388Z"
   },
   {
    "duration": 32,
    "start_time": "2022-02-23T14:05:49.402Z"
   },
   {
    "duration": 23,
    "start_time": "2022-02-23T14:05:49.436Z"
   },
   {
    "duration": 8,
    "start_time": "2022-02-23T14:05:49.461Z"
   },
   {
    "duration": 88,
    "start_time": "2022-02-23T14:05:49.470Z"
   },
   {
    "duration": -44,
    "start_time": "2022-02-23T14:05:49.604Z"
   },
   {
    "duration": 49,
    "start_time": "2022-02-23T14:13:18.285Z"
   },
   {
    "duration": 705,
    "start_time": "2022-02-23T14:13:43.531Z"
   },
   {
    "duration": 403,
    "start_time": "2022-02-23T14:13:44.238Z"
   },
   {
    "duration": 23,
    "start_time": "2022-02-23T14:13:44.643Z"
   },
   {
    "duration": 17,
    "start_time": "2022-02-23T14:13:44.669Z"
   },
   {
    "duration": 61,
    "start_time": "2022-02-23T14:13:44.688Z"
   },
   {
    "duration": 1432,
    "start_time": "2022-02-23T14:13:44.751Z"
   },
   {
    "duration": 14,
    "start_time": "2022-02-23T14:13:46.185Z"
   },
   {
    "duration": 29,
    "start_time": "2022-02-23T14:13:46.201Z"
   },
   {
    "duration": 33,
    "start_time": "2022-02-23T14:13:46.234Z"
   },
   {
    "duration": 12,
    "start_time": "2022-02-23T14:13:46.269Z"
   },
   {
    "duration": 68,
    "start_time": "2022-02-23T14:13:46.283Z"
   },
   {
    "duration": 6,
    "start_time": "2022-02-23T14:13:46.353Z"
   },
   {
    "duration": 353,
    "start_time": "2022-02-23T14:13:46.361Z"
   },
   {
    "duration": 75,
    "start_time": "2022-02-23T14:13:46.716Z"
   },
   {
    "duration": 38,
    "start_time": "2022-02-23T14:13:46.793Z"
   },
   {
    "duration": 15,
    "start_time": "2022-02-23T14:13:46.833Z"
   },
   {
    "duration": 190,
    "start_time": "2022-02-23T14:13:46.850Z"
   },
   {
    "duration": 7,
    "start_time": "2022-02-23T14:13:47.043Z"
   },
   {
    "duration": 76,
    "start_time": "2022-02-23T14:13:47.052Z"
   },
   {
    "duration": 26,
    "start_time": "2022-02-23T14:13:47.130Z"
   },
   {
    "duration": 12,
    "start_time": "2022-02-23T14:13:47.158Z"
   },
   {
    "duration": 8,
    "start_time": "2022-02-23T14:13:47.172Z"
   },
   {
    "duration": 36,
    "start_time": "2022-02-23T14:13:47.182Z"
   },
   {
    "duration": 22,
    "start_time": "2022-02-23T14:13:47.220Z"
   },
   {
    "duration": 15,
    "start_time": "2022-02-23T14:13:47.244Z"
   },
   {
    "duration": 27,
    "start_time": "2022-02-23T14:13:47.261Z"
   },
   {
    "duration": 51,
    "start_time": "2022-02-23T14:13:47.292Z"
   },
   {
    "duration": 8,
    "start_time": "2022-02-23T14:13:47.345Z"
   },
   {
    "duration": 86,
    "start_time": "2022-02-23T14:13:47.354Z"
   },
   {
    "duration": -67,
    "start_time": "2022-02-23T14:13:47.509Z"
   },
   {
    "duration": 3,
    "start_time": "2022-02-23T14:38:10.071Z"
   },
   {
    "duration": 7630,
    "start_time": "2022-02-23T14:38:11.855Z"
   },
   {
    "duration": 3,
    "start_time": "2022-02-23T14:38:48.119Z"
   },
   {
    "duration": 6730,
    "start_time": "2022-02-23T14:38:49.599Z"
   },
   {
    "duration": 4,
    "start_time": "2022-02-23T14:39:26.095Z"
   },
   {
    "duration": 7132,
    "start_time": "2022-02-23T14:39:26.599Z"
   },
   {
    "duration": 3,
    "start_time": "2022-02-23T14:39:56.032Z"
   },
   {
    "duration": 6842,
    "start_time": "2022-02-23T14:39:56.854Z"
   },
   {
    "duration": -96,
    "start_time": "2022-02-23T14:40:19.103Z"
   },
   {
    "duration": 97,
    "start_time": "2022-02-23T14:40:21.822Z"
   },
   {
    "duration": 5,
    "start_time": "2022-02-23T14:40:25.486Z"
   },
   {
    "duration": 4,
    "start_time": "2022-02-23T14:40:35.616Z"
   },
   {
    "duration": 8004,
    "start_time": "2022-02-23T14:40:38.143Z"
   },
   {
    "duration": 18,
    "start_time": "2022-02-23T14:46:38.077Z"
   },
   {
    "duration": 3,
    "start_time": "2022-02-23T14:46:38.141Z"
   },
   {
    "duration": 3,
    "start_time": "2022-02-23T14:47:26.261Z"
   },
   {
    "duration": 8007,
    "start_time": "2022-02-23T14:47:27.004Z"
   },
   {
    "duration": 3,
    "start_time": "2022-02-23T14:48:48.670Z"
   },
   {
    "duration": 183,
    "start_time": "2022-02-23T14:48:49.996Z"
   },
   {
    "duration": 23,
    "start_time": "2022-02-23T14:49:13.797Z"
   },
   {
    "duration": 5,
    "start_time": "2022-02-23T14:49:37.773Z"
   },
   {
    "duration": 1006,
    "start_time": "2022-02-23T14:49:40.052Z"
   },
   {
    "duration": 4,
    "start_time": "2022-02-23T14:50:32.828Z"
   },
   {
    "duration": 523,
    "start_time": "2022-02-23T14:50:33.644Z"
   },
   {
    "duration": 23,
    "start_time": "2022-02-23T14:50:34.257Z"
   },
   {
    "duration": 3,
    "start_time": "2022-02-23T14:51:12.270Z"
   },
   {
    "duration": 2391,
    "start_time": "2022-02-23T14:51:16.988Z"
   },
   {
    "duration": 21,
    "start_time": "2022-02-23T14:51:19.381Z"
   },
   {
    "duration": 39,
    "start_time": "2022-02-23T15:18:49.453Z"
   },
   {
    "duration": 4,
    "start_time": "2022-02-23T15:19:03.756Z"
   },
   {
    "duration": 2539,
    "start_time": "2022-02-23T15:19:04.261Z"
   },
   {
    "duration": 5,
    "start_time": "2022-02-23T15:20:02.725Z"
   },
   {
    "duration": 4,
    "start_time": "2022-02-23T15:20:42.508Z"
   },
   {
    "duration": 2540,
    "start_time": "2022-02-23T15:20:43.157Z"
   },
   {
    "duration": 39,
    "start_time": "2022-02-23T15:21:15.213Z"
   },
   {
    "duration": 3,
    "start_time": "2022-02-23T15:21:17.012Z"
   },
   {
    "duration": 38,
    "start_time": "2022-02-23T15:21:18.116Z"
   },
   {
    "duration": 2667,
    "start_time": "2022-02-23T15:21:19.252Z"
   },
   {
    "duration": 21,
    "start_time": "2022-02-23T15:22:14.380Z"
   },
   {
    "duration": 715,
    "start_time": "2022-02-23T15:22:53.384Z"
   },
   {
    "duration": 411,
    "start_time": "2022-02-23T15:22:54.106Z"
   },
   {
    "duration": 23,
    "start_time": "2022-02-23T15:22:54.519Z"
   },
   {
    "duration": 18,
    "start_time": "2022-02-23T15:22:54.544Z"
   },
   {
    "duration": 80,
    "start_time": "2022-02-23T15:22:54.564Z"
   },
   {
    "duration": 1400,
    "start_time": "2022-02-23T15:22:54.647Z"
   },
   {
    "duration": 11,
    "start_time": "2022-02-23T15:22:56.049Z"
   },
   {
    "duration": 23,
    "start_time": "2022-02-23T15:22:56.063Z"
   },
   {
    "duration": 54,
    "start_time": "2022-02-23T15:22:56.089Z"
   },
   {
    "duration": 11,
    "start_time": "2022-02-23T15:22:56.145Z"
   },
   {
    "duration": 27,
    "start_time": "2022-02-23T15:22:56.157Z"
   },
   {
    "duration": 32,
    "start_time": "2022-02-23T15:22:56.186Z"
   },
   {
    "duration": 250,
    "start_time": "2022-02-23T15:22:56.220Z"
   },
   {
    "duration": 79,
    "start_time": "2022-02-23T15:22:56.472Z"
   },
   {
    "duration": 26,
    "start_time": "2022-02-23T15:22:56.553Z"
   },
   {
    "duration": 37,
    "start_time": "2022-02-23T15:22:56.581Z"
   },
   {
    "duration": 145,
    "start_time": "2022-02-23T15:22:56.620Z"
   },
   {
    "duration": 4,
    "start_time": "2022-02-23T15:22:56.767Z"
   },
   {
    "duration": 75,
    "start_time": "2022-02-23T15:22:56.773Z"
   },
   {
    "duration": 27,
    "start_time": "2022-02-23T15:22:56.850Z"
   },
   {
    "duration": 11,
    "start_time": "2022-02-23T15:22:56.879Z"
   },
   {
    "duration": 27,
    "start_time": "2022-02-23T15:22:56.893Z"
   },
   {
    "duration": 15,
    "start_time": "2022-02-23T15:22:56.923Z"
   },
   {
    "duration": 25,
    "start_time": "2022-02-23T15:22:56.939Z"
   },
   {
    "duration": 14,
    "start_time": "2022-02-23T15:22:56.966Z"
   },
   {
    "duration": 43,
    "start_time": "2022-02-23T15:22:56.981Z"
   },
   {
    "duration": 32,
    "start_time": "2022-02-23T15:22:57.026Z"
   },
   {
    "duration": 11,
    "start_time": "2022-02-23T15:22:57.061Z"
   },
   {
    "duration": 17,
    "start_time": "2022-02-23T15:22:57.074Z"
   },
   {
    "duration": 31,
    "start_time": "2022-02-23T15:22:57.092Z"
   },
   {
    "duration": 4,
    "start_time": "2022-02-23T15:22:57.125Z"
   },
   {
    "duration": 40,
    "start_time": "2022-02-23T15:22:57.131Z"
   },
   {
    "duration": 18,
    "start_time": "2022-02-23T15:22:57.173Z"
   },
   {
    "duration": 2518,
    "start_time": "2022-02-23T15:22:57.193Z"
   },
   {
    "duration": 27,
    "start_time": "2022-02-23T15:22:59.712Z"
   },
   {
    "duration": 20,
    "start_time": "2022-02-23T15:23:14.040Z"
   },
   {
    "duration": 20,
    "start_time": "2022-02-23T15:23:15.976Z"
   },
   {
    "duration": 481,
    "start_time": "2022-02-23T15:23:16.864Z"
   },
   {
    "duration": 24,
    "start_time": "2022-02-23T15:23:17.584Z"
   },
   {
    "duration": 9,
    "start_time": "2022-02-23T15:55:43.270Z"
   },
   {
    "duration": 88,
    "start_time": "2022-02-23T16:14:40.104Z"
   },
   {
    "duration": 6,
    "start_time": "2022-02-23T16:14:50.864Z"
   },
   {
    "duration": 7,
    "start_time": "2022-02-23T16:14:52.648Z"
   },
   {
    "duration": 20,
    "start_time": "2022-02-23T16:14:54.649Z"
   },
   {
    "duration": 589,
    "start_time": "2022-02-23T16:14:56.912Z"
   },
   {
    "duration": 5,
    "start_time": "2022-02-23T16:15:14.802Z"
   },
   {
    "duration": 6,
    "start_time": "2022-02-23T16:15:19.064Z"
   },
   {
    "duration": 20,
    "start_time": "2022-02-23T16:15:19.552Z"
   },
   {
    "duration": 8046,
    "start_time": "2022-02-23T16:15:20.763Z"
   },
   {
    "duration": 6,
    "start_time": "2022-02-23T16:17:40.831Z"
   },
   {
    "duration": 9,
    "start_time": "2022-02-23T16:17:41.568Z"
   },
   {
    "duration": 22,
    "start_time": "2022-02-23T16:17:42.049Z"
   },
   {
    "duration": 7523,
    "start_time": "2022-02-23T16:17:42.546Z"
   },
   {
    "duration": 677,
    "start_time": "2022-02-23T16:19:07.427Z"
   },
   {
    "duration": 389,
    "start_time": "2022-02-23T16:19:08.106Z"
   },
   {
    "duration": 22,
    "start_time": "2022-02-23T16:19:08.497Z"
   },
   {
    "duration": 32,
    "start_time": "2022-02-23T16:19:08.521Z"
   },
   {
    "duration": 67,
    "start_time": "2022-02-23T16:19:08.554Z"
   },
   {
    "duration": 1388,
    "start_time": "2022-02-23T16:19:08.623Z"
   },
   {
    "duration": 16,
    "start_time": "2022-02-23T16:19:10.013Z"
   },
   {
    "duration": 25,
    "start_time": "2022-02-23T16:19:10.032Z"
   },
   {
    "duration": 65,
    "start_time": "2022-02-23T16:19:10.061Z"
   },
   {
    "duration": 14,
    "start_time": "2022-02-23T16:19:10.129Z"
   },
   {
    "duration": 34,
    "start_time": "2022-02-23T16:19:10.145Z"
   },
   {
    "duration": 4,
    "start_time": "2022-02-23T16:19:10.181Z"
   },
   {
    "duration": 215,
    "start_time": "2022-02-23T16:19:10.219Z"
   },
   {
    "duration": 86,
    "start_time": "2022-02-23T16:19:10.436Z"
   },
   {
    "duration": 29,
    "start_time": "2022-02-23T16:19:10.524Z"
   },
   {
    "duration": 19,
    "start_time": "2022-02-23T16:19:10.555Z"
   },
   {
    "duration": 193,
    "start_time": "2022-02-23T16:19:10.576Z"
   },
   {
    "duration": 6,
    "start_time": "2022-02-23T16:19:10.772Z"
   },
   {
    "duration": 77,
    "start_time": "2022-02-23T16:19:10.780Z"
   },
   {
    "duration": 28,
    "start_time": "2022-02-23T16:19:10.860Z"
   },
   {
    "duration": 30,
    "start_time": "2022-02-23T16:19:10.890Z"
   },
   {
    "duration": 8,
    "start_time": "2022-02-23T16:19:10.922Z"
   },
   {
    "duration": 20,
    "start_time": "2022-02-23T16:19:10.932Z"
   },
   {
    "duration": 22,
    "start_time": "2022-02-23T16:19:10.953Z"
   },
   {
    "duration": 12,
    "start_time": "2022-02-23T16:19:10.977Z"
   },
   {
    "duration": 46,
    "start_time": "2022-02-23T16:19:10.991Z"
   },
   {
    "duration": 24,
    "start_time": "2022-02-23T16:19:11.040Z"
   },
   {
    "duration": 7,
    "start_time": "2022-02-23T16:19:11.066Z"
   },
   {
    "duration": 17,
    "start_time": "2022-02-23T16:19:11.075Z"
   },
   {
    "duration": 25,
    "start_time": "2022-02-23T16:19:11.094Z"
   },
   {
    "duration": 7,
    "start_time": "2022-02-23T16:19:11.121Z"
   },
   {
    "duration": 6,
    "start_time": "2022-02-23T16:19:11.129Z"
   },
   {
    "duration": 25,
    "start_time": "2022-02-23T16:19:11.136Z"
   },
   {
    "duration": 18,
    "start_time": "2022-02-23T16:19:11.163Z"
   },
   {
    "duration": 6853,
    "start_time": "2022-02-23T16:19:11.183Z"
   },
   {
    "duration": -123,
    "start_time": "2022-02-23T16:19:18.161Z"
   },
   {
    "duration": 26,
    "start_time": "2022-02-23T16:19:36.229Z"
   },
   {
    "duration": 8,
    "start_time": "2022-02-23T16:20:02.684Z"
   },
   {
    "duration": 6,
    "start_time": "2022-02-23T16:21:14.966Z"
   },
   {
    "duration": 8,
    "start_time": "2022-02-23T16:21:15.563Z"
   },
   {
    "duration": 27,
    "start_time": "2022-02-23T16:21:16.060Z"
   },
   {
    "duration": 7954,
    "start_time": "2022-02-23T16:21:16.532Z"
   },
   {
    "duration": 9084,
    "start_time": "2022-02-23T16:23:16.747Z"
   },
   {
    "duration": 75,
    "start_time": "2022-02-23T16:23:40.643Z"
   },
   {
    "duration": 6774,
    "start_time": "2022-02-23T16:23:46.203Z"
   },
   {
    "duration": 78,
    "start_time": "2022-02-23T16:23:55.204Z"
   },
   {
    "duration": 90,
    "start_time": "2022-02-23T16:24:02.315Z"
   },
   {
    "duration": 7629,
    "start_time": "2022-02-23T16:24:05.258Z"
   },
   {
    "duration": 100,
    "start_time": "2022-02-23T16:24:19.764Z"
   },
   {
    "duration": 6614,
    "start_time": "2022-02-23T16:24:22.378Z"
   },
   {
    "duration": 5,
    "start_time": "2022-02-23T16:26:20.043Z"
   },
   {
    "duration": 7,
    "start_time": "2022-02-23T16:26:20.482Z"
   },
   {
    "duration": 25,
    "start_time": "2022-02-23T16:26:20.948Z"
   },
   {
    "duration": 7085,
    "start_time": "2022-02-23T16:26:26.986Z"
   },
   {
    "duration": 30,
    "start_time": "2022-02-23T16:26:40.892Z"
   },
   {
    "duration": 9,
    "start_time": "2022-02-23T16:29:33.242Z"
   },
   {
    "duration": 11,
    "start_time": "2022-02-23T16:29:34.385Z"
   },
   {
    "duration": 25,
    "start_time": "2022-02-23T16:29:35.298Z"
   },
   {
    "duration": 4,
    "start_time": "2022-02-23T16:29:35.625Z"
   },
   {
    "duration": 4,
    "start_time": "2022-02-23T16:29:36.018Z"
   },
   {
    "duration": 6,
    "start_time": "2022-02-23T16:29:36.449Z"
   },
   {
    "duration": 7,
    "start_time": "2022-02-23T16:29:37.529Z"
   },
   {
    "duration": 31,
    "start_time": "2022-02-23T16:29:46.314Z"
   },
   {
    "duration": 92,
    "start_time": "2022-02-23T16:34:19.807Z"
   },
   {
    "duration": 5,
    "start_time": "2022-02-23T16:34:32.040Z"
   },
   {
    "duration": 6,
    "start_time": "2022-02-23T16:34:33.336Z"
   },
   {
    "duration": 32,
    "start_time": "2022-02-23T16:34:33.801Z"
   },
   {
    "duration": 961,
    "start_time": "2022-02-23T16:34:38.103Z"
   },
   {
    "duration": 33,
    "start_time": "2022-02-23T16:34:42.529Z"
   },
   {
    "duration": 702,
    "start_time": "2022-02-23T16:37:12.523Z"
   },
   {
    "duration": 422,
    "start_time": "2022-02-23T16:37:13.227Z"
   },
   {
    "duration": 24,
    "start_time": "2022-02-23T16:37:13.651Z"
   },
   {
    "duration": 18,
    "start_time": "2022-02-23T16:37:13.678Z"
   },
   {
    "duration": 73,
    "start_time": "2022-02-23T16:37:13.699Z"
   },
   {
    "duration": 1418,
    "start_time": "2022-02-23T16:37:13.774Z"
   },
   {
    "duration": 12,
    "start_time": "2022-02-23T16:37:15.193Z"
   },
   {
    "duration": 18,
    "start_time": "2022-02-23T16:37:15.220Z"
   },
   {
    "duration": 35,
    "start_time": "2022-02-23T16:37:15.241Z"
   },
   {
    "duration": 11,
    "start_time": "2022-02-23T16:37:15.278Z"
   },
   {
    "duration": 26,
    "start_time": "2022-02-23T16:37:15.319Z"
   },
   {
    "duration": 4,
    "start_time": "2022-02-23T16:37:15.347Z"
   },
   {
    "duration": 234,
    "start_time": "2022-02-23T16:37:15.353Z"
   },
   {
    "duration": 86,
    "start_time": "2022-02-23T16:37:15.588Z"
   },
   {
    "duration": 25,
    "start_time": "2022-02-23T16:37:15.676Z"
   },
   {
    "duration": 27,
    "start_time": "2022-02-23T16:37:15.703Z"
   },
   {
    "duration": 153,
    "start_time": "2022-02-23T16:37:15.732Z"
   },
   {
    "duration": 5,
    "start_time": "2022-02-23T16:37:15.887Z"
   },
   {
    "duration": 76,
    "start_time": "2022-02-23T16:37:15.893Z"
   },
   {
    "duration": 26,
    "start_time": "2022-02-23T16:37:15.971Z"
   },
   {
    "duration": 27,
    "start_time": "2022-02-23T16:37:15.999Z"
   },
   {
    "duration": 8,
    "start_time": "2022-02-23T16:37:16.027Z"
   },
   {
    "duration": 17,
    "start_time": "2022-02-23T16:37:16.038Z"
   },
   {
    "duration": 21,
    "start_time": "2022-02-23T16:37:16.057Z"
   },
   {
    "duration": 13,
    "start_time": "2022-02-23T16:37:16.080Z"
   },
   {
    "duration": 46,
    "start_time": "2022-02-23T16:37:16.095Z"
   },
   {
    "duration": 27,
    "start_time": "2022-02-23T16:37:16.142Z"
   },
   {
    "duration": 17,
    "start_time": "2022-02-23T16:37:16.171Z"
   },
   {
    "duration": 29,
    "start_time": "2022-02-23T16:37:16.190Z"
   },
   {
    "duration": 11,
    "start_time": "2022-02-23T16:37:16.221Z"
   },
   {
    "duration": 8,
    "start_time": "2022-02-23T16:37:16.234Z"
   },
   {
    "duration": 30,
    "start_time": "2022-02-23T16:37:16.244Z"
   },
   {
    "duration": 26,
    "start_time": "2022-02-23T16:37:16.276Z"
   },
   {
    "duration": 758,
    "start_time": "2022-02-23T16:37:16.319Z"
   },
   {
    "duration": -70,
    "start_time": "2022-02-23T16:37:17.149Z"
   },
   {
    "duration": 5,
    "start_time": "2022-02-23T16:41:22.249Z"
   },
   {
    "duration": 7,
    "start_time": "2022-02-23T16:41:23.358Z"
   },
   {
    "duration": 24,
    "start_time": "2022-02-23T16:41:23.751Z"
   },
   {
    "duration": 792,
    "start_time": "2022-02-23T16:41:24.207Z"
   },
   {
    "duration": 6,
    "start_time": "2022-02-23T16:41:46.927Z"
   },
   {
    "duration": 8,
    "start_time": "2022-02-23T16:41:47.663Z"
   },
   {
    "duration": 26,
    "start_time": "2022-02-23T16:41:49.953Z"
   },
   {
    "duration": 7261,
    "start_time": "2022-02-23T16:41:50.335Z"
   },
   {
    "duration": 33,
    "start_time": "2022-02-23T16:42:04.048Z"
   },
   {
    "duration": 6,
    "start_time": "2022-02-23T16:43:24.974Z"
   },
   {
    "duration": 10,
    "start_time": "2022-02-23T16:43:25.702Z"
   },
   {
    "duration": 47,
    "start_time": "2022-02-23T16:43:26.168Z"
   },
   {
    "duration": 1094,
    "start_time": "2022-02-23T16:43:27.078Z"
   },
   {
    "duration": 31,
    "start_time": "2022-02-23T16:43:32.608Z"
   },
   {
    "duration": 87,
    "start_time": "2022-02-23T16:44:14.494Z"
   },
   {
    "duration": 5,
    "start_time": "2022-02-23T16:44:30.855Z"
   },
   {
    "duration": 7,
    "start_time": "2022-02-23T16:44:31.654Z"
   },
   {
    "duration": 29,
    "start_time": "2022-02-23T16:44:31.991Z"
   },
   {
    "duration": 903,
    "start_time": "2022-02-23T16:44:32.886Z"
   },
   {
    "duration": 2496,
    "start_time": "2022-02-23T16:47:02.070Z"
   },
   {
    "duration": -105,
    "start_time": "2022-02-23T16:47:04.674Z"
   },
   {
    "duration": 83,
    "start_time": "2022-02-23T20:38:50.442Z"
   },
   {
    "duration": 80,
    "start_time": "2022-02-23T20:41:32.123Z"
   },
   {
    "duration": 89,
    "start_time": "2022-02-23T20:41:42.222Z"
   },
   {
    "duration": 245,
    "start_time": "2022-02-23T20:41:46.180Z"
   },
   {
    "duration": 5,
    "start_time": "2022-02-23T20:41:58.860Z"
   },
   {
    "duration": 3,
    "start_time": "2022-02-23T20:43:08.452Z"
   },
   {
    "duration": 248,
    "start_time": "2022-02-23T20:43:36.662Z"
   },
   {
    "duration": 5,
    "start_time": "2022-02-23T20:43:46.339Z"
   },
   {
    "duration": 300,
    "start_time": "2022-02-23T20:44:16.195Z"
   },
   {
    "duration": 6,
    "start_time": "2022-02-23T20:44:23.715Z"
   },
   {
    "duration": 16,
    "start_time": "2022-02-23T20:44:42.210Z"
   },
   {
    "duration": 693,
    "start_time": "2022-02-23T20:45:03.052Z"
   },
   {
    "duration": 433,
    "start_time": "2022-02-23T20:45:03.747Z"
   },
   {
    "duration": 24,
    "start_time": "2022-02-23T20:45:04.182Z"
   },
   {
    "duration": 19,
    "start_time": "2022-02-23T20:45:04.208Z"
   },
   {
    "duration": 59,
    "start_time": "2022-02-23T20:45:04.228Z"
   },
   {
    "duration": 1525,
    "start_time": "2022-02-23T20:45:04.289Z"
   },
   {
    "duration": 13,
    "start_time": "2022-02-23T20:45:05.818Z"
   },
   {
    "duration": 35,
    "start_time": "2022-02-23T20:45:05.833Z"
   },
   {
    "duration": 81,
    "start_time": "2022-02-23T20:45:05.872Z"
   },
   {
    "duration": 16,
    "start_time": "2022-02-23T20:45:05.956Z"
   },
   {
    "duration": 58,
    "start_time": "2022-02-23T20:45:05.974Z"
   },
   {
    "duration": 4,
    "start_time": "2022-02-23T20:45:06.034Z"
   },
   {
    "duration": 250,
    "start_time": "2022-02-23T20:45:06.040Z"
   },
   {
    "duration": 116,
    "start_time": "2022-02-23T20:45:06.293Z"
   },
   {
    "duration": 39,
    "start_time": "2022-02-23T20:45:06.411Z"
   },
   {
    "duration": 25,
    "start_time": "2022-02-23T20:45:06.452Z"
   },
   {
    "duration": 205,
    "start_time": "2022-02-23T20:45:06.479Z"
   },
   {
    "duration": 7,
    "start_time": "2022-02-23T20:45:06.686Z"
   },
   {
    "duration": 22,
    "start_time": "2022-02-23T20:45:06.696Z"
   },
   {
    "duration": 14,
    "start_time": "2022-02-23T20:45:06.720Z"
   },
   {
    "duration": 81,
    "start_time": "2022-02-23T20:45:06.736Z"
   },
   {
    "duration": 28,
    "start_time": "2022-02-23T20:45:06.819Z"
   },
   {
    "duration": 12,
    "start_time": "2022-02-23T20:45:06.849Z"
   },
   {
    "duration": 5,
    "start_time": "2022-02-23T20:45:06.862Z"
   },
   {
    "duration": 14,
    "start_time": "2022-02-23T20:45:06.868Z"
   },
   {
    "duration": 55,
    "start_time": "2022-02-23T20:45:06.884Z"
   },
   {
    "duration": 13,
    "start_time": "2022-02-23T20:45:06.943Z"
   },
   {
    "duration": 30,
    "start_time": "2022-02-23T20:45:06.958Z"
   },
   {
    "duration": 47,
    "start_time": "2022-02-23T20:45:06.990Z"
   },
   {
    "duration": 18,
    "start_time": "2022-02-23T20:45:07.039Z"
   },
   {
    "duration": 5,
    "start_time": "2022-02-23T20:45:07.059Z"
   },
   {
    "duration": 7,
    "start_time": "2022-02-23T20:45:07.066Z"
   },
   {
    "duration": 8,
    "start_time": "2022-02-23T20:45:07.074Z"
   },
   {
    "duration": 52,
    "start_time": "2022-02-23T20:45:07.084Z"
   },
   {
    "duration": 28,
    "start_time": "2022-02-23T20:45:07.138Z"
   },
   {
    "duration": 8371,
    "start_time": "2022-02-23T20:45:07.168Z"
   },
   {
    "duration": -82,
    "start_time": "2022-02-23T20:45:15.624Z"
   },
   {
    "duration": 5,
    "start_time": "2022-02-23T20:46:01.572Z"
   },
   {
    "duration": 14,
    "start_time": "2022-02-23T20:46:03.404Z"
   },
   {
    "duration": 5,
    "start_time": "2022-02-23T20:46:04.930Z"
   },
   {
    "duration": 733,
    "start_time": "2022-02-23T20:46:10.105Z"
   },
   {
    "duration": 429,
    "start_time": "2022-02-23T20:46:10.840Z"
   },
   {
    "duration": 24,
    "start_time": "2022-02-23T20:46:11.272Z"
   },
   {
    "duration": 20,
    "start_time": "2022-02-23T20:46:11.299Z"
   },
   {
    "duration": 58,
    "start_time": "2022-02-23T20:46:11.322Z"
   },
   {
    "duration": 1516,
    "start_time": "2022-02-23T20:46:11.382Z"
   },
   {
    "duration": 20,
    "start_time": "2022-02-23T20:46:12.900Z"
   },
   {
    "duration": 27,
    "start_time": "2022-02-23T20:46:12.922Z"
   },
   {
    "duration": 40,
    "start_time": "2022-02-23T20:46:12.952Z"
   },
   {
    "duration": 34,
    "start_time": "2022-02-23T20:46:12.996Z"
   },
   {
    "duration": 31,
    "start_time": "2022-02-23T20:46:13.032Z"
   },
   {
    "duration": 5,
    "start_time": "2022-02-23T20:46:13.065Z"
   },
   {
    "duration": 249,
    "start_time": "2022-02-23T20:46:13.072Z"
   },
   {
    "duration": 127,
    "start_time": "2022-02-23T20:46:13.324Z"
   },
   {
    "duration": 44,
    "start_time": "2022-02-23T20:46:13.454Z"
   },
   {
    "duration": 38,
    "start_time": "2022-02-23T20:46:13.501Z"
   },
   {
    "duration": 166,
    "start_time": "2022-02-23T20:46:13.541Z"
   },
   {
    "duration": 10,
    "start_time": "2022-02-23T20:46:13.709Z"
   },
   {
    "duration": 7,
    "start_time": "2022-02-23T20:46:13.721Z"
   },
   {
    "duration": 17,
    "start_time": "2022-02-23T20:46:13.730Z"
   },
   {
    "duration": 87,
    "start_time": "2022-02-23T20:46:13.749Z"
   },
   {
    "duration": 30,
    "start_time": "2022-02-23T20:46:13.838Z"
   },
   {
    "duration": 13,
    "start_time": "2022-02-23T20:46:13.870Z"
   },
   {
    "duration": 5,
    "start_time": "2022-02-23T20:46:13.885Z"
   },
   {
    "duration": 37,
    "start_time": "2022-02-23T20:46:13.892Z"
   },
   {
    "duration": 31,
    "start_time": "2022-02-23T20:46:13.931Z"
   },
   {
    "duration": 15,
    "start_time": "2022-02-23T20:46:13.965Z"
   },
   {
    "duration": 50,
    "start_time": "2022-02-23T20:46:13.982Z"
   },
   {
    "duration": 26,
    "start_time": "2022-02-23T20:46:14.034Z"
   },
   {
    "duration": 18,
    "start_time": "2022-02-23T20:46:14.062Z"
   },
   {
    "duration": 4,
    "start_time": "2022-02-23T20:46:14.082Z"
   },
   {
    "duration": 39,
    "start_time": "2022-02-23T20:46:14.088Z"
   },
   {
    "duration": 7,
    "start_time": "2022-02-23T20:46:14.129Z"
   },
   {
    "duration": 28,
    "start_time": "2022-02-23T20:46:14.138Z"
   },
   {
    "duration": 28,
    "start_time": "2022-02-23T20:46:14.168Z"
   },
   {
    "duration": 9906,
    "start_time": "2022-02-23T20:46:14.198Z"
   },
   {
    "duration": -87,
    "start_time": "2022-02-23T20:46:24.194Z"
   },
   {
    "duration": 1018,
    "start_time": "2022-02-23T20:48:37.318Z"
   },
   {
    "duration": 297,
    "start_time": "2022-02-23T20:48:56.790Z"
   },
   {
    "duration": 1171,
    "start_time": "2022-02-23T20:49:23.397Z"
   },
   {
    "duration": 1022,
    "start_time": "2022-02-23T20:49:35.017Z"
   },
   {
    "duration": 322,
    "start_time": "2022-02-23T20:49:45.917Z"
   },
   {
    "duration": 1505,
    "start_time": "2022-02-23T20:50:03.445Z"
   },
   {
    "duration": 340,
    "start_time": "2022-02-23T20:52:46.252Z"
   },
   {
    "duration": 282,
    "start_time": "2022-02-23T20:52:55.404Z"
   },
   {
    "duration": 5,
    "start_time": "2022-02-23T20:53:02.771Z"
   },
   {
    "duration": 14,
    "start_time": "2022-02-23T20:53:08.524Z"
   },
   {
    "duration": 83,
    "start_time": "2022-02-23T20:53:28.732Z"
   },
   {
    "duration": 241,
    "start_time": "2022-02-23T20:53:40.948Z"
   },
   {
    "duration": 25,
    "start_time": "2022-02-23T20:53:52.454Z"
   },
   {
    "duration": 727,
    "start_time": "2022-02-23T20:54:00.101Z"
   },
   {
    "duration": 411,
    "start_time": "2022-02-23T20:54:00.830Z"
   },
   {
    "duration": 22,
    "start_time": "2022-02-23T20:54:01.243Z"
   },
   {
    "duration": 32,
    "start_time": "2022-02-23T20:54:01.267Z"
   },
   {
    "duration": 60,
    "start_time": "2022-02-23T20:54:01.301Z"
   },
   {
    "duration": 1428,
    "start_time": "2022-02-23T20:54:01.362Z"
   },
   {
    "duration": 12,
    "start_time": "2022-02-23T20:54:02.792Z"
   },
   {
    "duration": 25,
    "start_time": "2022-02-23T20:54:02.818Z"
   },
   {
    "duration": 58,
    "start_time": "2022-02-23T20:54:02.846Z"
   },
   {
    "duration": 10,
    "start_time": "2022-02-23T20:54:02.906Z"
   },
   {
    "duration": 53,
    "start_time": "2022-02-23T20:54:02.918Z"
   },
   {
    "duration": 17,
    "start_time": "2022-02-23T20:54:02.973Z"
   },
   {
    "duration": 227,
    "start_time": "2022-02-23T20:54:02.991Z"
   },
   {
    "duration": 75,
    "start_time": "2022-02-23T20:54:03.220Z"
   },
   {
    "duration": 40,
    "start_time": "2022-02-23T20:54:03.296Z"
   },
   {
    "duration": 16,
    "start_time": "2022-02-23T20:54:03.339Z"
   },
   {
    "duration": 165,
    "start_time": "2022-02-23T20:54:03.357Z"
   },
   {
    "duration": 7,
    "start_time": "2022-02-23T20:54:03.524Z"
   },
   {
    "duration": 22,
    "start_time": "2022-02-23T20:54:03.533Z"
   },
   {
    "duration": 361,
    "start_time": "2022-02-23T20:54:03.557Z"
   },
   {
    "duration": -16,
    "start_time": "2022-02-23T20:54:03.936Z"
   },
   {
    "duration": -19,
    "start_time": "2022-02-23T20:54:03.940Z"
   },
   {
    "duration": -29,
    "start_time": "2022-02-23T20:54:03.952Z"
   },
   {
    "duration": -32,
    "start_time": "2022-02-23T20:54:03.955Z"
   },
   {
    "duration": -34,
    "start_time": "2022-02-23T20:54:03.958Z"
   },
   {
    "duration": -44,
    "start_time": "2022-02-23T20:54:03.969Z"
   },
   {
    "duration": -45,
    "start_time": "2022-02-23T20:54:03.971Z"
   },
   {
    "duration": -46,
    "start_time": "2022-02-23T20:54:03.974Z"
   },
   {
    "duration": -55,
    "start_time": "2022-02-23T20:54:03.984Z"
   },
   {
    "duration": -56,
    "start_time": "2022-02-23T20:54:03.986Z"
   },
   {
    "duration": -56,
    "start_time": "2022-02-23T20:54:03.988Z"
   },
   {
    "duration": -57,
    "start_time": "2022-02-23T20:54:03.990Z"
   },
   {
    "duration": -66,
    "start_time": "2022-02-23T20:54:04.000Z"
   },
   {
    "duration": -67,
    "start_time": "2022-02-23T20:54:04.002Z"
   },
   {
    "duration": -68,
    "start_time": "2022-02-23T20:54:04.004Z"
   },
   {
    "duration": -69,
    "start_time": "2022-02-23T20:54:04.006Z"
   },
   {
    "duration": -79,
    "start_time": "2022-02-23T20:54:04.017Z"
   },
   {
    "duration": -82,
    "start_time": "2022-02-23T20:54:04.022Z"
   },
   {
    "duration": 372,
    "start_time": "2022-02-23T20:54:22.633Z"
   },
   {
    "duration": 6,
    "start_time": "2022-02-23T20:54:27.529Z"
   },
   {
    "duration": 774,
    "start_time": "2022-02-23T20:56:28.213Z"
   },
   {
    "duration": 403,
    "start_time": "2022-02-23T20:56:28.989Z"
   },
   {
    "duration": 23,
    "start_time": "2022-02-23T20:56:29.394Z"
   },
   {
    "duration": 20,
    "start_time": "2022-02-23T20:56:29.419Z"
   },
   {
    "duration": 81,
    "start_time": "2022-02-23T20:56:29.441Z"
   },
   {
    "duration": 1551,
    "start_time": "2022-02-23T20:56:29.524Z"
   },
   {
    "duration": 12,
    "start_time": "2022-02-23T20:56:31.077Z"
   },
   {
    "duration": 41,
    "start_time": "2022-02-23T20:56:31.091Z"
   },
   {
    "duration": 59,
    "start_time": "2022-02-23T20:56:31.134Z"
   },
   {
    "duration": 12,
    "start_time": "2022-02-23T20:56:31.195Z"
   },
   {
    "duration": 55,
    "start_time": "2022-02-23T20:56:31.208Z"
   },
   {
    "duration": 4,
    "start_time": "2022-02-23T20:56:31.265Z"
   },
   {
    "duration": 250,
    "start_time": "2022-02-23T20:56:31.271Z"
   },
   {
    "duration": 79,
    "start_time": "2022-02-23T20:56:31.523Z"
   },
   {
    "duration": 40,
    "start_time": "2022-02-23T20:56:31.604Z"
   },
   {
    "duration": 17,
    "start_time": "2022-02-23T20:56:31.646Z"
   },
   {
    "duration": 174,
    "start_time": "2022-02-23T20:56:31.664Z"
   },
   {
    "duration": 7,
    "start_time": "2022-02-23T20:56:31.840Z"
   },
   {
    "duration": 20,
    "start_time": "2022-02-23T20:56:31.849Z"
   },
   {
    "duration": 6472,
    "start_time": "2022-02-23T20:56:31.871Z"
   },
   {
    "duration": -41,
    "start_time": "2022-02-23T20:56:38.387Z"
   },
   {
    "duration": -47,
    "start_time": "2022-02-23T20:56:38.394Z"
   },
   {
    "duration": -48,
    "start_time": "2022-02-23T20:56:38.396Z"
   },
   {
    "duration": -49,
    "start_time": "2022-02-23T20:56:38.399Z"
   },
   {
    "duration": -50,
    "start_time": "2022-02-23T20:56:38.401Z"
   },
   {
    "duration": -51,
    "start_time": "2022-02-23T20:56:38.402Z"
   },
   {
    "duration": -52,
    "start_time": "2022-02-23T20:56:38.404Z"
   },
   {
    "duration": -53,
    "start_time": "2022-02-23T20:56:38.406Z"
   },
   {
    "duration": -54,
    "start_time": "2022-02-23T20:56:38.408Z"
   },
   {
    "duration": -54,
    "start_time": "2022-02-23T20:56:38.409Z"
   },
   {
    "duration": -54,
    "start_time": "2022-02-23T20:56:38.411Z"
   },
   {
    "duration": -56,
    "start_time": "2022-02-23T20:56:38.414Z"
   },
   {
    "duration": -57,
    "start_time": "2022-02-23T20:56:38.416Z"
   },
   {
    "duration": -58,
    "start_time": "2022-02-23T20:56:38.418Z"
   },
   {
    "duration": -70,
    "start_time": "2022-02-23T20:56:38.431Z"
   },
   {
    "duration": -74,
    "start_time": "2022-02-23T20:56:38.437Z"
   },
   {
    "duration": -76,
    "start_time": "2022-02-23T20:56:38.440Z"
   },
   {
    "duration": 5,
    "start_time": "2022-02-23T20:56:38.962Z"
   },
   {
    "duration": 66,
    "start_time": "2022-02-23T20:56:44.120Z"
   },
   {
    "duration": 52,
    "start_time": "2022-02-23T20:56:44.188Z"
   },
   {
    "duration": 13,
    "start_time": "2022-02-23T20:56:44.243Z"
   },
   {
    "duration": 12,
    "start_time": "2022-02-23T20:56:44.257Z"
   },
   {
    "duration": 19,
    "start_time": "2022-02-23T20:56:44.270Z"
   },
   {
    "duration": 33,
    "start_time": "2022-02-23T20:56:44.291Z"
   },
   {
    "duration": 17,
    "start_time": "2022-02-23T20:56:44.326Z"
   },
   {
    "duration": 26,
    "start_time": "2022-02-23T20:56:44.346Z"
   },
   {
    "duration": 47,
    "start_time": "2022-02-23T20:56:44.374Z"
   },
   {
    "duration": 19,
    "start_time": "2022-02-23T20:56:44.423Z"
   },
   {
    "duration": 11,
    "start_time": "2022-02-23T20:56:44.444Z"
   },
   {
    "duration": 7,
    "start_time": "2022-02-23T20:56:44.457Z"
   },
   {
    "duration": 7,
    "start_time": "2022-02-23T20:56:44.466Z"
   },
   {
    "duration": 46,
    "start_time": "2022-02-23T20:56:44.474Z"
   },
   {
    "duration": 29,
    "start_time": "2022-02-23T20:56:44.522Z"
   },
   {
    "duration": 7391,
    "start_time": "2022-02-23T20:56:44.552Z"
   },
   {
    "duration": -79,
    "start_time": "2022-02-23T20:56:52.024Z"
   },
   {
    "duration": 4,
    "start_time": "2022-02-23T20:57:35.666Z"
   },
   {
    "duration": 688,
    "start_time": "2022-02-23T20:58:26.151Z"
   },
   {
    "duration": 422,
    "start_time": "2022-02-23T20:58:26.841Z"
   },
   {
    "duration": 24,
    "start_time": "2022-02-23T20:58:27.265Z"
   },
   {
    "duration": 17,
    "start_time": "2022-02-23T20:58:27.291Z"
   },
   {
    "duration": 59,
    "start_time": "2022-02-23T20:58:27.311Z"
   },
   {
    "duration": 1556,
    "start_time": "2022-02-23T20:58:27.372Z"
   },
   {
    "duration": 12,
    "start_time": "2022-02-23T20:58:28.931Z"
   },
   {
    "duration": 40,
    "start_time": "2022-02-23T20:58:28.945Z"
   },
   {
    "duration": 55,
    "start_time": "2022-02-23T20:58:28.988Z"
   },
   {
    "duration": 12,
    "start_time": "2022-02-23T20:58:29.046Z"
   },
   {
    "duration": 27,
    "start_time": "2022-02-23T20:58:29.060Z"
   },
   {
    "duration": 31,
    "start_time": "2022-02-23T20:58:29.089Z"
   },
   {
    "duration": 217,
    "start_time": "2022-02-23T20:58:29.122Z"
   },
   {
    "duration": 88,
    "start_time": "2022-02-23T20:58:29.341Z"
   },
   {
    "duration": 30,
    "start_time": "2022-02-23T20:58:29.431Z"
   },
   {
    "duration": 19,
    "start_time": "2022-02-23T20:58:29.463Z"
   },
   {
    "duration": 174,
    "start_time": "2022-02-23T20:58:29.484Z"
   },
   {
    "duration": 5,
    "start_time": "2022-02-23T20:58:29.660Z"
   },
   {
    "duration": 16,
    "start_time": "2022-02-23T20:58:29.667Z"
   },
   {
    "duration": 7,
    "start_time": "2022-02-23T20:58:29.685Z"
   },
   {
    "duration": 84,
    "start_time": "2022-02-23T20:58:29.694Z"
   },
   {
    "duration": 50,
    "start_time": "2022-02-23T20:58:29.781Z"
   },
   {
    "duration": 15,
    "start_time": "2022-02-23T20:58:29.833Z"
   },
   {
    "duration": 6,
    "start_time": "2022-02-23T20:58:29.850Z"
   },
   {
    "duration": 22,
    "start_time": "2022-02-23T20:58:29.858Z"
   },
   {
    "duration": 38,
    "start_time": "2022-02-23T20:58:29.882Z"
   },
   {
    "duration": 3,
    "start_time": "2022-02-23T20:58:29.924Z"
   },
   {
    "duration": 26,
    "start_time": "2022-02-23T20:58:29.929Z"
   },
   {
    "duration": 24,
    "start_time": "2022-02-23T20:58:29.957Z"
   },
   {
    "duration": 42,
    "start_time": "2022-02-23T20:58:29.982Z"
   },
   {
    "duration": 20,
    "start_time": "2022-02-23T20:58:30.026Z"
   },
   {
    "duration": 12,
    "start_time": "2022-02-23T20:58:30.048Z"
   },
   {
    "duration": 25,
    "start_time": "2022-02-23T20:58:30.062Z"
   },
   {
    "duration": 50,
    "start_time": "2022-02-23T20:58:30.089Z"
   },
   {
    "duration": 28,
    "start_time": "2022-02-23T20:58:30.141Z"
   },
   {
    "duration": 756,
    "start_time": "2022-02-23T20:58:30.171Z"
   },
   {
    "duration": -41,
    "start_time": "2022-02-23T20:58:30.969Z"
   },
   {
    "duration": 6,
    "start_time": "2022-02-23T21:00:32.362Z"
   },
   {
    "duration": 7,
    "start_time": "2022-02-23T21:00:33.952Z"
   },
   {
    "duration": 27,
    "start_time": "2022-02-23T21:00:34.586Z"
   },
   {
    "duration": 681,
    "start_time": "2022-02-23T21:00:38.338Z"
   },
   {
    "duration": 7,
    "start_time": "2022-02-23T21:01:36.247Z"
   },
   {
    "duration": 7,
    "start_time": "2022-02-23T21:01:36.655Z"
   },
   {
    "duration": 26,
    "start_time": "2022-02-23T21:01:37.161Z"
   },
   {
    "duration": 532,
    "start_time": "2022-02-23T21:01:38.327Z"
   },
   {
    "duration": 6,
    "start_time": "2022-02-23T21:02:38.303Z"
   },
   {
    "duration": 6,
    "start_time": "2022-02-23T21:02:38.914Z"
   },
   {
    "duration": 27,
    "start_time": "2022-02-23T21:02:39.392Z"
   },
   {
    "duration": 6953,
    "start_time": "2022-02-23T21:02:40.095Z"
   },
   {
    "duration": 9,
    "start_time": "2022-02-23T21:02:47.051Z"
   },
   {
    "duration": 26,
    "start_time": "2022-02-23T21:03:00.303Z"
   },
   {
    "duration": 95,
    "start_time": "2022-02-23T21:05:14.822Z"
   },
   {
    "duration": 6,
    "start_time": "2022-02-23T21:05:21.262Z"
   },
   {
    "duration": 7,
    "start_time": "2022-02-23T21:05:22.382Z"
   },
   {
    "duration": 32,
    "start_time": "2022-02-23T21:05:22.639Z"
   },
   {
    "duration": 521,
    "start_time": "2022-02-23T21:05:22.891Z"
   },
   {
    "duration": 9,
    "start_time": "2022-02-23T21:05:23.469Z"
   },
   {
    "duration": 29,
    "start_time": "2022-02-23T21:05:24.046Z"
   },
   {
    "duration": 663,
    "start_time": "2022-02-23T21:05:34.043Z"
   },
   {
    "duration": 392,
    "start_time": "2022-02-23T21:05:34.708Z"
   },
   {
    "duration": 23,
    "start_time": "2022-02-23T21:05:35.102Z"
   },
   {
    "duration": 16,
    "start_time": "2022-02-23T21:05:35.127Z"
   },
   {
    "duration": 55,
    "start_time": "2022-02-23T21:05:35.145Z"
   },
   {
    "duration": 1413,
    "start_time": "2022-02-23T21:05:35.219Z"
   },
   {
    "duration": 11,
    "start_time": "2022-02-23T21:05:36.634Z"
   },
   {
    "duration": 21,
    "start_time": "2022-02-23T21:05:36.648Z"
   },
   {
    "duration": 57,
    "start_time": "2022-02-23T21:05:36.672Z"
   },
   {
    "duration": 11,
    "start_time": "2022-02-23T21:05:36.731Z"
   },
   {
    "duration": 37,
    "start_time": "2022-02-23T21:05:36.743Z"
   },
   {
    "duration": 3,
    "start_time": "2022-02-23T21:05:36.782Z"
   },
   {
    "duration": 222,
    "start_time": "2022-02-23T21:05:36.787Z"
   },
   {
    "duration": 79,
    "start_time": "2022-02-23T21:05:37.011Z"
   },
   {
    "duration": 44,
    "start_time": "2022-02-23T21:05:37.092Z"
   },
   {
    "duration": 15,
    "start_time": "2022-02-23T21:05:37.137Z"
   },
   {
    "duration": 159,
    "start_time": "2022-02-23T21:05:37.154Z"
   },
   {
    "duration": 5,
    "start_time": "2022-02-23T21:05:37.315Z"
   },
   {
    "duration": 14,
    "start_time": "2022-02-23T21:05:37.322Z"
   },
   {
    "duration": 6,
    "start_time": "2022-02-23T21:05:37.338Z"
   },
   {
    "duration": 84,
    "start_time": "2022-02-23T21:05:37.345Z"
   },
   {
    "duration": 26,
    "start_time": "2022-02-23T21:05:37.431Z"
   },
   {
    "duration": 14,
    "start_time": "2022-02-23T21:05:37.460Z"
   },
   {
    "duration": 4,
    "start_time": "2022-02-23T21:05:37.477Z"
   },
   {
    "duration": 20,
    "start_time": "2022-02-23T21:05:37.483Z"
   },
   {
    "duration": 24,
    "start_time": "2022-02-23T21:05:37.519Z"
   },
   {
    "duration": 4,
    "start_time": "2022-02-23T21:05:37.544Z"
   },
   {
    "duration": 26,
    "start_time": "2022-02-23T21:05:37.550Z"
   },
   {
    "duration": 53,
    "start_time": "2022-02-23T21:05:37.577Z"
   },
   {
    "duration": 16,
    "start_time": "2022-02-23T21:05:37.631Z"
   },
   {
    "duration": 5,
    "start_time": "2022-02-23T21:05:37.649Z"
   },
   {
    "duration": 7,
    "start_time": "2022-02-23T21:05:37.656Z"
   },
   {
    "duration": 6,
    "start_time": "2022-02-23T21:05:37.664Z"
   },
   {
    "duration": 47,
    "start_time": "2022-02-23T21:05:37.671Z"
   },
   {
    "duration": 25,
    "start_time": "2022-02-23T21:05:37.720Z"
   },
   {
    "duration": 559,
    "start_time": "2022-02-23T21:05:37.746Z"
   },
   {
    "duration": -17,
    "start_time": "2022-02-23T21:05:38.324Z"
   },
   {
    "duration": -19,
    "start_time": "2022-02-23T21:05:38.327Z"
   },
   {
    "duration": 808,
    "start_time": "2022-02-23T21:06:19.168Z"
   },
   {
    "duration": 423,
    "start_time": "2022-02-23T21:06:19.978Z"
   },
   {
    "duration": 24,
    "start_time": "2022-02-23T21:06:20.403Z"
   },
   {
    "duration": 27,
    "start_time": "2022-02-23T21:06:20.429Z"
   },
   {
    "duration": 91,
    "start_time": "2022-02-23T21:06:20.457Z"
   },
   {
    "duration": 1512,
    "start_time": "2022-02-23T21:06:20.550Z"
   },
   {
    "duration": 13,
    "start_time": "2022-02-23T21:06:22.064Z"
   },
   {
    "duration": 25,
    "start_time": "2022-02-23T21:06:22.081Z"
   },
   {
    "duration": 46,
    "start_time": "2022-02-23T21:06:22.120Z"
   },
   {
    "duration": 12,
    "start_time": "2022-02-23T21:06:22.167Z"
   },
   {
    "duration": 62,
    "start_time": "2022-02-23T21:06:22.180Z"
   },
   {
    "duration": 5,
    "start_time": "2022-02-23T21:06:22.244Z"
   },
   {
    "duration": 223,
    "start_time": "2022-02-23T21:06:22.250Z"
   },
   {
    "duration": 83,
    "start_time": "2022-02-23T21:06:22.475Z"
   },
   {
    "duration": 28,
    "start_time": "2022-02-23T21:06:22.560Z"
   },
   {
    "duration": 33,
    "start_time": "2022-02-23T21:06:22.589Z"
   },
   {
    "duration": 153,
    "start_time": "2022-02-23T21:06:22.624Z"
   },
   {
    "duration": 6,
    "start_time": "2022-02-23T21:06:22.779Z"
   },
   {
    "duration": 18,
    "start_time": "2022-02-23T21:06:22.786Z"
   },
   {
    "duration": 15,
    "start_time": "2022-02-23T21:06:22.806Z"
   },
   {
    "duration": 65,
    "start_time": "2022-02-23T21:06:22.823Z"
   },
   {
    "duration": 51,
    "start_time": "2022-02-23T21:06:22.889Z"
   },
   {
    "duration": 15,
    "start_time": "2022-02-23T21:06:22.942Z"
   },
   {
    "duration": 9,
    "start_time": "2022-02-23T21:06:22.960Z"
   },
   {
    "duration": 25,
    "start_time": "2022-02-23T21:06:22.971Z"
   },
   {
    "duration": 39,
    "start_time": "2022-02-23T21:06:23.000Z"
   },
   {
    "duration": 3,
    "start_time": "2022-02-23T21:06:23.042Z"
   },
   {
    "duration": 29,
    "start_time": "2022-02-23T21:06:23.047Z"
   },
   {
    "duration": 41,
    "start_time": "2022-02-23T21:06:23.077Z"
   },
   {
    "duration": 23,
    "start_time": "2022-02-23T21:06:23.121Z"
   },
   {
    "duration": 8,
    "start_time": "2022-02-23T21:06:23.147Z"
   },
   {
    "duration": 6,
    "start_time": "2022-02-23T21:06:23.157Z"
   },
   {
    "duration": 27,
    "start_time": "2022-02-23T21:06:23.164Z"
   },
   {
    "duration": 38,
    "start_time": "2022-02-23T21:06:23.218Z"
   },
   {
    "duration": 753,
    "start_time": "2022-02-23T21:06:23.257Z"
   },
   {
    "duration": -41,
    "start_time": "2022-02-23T21:06:24.053Z"
   },
   {
    "duration": -47,
    "start_time": "2022-02-23T21:06:24.060Z"
   },
   {
    "duration": 6,
    "start_time": "2022-02-23T21:08:39.670Z"
   },
   {
    "duration": 7,
    "start_time": "2022-02-23T21:08:46.629Z"
   },
   {
    "duration": 9,
    "start_time": "2022-02-23T21:09:08.102Z"
   },
   {
    "duration": 720,
    "start_time": "2022-02-23T21:09:38.896Z"
   },
   {
    "duration": 402,
    "start_time": "2022-02-23T21:09:39.618Z"
   },
   {
    "duration": 24,
    "start_time": "2022-02-23T21:09:40.023Z"
   },
   {
    "duration": 19,
    "start_time": "2022-02-23T21:09:40.049Z"
   },
   {
    "duration": 85,
    "start_time": "2022-02-23T21:09:40.070Z"
   },
   {
    "duration": 1473,
    "start_time": "2022-02-23T21:09:40.157Z"
   },
   {
    "duration": 12,
    "start_time": "2022-02-23T21:09:41.631Z"
   },
   {
    "duration": 24,
    "start_time": "2022-02-23T21:09:41.645Z"
   },
   {
    "duration": 57,
    "start_time": "2022-02-23T21:09:41.673Z"
   },
   {
    "duration": 13,
    "start_time": "2022-02-23T21:09:41.732Z"
   },
   {
    "duration": 30,
    "start_time": "2022-02-23T21:09:41.746Z"
   },
   {
    "duration": 4,
    "start_time": "2022-02-23T21:09:41.778Z"
   },
   {
    "duration": 262,
    "start_time": "2022-02-23T21:09:41.784Z"
   },
   {
    "duration": 97,
    "start_time": "2022-02-23T21:09:42.048Z"
   },
   {
    "duration": 26,
    "start_time": "2022-02-23T21:09:42.146Z"
   },
   {
    "duration": 15,
    "start_time": "2022-02-23T21:09:42.174Z"
   },
   {
    "duration": 171,
    "start_time": "2022-02-23T21:09:42.191Z"
   },
   {
    "duration": 5,
    "start_time": "2022-02-23T21:09:42.365Z"
   },
   {
    "duration": 20,
    "start_time": "2022-02-23T21:09:42.371Z"
   },
   {
    "duration": 14,
    "start_time": "2022-02-23T21:09:42.393Z"
   },
   {
    "duration": 63,
    "start_time": "2022-02-23T21:09:42.418Z"
   },
   {
    "duration": 41,
    "start_time": "2022-02-23T21:09:42.483Z"
   },
   {
    "duration": 12,
    "start_time": "2022-02-23T21:09:42.526Z"
   },
   {
    "duration": 34,
    "start_time": "2022-02-23T21:09:42.539Z"
   },
   {
    "duration": 17,
    "start_time": "2022-02-23T21:09:42.575Z"
   },
   {
    "duration": 22,
    "start_time": "2022-02-23T21:09:42.594Z"
   },
   {
    "duration": 2,
    "start_time": "2022-02-23T21:09:42.621Z"
   },
   {
    "duration": 31,
    "start_time": "2022-02-23T21:09:42.626Z"
   },
   {
    "duration": 28,
    "start_time": "2022-02-23T21:09:42.659Z"
   },
   {
    "duration": 30,
    "start_time": "2022-02-23T21:09:42.689Z"
   },
   {
    "duration": 16,
    "start_time": "2022-02-23T21:09:42.720Z"
   },
   {
    "duration": 28,
    "start_time": "2022-02-23T21:09:42.738Z"
   },
   {
    "duration": 11,
    "start_time": "2022-02-23T21:09:42.768Z"
   },
   {
    "duration": 28,
    "start_time": "2022-02-23T21:09:42.781Z"
   },
   {
    "duration": 10,
    "start_time": "2022-02-23T21:09:42.811Z"
   },
   {
    "duration": 38,
    "start_time": "2022-02-23T21:09:42.823Z"
   },
   {
    "duration": 590,
    "start_time": "2022-02-23T21:09:42.862Z"
   },
   {
    "duration": 9,
    "start_time": "2022-02-23T21:09:43.445Z"
   },
   {
    "duration": -36,
    "start_time": "2022-02-23T21:09:43.491Z"
   },
   {
    "duration": 677,
    "start_time": "2022-02-23T21:10:25.653Z"
   },
   {
    "duration": 415,
    "start_time": "2022-02-23T21:10:26.332Z"
   },
   {
    "duration": 23,
    "start_time": "2022-02-23T21:10:26.749Z"
   },
   {
    "duration": 17,
    "start_time": "2022-02-23T21:10:26.775Z"
   },
   {
    "duration": 62,
    "start_time": "2022-02-23T21:10:26.794Z"
   },
   {
    "duration": 1517,
    "start_time": "2022-02-23T21:10:26.858Z"
   },
   {
    "duration": 13,
    "start_time": "2022-02-23T21:10:28.377Z"
   },
   {
    "duration": 37,
    "start_time": "2022-02-23T21:10:28.393Z"
   },
   {
    "duration": 38,
    "start_time": "2022-02-23T21:10:28.432Z"
   },
   {
    "duration": 12,
    "start_time": "2022-02-23T21:10:28.472Z"
   },
   {
    "duration": 56,
    "start_time": "2022-02-23T21:10:28.485Z"
   },
   {
    "duration": 4,
    "start_time": "2022-02-23T21:10:28.542Z"
   },
   {
    "duration": 232,
    "start_time": "2022-02-23T21:10:28.548Z"
   },
   {
    "duration": 88,
    "start_time": "2022-02-23T21:10:28.782Z"
   },
   {
    "duration": 27,
    "start_time": "2022-02-23T21:10:28.872Z"
   },
   {
    "duration": 31,
    "start_time": "2022-02-23T21:10:28.902Z"
   },
   {
    "duration": 157,
    "start_time": "2022-02-23T21:10:28.935Z"
   },
   {
    "duration": 5,
    "start_time": "2022-02-23T21:10:29.094Z"
   },
   {
    "duration": 27,
    "start_time": "2022-02-23T21:10:29.101Z"
   },
   {
    "duration": 6,
    "start_time": "2022-02-23T21:10:29.131Z"
   },
   {
    "duration": 63,
    "start_time": "2022-02-23T21:10:29.139Z"
   },
   {
    "duration": 30,
    "start_time": "2022-02-23T21:10:29.218Z"
   },
   {
    "duration": 14,
    "start_time": "2022-02-23T21:10:29.253Z"
   },
   {
    "duration": 7,
    "start_time": "2022-02-23T21:10:29.270Z"
   },
   {
    "duration": 41,
    "start_time": "2022-02-23T21:10:29.279Z"
   },
   {
    "duration": 29,
    "start_time": "2022-02-23T21:10:29.322Z"
   },
   {
    "duration": 4,
    "start_time": "2022-02-23T21:10:29.352Z"
   },
   {
    "duration": 27,
    "start_time": "2022-02-23T21:10:29.358Z"
   },
   {
    "duration": 45,
    "start_time": "2022-02-23T21:10:29.387Z"
   },
   {
    "duration": 17,
    "start_time": "2022-02-23T21:10:29.434Z"
   },
   {
    "duration": 4,
    "start_time": "2022-02-23T21:10:29.452Z"
   },
   {
    "duration": 8,
    "start_time": "2022-02-23T21:10:29.458Z"
   },
   {
    "duration": 10,
    "start_time": "2022-02-23T21:10:29.467Z"
   },
   {
    "duration": 16,
    "start_time": "2022-02-23T21:10:29.480Z"
   },
   {
    "duration": 7,
    "start_time": "2022-02-23T21:10:29.518Z"
   },
   {
    "duration": 33,
    "start_time": "2022-02-23T21:10:29.526Z"
   },
   {
    "duration": 620,
    "start_time": "2022-02-23T21:10:29.561Z"
   },
   {
    "duration": -10,
    "start_time": "2022-02-23T21:10:30.193Z"
   },
   {
    "duration": -24,
    "start_time": "2022-02-23T21:10:30.208Z"
   },
   {
    "duration": 6,
    "start_time": "2022-02-23T21:11:49.948Z"
   },
   {
    "duration": 3,
    "start_time": "2022-02-23T21:11:50.690Z"
   },
   {
    "duration": 8,
    "start_time": "2022-02-23T21:11:51.122Z"
   },
   {
    "duration": 6,
    "start_time": "2022-02-23T21:11:51.378Z"
   },
   {
    "duration": 27,
    "start_time": "2022-02-23T21:11:51.796Z"
   },
   {
    "duration": 7534,
    "start_time": "2022-02-23T21:11:52.331Z"
   },
   {
    "duration": 258,
    "start_time": "2022-02-23T21:13:11.602Z"
   },
   {
    "duration": 7795,
    "start_time": "2022-02-23T21:13:12.857Z"
   },
   {
    "duration": 81,
    "start_time": "2022-02-23T21:13:21.089Z"
   },
   {
    "duration": 248,
    "start_time": "2022-02-23T21:13:25.721Z"
   },
   {
    "duration": 7562,
    "start_time": "2022-02-23T21:13:26.523Z"
   },
   {
    "duration": 3,
    "start_time": "2022-02-23T21:13:39.098Z"
   },
   {
    "duration": 7363,
    "start_time": "2022-02-23T21:13:40.201Z"
   },
   {
    "duration": 9,
    "start_time": "2022-02-23T21:13:49.674Z"
   },
   {
    "duration": 28,
    "start_time": "2022-02-23T21:13:51.816Z"
   },
   {
    "duration": 680,
    "start_time": "2022-02-23T21:14:42.036Z"
   },
   {
    "duration": 393,
    "start_time": "2022-02-23T21:14:42.718Z"
   },
   {
    "duration": 24,
    "start_time": "2022-02-23T21:14:43.113Z"
   },
   {
    "duration": 17,
    "start_time": "2022-02-23T21:14:43.139Z"
   },
   {
    "duration": 80,
    "start_time": "2022-02-23T21:14:43.158Z"
   },
   {
    "duration": 1454,
    "start_time": "2022-02-23T21:14:43.240Z"
   },
   {
    "duration": 12,
    "start_time": "2022-02-23T21:14:44.695Z"
   },
   {
    "duration": 33,
    "start_time": "2022-02-23T21:14:44.709Z"
   },
   {
    "duration": 36,
    "start_time": "2022-02-23T21:14:44.745Z"
   },
   {
    "duration": 11,
    "start_time": "2022-02-23T21:14:44.783Z"
   },
   {
    "duration": 27,
    "start_time": "2022-02-23T21:14:44.819Z"
   },
   {
    "duration": 4,
    "start_time": "2022-02-23T21:14:44.848Z"
   },
   {
    "duration": 239,
    "start_time": "2022-02-23T21:14:44.854Z"
   },
   {
    "duration": 83,
    "start_time": "2022-02-23T21:14:45.095Z"
   },
   {
    "duration": 41,
    "start_time": "2022-02-23T21:14:45.181Z"
   },
   {
    "duration": 17,
    "start_time": "2022-02-23T21:14:45.225Z"
   },
   {
    "duration": 162,
    "start_time": "2022-02-23T21:14:45.244Z"
   },
   {
    "duration": 11,
    "start_time": "2022-02-23T21:14:45.408Z"
   },
   {
    "duration": 15,
    "start_time": "2022-02-23T21:14:45.421Z"
   },
   {
    "duration": 7,
    "start_time": "2022-02-23T21:14:45.438Z"
   },
   {
    "duration": 88,
    "start_time": "2022-02-23T21:14:45.447Z"
   },
   {
    "duration": 29,
    "start_time": "2022-02-23T21:14:45.537Z"
   },
   {
    "duration": 13,
    "start_time": "2022-02-23T21:14:45.568Z"
   },
   {
    "duration": 3,
    "start_time": "2022-02-23T21:14:45.583Z"
   },
   {
    "duration": 42,
    "start_time": "2022-02-23T21:14:45.588Z"
   },
   {
    "duration": 24,
    "start_time": "2022-02-23T21:14:45.632Z"
   },
   {
    "duration": 3,
    "start_time": "2022-02-23T21:14:45.659Z"
   },
   {
    "duration": 25,
    "start_time": "2022-02-23T21:14:45.664Z"
   },
   {
    "duration": 49,
    "start_time": "2022-02-23T21:14:45.691Z"
   },
   {
    "duration": 16,
    "start_time": "2022-02-23T21:14:45.743Z"
   },
   {
    "duration": 5,
    "start_time": "2022-02-23T21:14:45.761Z"
   },
   {
    "duration": 7,
    "start_time": "2022-02-23T21:14:45.768Z"
   },
   {
    "duration": 7,
    "start_time": "2022-02-23T21:14:45.777Z"
   },
   {
    "duration": 40,
    "start_time": "2022-02-23T21:14:45.785Z"
   },
   {
    "duration": 6,
    "start_time": "2022-02-23T21:14:45.827Z"
   },
   {
    "duration": 29,
    "start_time": "2022-02-23T21:14:45.835Z"
   },
   {
    "duration": 6,
    "start_time": "2022-02-23T21:14:45.865Z"
   },
   {
    "duration": 8927,
    "start_time": "2022-02-23T21:14:45.873Z"
   },
   {
    "duration": 16,
    "start_time": "2022-02-23T21:14:54.802Z"
   },
   {
    "duration": 30,
    "start_time": "2022-02-23T21:14:54.820Z"
   },
   {
    "duration": 6,
    "start_time": "2022-02-23T21:20:36.096Z"
   },
   {
    "duration": 740,
    "start_time": "2022-02-23T21:20:42.092Z"
   },
   {
    "duration": 407,
    "start_time": "2022-02-23T21:20:42.834Z"
   },
   {
    "duration": 22,
    "start_time": "2022-02-23T21:20:43.243Z"
   },
   {
    "duration": 30,
    "start_time": "2022-02-23T21:20:43.267Z"
   },
   {
    "duration": 56,
    "start_time": "2022-02-23T21:20:43.299Z"
   },
   {
    "duration": 1456,
    "start_time": "2022-02-23T21:20:43.357Z"
   },
   {
    "duration": 12,
    "start_time": "2022-02-23T21:20:44.818Z"
   },
   {
    "duration": 29,
    "start_time": "2022-02-23T21:20:44.833Z"
   },
   {
    "duration": 43,
    "start_time": "2022-02-23T21:20:44.865Z"
   },
   {
    "duration": 12,
    "start_time": "2022-02-23T21:20:44.919Z"
   },
   {
    "duration": 31,
    "start_time": "2022-02-23T21:20:44.933Z"
   },
   {
    "duration": 5,
    "start_time": "2022-02-23T21:20:44.965Z"
   },
   {
    "duration": 255,
    "start_time": "2022-02-23T21:20:44.972Z"
   },
   {
    "duration": 92,
    "start_time": "2022-02-23T21:20:45.229Z"
   },
   {
    "duration": 31,
    "start_time": "2022-02-23T21:20:45.323Z"
   },
   {
    "duration": 18,
    "start_time": "2022-02-23T21:20:45.356Z"
   },
   {
    "duration": 181,
    "start_time": "2022-02-23T21:20:45.375Z"
   },
   {
    "duration": 5,
    "start_time": "2022-02-23T21:20:45.558Z"
   },
   {
    "duration": 22,
    "start_time": "2022-02-23T21:20:45.565Z"
   },
   {
    "duration": 6,
    "start_time": "2022-02-23T21:20:45.588Z"
   },
   {
    "duration": 76,
    "start_time": "2022-02-23T21:20:45.597Z"
   },
   {
    "duration": 28,
    "start_time": "2022-02-23T21:20:45.675Z"
   },
   {
    "duration": 25,
    "start_time": "2022-02-23T21:20:45.706Z"
   },
   {
    "duration": 3,
    "start_time": "2022-02-23T21:20:45.734Z"
   },
   {
    "duration": 15,
    "start_time": "2022-02-23T21:20:45.739Z"
   },
   {
    "duration": 24,
    "start_time": "2022-02-23T21:20:45.756Z"
   },
   {
    "duration": 2,
    "start_time": "2022-02-23T21:20:45.782Z"
   },
   {
    "duration": 54,
    "start_time": "2022-02-23T21:20:45.786Z"
   },
   {
    "duration": 24,
    "start_time": "2022-02-23T21:20:45.843Z"
   },
   {
    "duration": 16,
    "start_time": "2022-02-23T21:20:45.868Z"
   },
   {
    "duration": 34,
    "start_time": "2022-02-23T21:20:45.886Z"
   },
   {
    "duration": 6,
    "start_time": "2022-02-23T21:20:45.922Z"
   },
   {
    "duration": 7,
    "start_time": "2022-02-23T21:20:45.930Z"
   },
   {
    "duration": 16,
    "start_time": "2022-02-23T21:20:45.939Z"
   },
   {
    "duration": 16,
    "start_time": "2022-02-23T21:20:45.957Z"
   },
   {
    "duration": 27,
    "start_time": "2022-02-23T21:20:45.975Z"
   },
   {
    "duration": 20,
    "start_time": "2022-02-23T21:20:46.005Z"
   },
   {
    "duration": 9597,
    "start_time": "2022-02-23T21:20:46.027Z"
   },
   {
    "duration": 8,
    "start_time": "2022-02-23T21:20:55.626Z"
   },
   {
    "duration": 32,
    "start_time": "2022-02-23T21:20:55.635Z"
   },
   {
    "duration": 3,
    "start_time": "2022-02-23T21:23:35.930Z"
   },
   {
    "duration": 5,
    "start_time": "2022-02-23T21:26:37.595Z"
   },
   {
    "duration": 7,
    "start_time": "2022-02-23T21:26:41.801Z"
   },
   {
    "duration": 2746,
    "start_time": "2022-02-23T21:26:45.178Z"
   },
   {
    "duration": 11256,
    "start_time": "2022-02-23T21:27:06.818Z"
   },
   {
    "duration": 289,
    "start_time": "2022-02-23T21:27:21.322Z"
   },
   {
    "duration": 213,
    "start_time": "2022-02-23T21:27:35.290Z"
   },
   {
    "duration": 226,
    "start_time": "2022-02-23T21:27:53.339Z"
   },
   {
    "duration": 222,
    "start_time": "2022-02-23T21:32:18.896Z"
   },
   {
    "duration": 87,
    "start_time": "2022-02-23T21:37:28.767Z"
   },
   {
    "duration": 89,
    "start_time": "2022-02-23T21:37:34.431Z"
   },
   {
    "duration": 84,
    "start_time": "2022-02-23T21:37:40.974Z"
   },
   {
    "duration": 2242,
    "start_time": "2022-02-23T21:37:47.007Z"
   },
   {
    "duration": 1512,
    "start_time": "2022-02-23T21:38:02.208Z"
   },
   {
    "duration": 218,
    "start_time": "2022-02-23T21:38:19.615Z"
   },
   {
    "duration": 872,
    "start_time": "2022-02-23T21:38:35.087Z"
   },
   {
    "duration": 393,
    "start_time": "2022-02-23T21:38:39.086Z"
   },
   {
    "duration": 222,
    "start_time": "2022-02-23T21:38:43.278Z"
   },
   {
    "duration": 224,
    "start_time": "2022-02-23T21:39:00.078Z"
   },
   {
    "duration": 218,
    "start_time": "2022-02-23T21:39:28.463Z"
   },
   {
    "duration": 214,
    "start_time": "2022-02-23T21:39:47.862Z"
   },
   {
    "duration": 82,
    "start_time": "2022-02-23T21:41:41.045Z"
   },
   {
    "duration": 91,
    "start_time": "2022-02-23T21:41:51.973Z"
   },
   {
    "duration": 651,
    "start_time": "2022-02-23T21:42:06.863Z"
   },
   {
    "duration": 547,
    "start_time": "2022-02-23T21:42:34.590Z"
   },
   {
    "duration": 220,
    "start_time": "2022-02-23T21:42:41.534Z"
   },
   {
    "duration": 1205,
    "start_time": "2022-02-23T21:43:39.388Z"
   },
   {
    "duration": 1035,
    "start_time": "2022-02-23T21:43:45.580Z"
   },
   {
    "duration": 1098,
    "start_time": "2022-02-23T21:43:53.380Z"
   },
   {
    "duration": 1002,
    "start_time": "2022-02-23T21:44:01.725Z"
   },
   {
    "duration": 2706,
    "start_time": "2022-02-23T21:44:29.772Z"
   },
   {
    "duration": 6180,
    "start_time": "2022-02-23T21:45:13.860Z"
   },
   {
    "duration": 2867,
    "start_time": "2022-02-23T21:45:49.258Z"
   },
   {
    "duration": 1403,
    "start_time": "2022-02-23T21:45:52.127Z"
   },
   {
    "duration": 417,
    "start_time": "2022-02-23T21:45:53.533Z"
   },
   {
    "duration": 25,
    "start_time": "2022-02-23T21:45:53.952Z"
   },
   {
    "duration": 19,
    "start_time": "2022-02-23T21:45:53.979Z"
   },
   {
    "duration": 64,
    "start_time": "2022-02-23T21:45:53.999Z"
   },
   {
    "duration": 1827,
    "start_time": "2022-02-23T21:45:54.065Z"
   },
   {
    "duration": 11,
    "start_time": "2022-02-23T21:45:55.895Z"
   },
   {
    "duration": 26,
    "start_time": "2022-02-23T21:45:55.909Z"
   },
   {
    "duration": 35,
    "start_time": "2022-02-23T21:45:55.937Z"
   },
   {
    "duration": 11,
    "start_time": "2022-02-23T21:45:55.974Z"
   },
   {
    "duration": 56,
    "start_time": "2022-02-23T21:45:55.987Z"
   },
   {
    "duration": 5,
    "start_time": "2022-02-23T21:45:56.045Z"
   },
   {
    "duration": 428,
    "start_time": "2022-02-23T21:45:56.051Z"
   },
   {
    "duration": 85,
    "start_time": "2022-02-23T21:45:56.481Z"
   },
   {
    "duration": 28,
    "start_time": "2022-02-23T21:45:56.569Z"
   },
   {
    "duration": 27,
    "start_time": "2022-02-23T21:45:56.599Z"
   },
   {
    "duration": 165,
    "start_time": "2022-02-23T21:45:56.628Z"
   },
   {
    "duration": 5,
    "start_time": "2022-02-23T21:45:56.795Z"
   },
   {
    "duration": 31,
    "start_time": "2022-02-23T21:45:56.802Z"
   },
   {
    "duration": 8,
    "start_time": "2022-02-23T21:45:56.835Z"
   },
   {
    "duration": 80,
    "start_time": "2022-02-23T21:45:56.845Z"
   },
   {
    "duration": 32,
    "start_time": "2022-02-23T21:45:56.930Z"
   },
   {
    "duration": 14,
    "start_time": "2022-02-23T21:45:56.964Z"
   },
   {
    "duration": 21,
    "start_time": "2022-02-23T21:45:56.980Z"
   },
   {
    "duration": 54,
    "start_time": "2022-02-23T21:45:57.003Z"
   },
   {
    "duration": 56,
    "start_time": "2022-02-23T21:45:57.059Z"
   },
   {
    "duration": 4,
    "start_time": "2022-02-23T21:45:57.117Z"
   },
   {
    "duration": 63,
    "start_time": "2022-02-23T21:45:57.123Z"
   },
   {
    "duration": 30,
    "start_time": "2022-02-23T21:45:57.188Z"
   },
   {
    "duration": 27,
    "start_time": "2022-02-23T21:45:57.220Z"
   },
   {
    "duration": 22,
    "start_time": "2022-02-23T21:45:57.249Z"
   },
   {
    "duration": 31,
    "start_time": "2022-02-23T21:45:57.273Z"
   },
   {
    "duration": 2,
    "start_time": "2022-02-23T21:45:57.306Z"
   },
   {
    "duration": 9035,
    "start_time": "2022-02-23T21:45:57.310Z"
   },
   {
    "duration": 9,
    "start_time": "2022-02-23T21:46:06.347Z"
   },
   {
    "duration": 26,
    "start_time": "2022-02-23T21:46:06.358Z"
   },
   {
    "duration": 600,
    "start_time": "2022-02-23T21:46:06.386Z"
   },
   {
    "duration": 2821,
    "start_time": "2022-02-23T21:47:23.425Z"
   },
   {
    "duration": 1098,
    "start_time": "2022-02-23T21:47:26.249Z"
   },
   {
    "duration": 413,
    "start_time": "2022-02-23T21:47:27.350Z"
   },
   {
    "duration": 22,
    "start_time": "2022-02-23T21:47:27.765Z"
   },
   {
    "duration": 19,
    "start_time": "2022-02-23T21:47:27.789Z"
   },
   {
    "duration": 64,
    "start_time": "2022-02-23T21:47:27.809Z"
   },
   {
    "duration": 1654,
    "start_time": "2022-02-23T21:47:27.875Z"
   },
   {
    "duration": 12,
    "start_time": "2022-02-23T21:47:29.532Z"
   },
   {
    "duration": 26,
    "start_time": "2022-02-23T21:47:29.546Z"
   },
   {
    "duration": 54,
    "start_time": "2022-02-23T21:47:29.574Z"
   },
   {
    "duration": 13,
    "start_time": "2022-02-23T21:47:29.630Z"
   },
   {
    "duration": 32,
    "start_time": "2022-02-23T21:47:29.645Z"
   },
   {
    "duration": 5,
    "start_time": "2022-02-23T21:47:29.679Z"
   },
   {
    "duration": 247,
    "start_time": "2022-02-23T21:47:30.635Z"
   },
   {
    "duration": 77,
    "start_time": "2022-02-23T21:47:31.204Z"
   },
   {
    "duration": 30,
    "start_time": "2022-02-23T21:47:31.421Z"
   },
   {
    "duration": 18,
    "start_time": "2022-02-23T21:47:31.627Z"
   },
   {
    "duration": 190,
    "start_time": "2022-02-23T21:47:32.155Z"
   },
   {
    "duration": 7,
    "start_time": "2022-02-23T21:47:32.579Z"
   },
   {
    "duration": 15,
    "start_time": "2022-02-23T21:47:32.780Z"
   },
   {
    "duration": 6,
    "start_time": "2022-02-23T21:47:33.164Z"
   },
   {
    "duration": 62,
    "start_time": "2022-02-23T21:47:33.539Z"
   },
   {
    "duration": 27,
    "start_time": "2022-02-23T21:47:34.115Z"
   },
   {
    "duration": 13,
    "start_time": "2022-02-23T21:47:34.299Z"
   },
   {
    "duration": 4,
    "start_time": "2022-02-23T21:47:34.484Z"
   },
   {
    "duration": 13,
    "start_time": "2022-02-23T21:47:34.636Z"
   },
   {
    "duration": 33,
    "start_time": "2022-02-23T21:47:35.040Z"
   },
   {
    "duration": 4,
    "start_time": "2022-02-23T21:47:35.223Z"
   },
   {
    "duration": 25,
    "start_time": "2022-02-23T21:47:35.595Z"
   },
   {
    "duration": 27,
    "start_time": "2022-02-23T21:47:35.859Z"
   },
   {
    "duration": 16,
    "start_time": "2022-02-23T21:47:36.099Z"
   },
   {
    "duration": 6,
    "start_time": "2022-02-23T21:47:36.275Z"
   },
   {
    "duration": 26,
    "start_time": "2022-02-23T21:47:36.459Z"
   },
   {
    "duration": 8760,
    "start_time": "2022-02-23T21:47:36.666Z"
   },
   {
    "duration": 9,
    "start_time": "2022-02-23T21:47:45.428Z"
   },
   {
    "duration": 27,
    "start_time": "2022-02-23T21:47:45.439Z"
   },
   {
    "duration": 603,
    "start_time": "2022-02-23T21:47:45.469Z"
   },
   {
    "duration": 85,
    "start_time": "2022-02-23T21:49:03.326Z"
   },
   {
    "duration": 281,
    "start_time": "2022-02-23T21:49:08.211Z"
   },
   {
    "duration": 1090,
    "start_time": "2022-02-23T21:49:31.838Z"
   },
   {
    "duration": 411,
    "start_time": "2022-02-23T21:49:32.930Z"
   },
   {
    "duration": 22,
    "start_time": "2022-02-23T21:49:33.345Z"
   },
   {
    "duration": 16,
    "start_time": "2022-02-23T21:49:33.368Z"
   },
   {
    "duration": 64,
    "start_time": "2022-02-23T21:49:33.386Z"
   },
   {
    "duration": 1418,
    "start_time": "2022-02-23T21:49:33.452Z"
   },
   {
    "duration": 12,
    "start_time": "2022-02-23T21:49:34.872Z"
   },
   {
    "duration": 34,
    "start_time": "2022-02-23T21:49:34.887Z"
   },
   {
    "duration": 34,
    "start_time": "2022-02-23T21:49:34.923Z"
   },
   {
    "duration": 11,
    "start_time": "2022-02-23T21:49:34.959Z"
   },
   {
    "duration": 55,
    "start_time": "2022-02-23T21:49:34.972Z"
   },
   {
    "duration": 4,
    "start_time": "2022-02-23T21:49:35.029Z"
   },
   {
    "duration": 353,
    "start_time": "2022-02-23T21:49:35.035Z"
   },
   {
    "duration": 97,
    "start_time": "2022-02-23T21:49:35.389Z"
   },
   {
    "duration": 62,
    "start_time": "2022-02-23T21:49:35.495Z"
   },
   {
    "duration": 102,
    "start_time": "2022-02-23T21:49:35.559Z"
   },
   {
    "duration": 442,
    "start_time": "2022-02-23T21:49:35.663Z"
   },
   {
    "duration": 11,
    "start_time": "2022-02-23T21:49:36.107Z"
   },
   {
    "duration": 23,
    "start_time": "2022-02-23T21:49:36.120Z"
   },
   {
    "duration": 7,
    "start_time": "2022-02-23T21:49:36.145Z"
   },
   {
    "duration": 79,
    "start_time": "2022-02-23T21:49:36.154Z"
   },
   {
    "duration": 28,
    "start_time": "2022-02-23T21:49:36.235Z"
   },
   {
    "duration": 12,
    "start_time": "2022-02-23T21:49:36.265Z"
   },
   {
    "duration": 7,
    "start_time": "2022-02-23T21:49:36.279Z"
   },
   {
    "duration": 38,
    "start_time": "2022-02-23T21:49:36.288Z"
   },
   {
    "duration": 21,
    "start_time": "2022-02-23T21:49:36.330Z"
   },
   {
    "duration": 3,
    "start_time": "2022-02-23T21:49:36.353Z"
   },
   {
    "duration": 26,
    "start_time": "2022-02-23T21:49:36.358Z"
   },
   {
    "duration": 45,
    "start_time": "2022-02-23T21:49:36.386Z"
   },
   {
    "duration": 19,
    "start_time": "2022-02-23T21:49:36.433Z"
   },
   {
    "duration": 7,
    "start_time": "2022-02-23T21:49:36.453Z"
   },
   {
    "duration": 31,
    "start_time": "2022-02-23T21:49:36.462Z"
   },
   {
    "duration": 8942,
    "start_time": "2022-02-23T21:49:36.518Z"
   },
   {
    "duration": 8,
    "start_time": "2022-02-23T21:49:45.462Z"
   },
   {
    "duration": 31,
    "start_time": "2022-02-23T21:49:45.472Z"
   },
   {
    "duration": 302,
    "start_time": "2022-02-23T21:49:45.505Z"
   },
   {
    "duration": 275,
    "start_time": "2022-02-23T21:50:08.821Z"
   },
   {
    "duration": 301,
    "start_time": "2022-02-23T21:51:53.373Z"
   },
   {
    "duration": 342,
    "start_time": "2022-02-23T21:56:59.395Z"
   },
   {
    "duration": 307,
    "start_time": "2022-02-23T21:59:38.571Z"
   },
   {
    "duration": 258,
    "start_time": "2022-02-23T21:59:44.938Z"
   },
   {
    "duration": 253,
    "start_time": "2022-02-23T21:59:49.746Z"
   },
   {
    "duration": 1177,
    "start_time": "2022-02-23T22:07:14.824Z"
   },
   {
    "duration": 264,
    "start_time": "2022-02-23T22:07:28.520Z"
   },
   {
    "duration": 267,
    "start_time": "2022-02-23T22:07:32.511Z"
   },
   {
    "duration": 278,
    "start_time": "2022-02-23T22:08:10.512Z"
   },
   {
    "duration": 263,
    "start_time": "2022-02-23T22:08:31.103Z"
   },
   {
    "duration": 418,
    "start_time": "2022-02-23T22:08:51.559Z"
   },
   {
    "duration": 276,
    "start_time": "2022-02-23T22:09:15.031Z"
   },
   {
    "duration": 4,
    "start_time": "2022-02-23T22:09:54.726Z"
   },
   {
    "duration": 282,
    "start_time": "2022-02-23T22:09:55.542Z"
   },
   {
    "duration": 3,
    "start_time": "2022-02-23T22:10:08.998Z"
   },
   {
    "duration": 303,
    "start_time": "2022-02-23T22:10:09.799Z"
   },
   {
    "duration": 472,
    "start_time": "2022-02-23T22:11:12.071Z"
   },
   {
    "duration": 279,
    "start_time": "2022-02-23T22:11:40.374Z"
   },
   {
    "duration": 3344,
    "start_time": "2022-02-23T22:13:10.567Z"
   },
   {
    "duration": 1181,
    "start_time": "2022-02-23T22:13:13.914Z"
   },
   {
    "duration": 415,
    "start_time": "2022-02-23T22:13:15.097Z"
   },
   {
    "duration": 22,
    "start_time": "2022-02-23T22:13:15.514Z"
   },
   {
    "duration": 21,
    "start_time": "2022-02-23T22:13:15.538Z"
   },
   {
    "duration": 76,
    "start_time": "2022-02-23T22:13:15.561Z"
   },
   {
    "duration": 1428,
    "start_time": "2022-02-23T22:13:15.639Z"
   },
   {
    "duration": 11,
    "start_time": "2022-02-23T22:13:17.069Z"
   },
   {
    "duration": 36,
    "start_time": "2022-02-23T22:13:17.083Z"
   },
   {
    "duration": 34,
    "start_time": "2022-02-23T22:13:17.121Z"
   },
   {
    "duration": 10,
    "start_time": "2022-02-23T22:13:17.157Z"
   },
   {
    "duration": 54,
    "start_time": "2022-02-23T22:13:17.169Z"
   },
   {
    "duration": 4,
    "start_time": "2022-02-23T22:13:17.224Z"
   },
   {
    "duration": 259,
    "start_time": "2022-02-23T22:13:17.230Z"
   },
   {
    "duration": 82,
    "start_time": "2022-02-23T22:13:17.491Z"
   },
   {
    "duration": 27,
    "start_time": "2022-02-23T22:13:17.574Z"
   },
   {
    "duration": 29,
    "start_time": "2022-02-23T22:13:17.602Z"
   },
   {
    "duration": 205,
    "start_time": "2022-02-23T22:13:17.633Z"
   },
   {
    "duration": 5,
    "start_time": "2022-02-23T22:13:17.840Z"
   },
   {
    "duration": 14,
    "start_time": "2022-02-23T22:13:17.846Z"
   },
   {
    "duration": 6,
    "start_time": "2022-02-23T22:13:17.862Z"
   },
   {
    "duration": 75,
    "start_time": "2022-02-23T22:13:17.870Z"
   },
   {
    "duration": 27,
    "start_time": "2022-02-23T22:13:17.947Z"
   },
   {
    "duration": 12,
    "start_time": "2022-02-23T22:13:17.976Z"
   },
   {
    "duration": 6,
    "start_time": "2022-02-23T22:13:17.990Z"
   },
   {
    "duration": 15,
    "start_time": "2022-02-23T22:13:18.019Z"
   },
   {
    "duration": 27,
    "start_time": "2022-02-23T22:13:18.038Z"
   },
   {
    "duration": 3,
    "start_time": "2022-02-23T22:13:18.067Z"
   },
   {
    "duration": 36,
    "start_time": "2022-02-23T22:13:18.072Z"
   },
   {
    "duration": 28,
    "start_time": "2022-02-23T22:13:18.110Z"
   },
   {
    "duration": 15,
    "start_time": "2022-02-23T22:13:18.140Z"
   },
   {
    "duration": 6,
    "start_time": "2022-02-23T22:13:18.157Z"
   },
   {
    "duration": 52,
    "start_time": "2022-02-23T22:13:18.165Z"
   },
   {
    "duration": 9080,
    "start_time": "2022-02-23T22:13:18.219Z"
   },
   {
    "duration": 8,
    "start_time": "2022-02-23T22:13:27.301Z"
   },
   {
    "duration": 27,
    "start_time": "2022-02-23T22:13:27.319Z"
   },
   {
    "duration": 254,
    "start_time": "2022-02-23T22:13:27.347Z"
   },
   {
    "duration": 321,
    "start_time": "2022-02-23T22:13:27.603Z"
   },
   {
    "duration": 16,
    "start_time": "2022-02-23T22:13:27.910Z"
   },
   {
    "duration": 14,
    "start_time": "2022-02-23T22:13:27.913Z"
   },
   {
    "duration": 498,
    "start_time": "2022-02-23T22:13:37.473Z"
   },
   {
    "duration": 277,
    "start_time": "2022-02-23T22:13:38.697Z"
   },
   {
    "duration": 447,
    "start_time": "2022-02-23T22:13:49.384Z"
   },
   {
    "duration": 79,
    "start_time": "2022-02-23T22:14:59.545Z"
   },
   {
    "duration": 253,
    "start_time": "2022-02-23T22:15:12.640Z"
   },
   {
    "duration": 369,
    "start_time": "2022-02-23T22:15:23.152Z"
   },
   {
    "duration": 392,
    "start_time": "2022-02-23T22:15:24.992Z"
   },
   {
    "duration": 253,
    "start_time": "2022-02-23T22:15:34.353Z"
   },
   {
    "duration": 404,
    "start_time": "2022-02-24T15:44:45.305Z"
   },
   {
    "duration": 726,
    "start_time": "2022-02-24T15:44:53.337Z"
   },
   {
    "duration": 431,
    "start_time": "2022-02-24T15:44:54.065Z"
   },
   {
    "duration": 24,
    "start_time": "2022-02-24T15:44:54.498Z"
   },
   {
    "duration": 20,
    "start_time": "2022-02-24T15:44:54.524Z"
   },
   {
    "duration": 65,
    "start_time": "2022-02-24T15:44:54.547Z"
   },
   {
    "duration": 1593,
    "start_time": "2022-02-24T15:44:54.614Z"
   },
   {
    "duration": 12,
    "start_time": "2022-02-24T15:44:56.209Z"
   },
   {
    "duration": 20,
    "start_time": "2022-02-24T15:44:56.225Z"
   },
   {
    "duration": 57,
    "start_time": "2022-02-24T15:44:56.248Z"
   },
   {
    "duration": 16,
    "start_time": "2022-02-24T15:44:56.307Z"
   },
   {
    "duration": 56,
    "start_time": "2022-02-24T15:44:56.325Z"
   },
   {
    "duration": 4,
    "start_time": "2022-02-24T15:44:56.383Z"
   },
   {
    "duration": 268,
    "start_time": "2022-02-24T15:44:56.388Z"
   },
   {
    "duration": 78,
    "start_time": "2022-02-24T15:44:56.658Z"
   },
   {
    "duration": 36,
    "start_time": "2022-02-24T15:44:56.738Z"
   },
   {
    "duration": 17,
    "start_time": "2022-02-24T15:44:56.776Z"
   },
   {
    "duration": 165,
    "start_time": "2022-02-24T15:44:56.795Z"
   },
   {
    "duration": 7,
    "start_time": "2022-02-24T15:44:56.962Z"
   },
   {
    "duration": 16,
    "start_time": "2022-02-24T15:44:56.971Z"
   },
   {
    "duration": 6,
    "start_time": "2022-02-24T15:44:56.988Z"
   },
   {
    "duration": 86,
    "start_time": "2022-02-24T15:44:56.996Z"
   },
   {
    "duration": 25,
    "start_time": "2022-02-24T15:44:57.084Z"
   },
   {
    "duration": 12,
    "start_time": "2022-02-24T15:44:57.112Z"
   },
   {
    "duration": 6,
    "start_time": "2022-02-24T15:44:57.126Z"
   },
   {
    "duration": 37,
    "start_time": "2022-02-24T15:44:57.133Z"
   },
   {
    "duration": 21,
    "start_time": "2022-02-24T15:44:57.172Z"
   },
   {
    "duration": 3,
    "start_time": "2022-02-24T15:44:57.195Z"
   },
   {
    "duration": 25,
    "start_time": "2022-02-24T15:44:57.200Z"
   },
   {
    "duration": 45,
    "start_time": "2022-02-24T15:44:57.227Z"
   },
   {
    "duration": 18,
    "start_time": "2022-02-24T15:44:57.274Z"
   },
   {
    "duration": 5,
    "start_time": "2022-02-24T15:44:57.294Z"
   },
   {
    "duration": 42,
    "start_time": "2022-02-24T15:44:57.301Z"
   },
   {
    "duration": 9579,
    "start_time": "2022-02-24T15:44:57.345Z"
   },
   {
    "duration": 9,
    "start_time": "2022-02-24T15:45:06.926Z"
   },
   {
    "duration": 38,
    "start_time": "2022-02-24T15:45:06.936Z"
   },
   {
    "duration": 372,
    "start_time": "2022-02-24T15:45:06.976Z"
   },
   {
    "duration": 592,
    "start_time": "2022-02-24T15:46:03.600Z"
   },
   {
    "duration": 334,
    "start_time": "2022-02-24T15:46:11.672Z"
   },
   {
    "duration": 276,
    "start_time": "2022-02-24T15:46:23.361Z"
   },
   {
    "duration": 750,
    "start_time": "2022-02-24T15:49:44.569Z"
   },
   {
    "duration": 428,
    "start_time": "2022-02-24T15:49:45.321Z"
   },
   {
    "duration": 24,
    "start_time": "2022-02-24T15:49:45.752Z"
   },
   {
    "duration": 26,
    "start_time": "2022-02-24T15:49:45.778Z"
   },
   {
    "duration": 101,
    "start_time": "2022-02-24T15:49:45.806Z"
   },
   {
    "duration": 1563,
    "start_time": "2022-02-24T15:49:45.910Z"
   },
   {
    "duration": 10,
    "start_time": "2022-02-24T15:49:47.475Z"
   },
   {
    "duration": 21,
    "start_time": "2022-02-24T15:49:47.489Z"
   },
   {
    "duration": 68,
    "start_time": "2022-02-24T15:49:47.514Z"
   },
   {
    "duration": 12,
    "start_time": "2022-02-24T15:49:47.585Z"
   },
   {
    "duration": 30,
    "start_time": "2022-02-24T15:49:47.600Z"
   },
   {
    "duration": 40,
    "start_time": "2022-02-24T15:49:47.632Z"
   },
   {
    "duration": 288,
    "start_time": "2022-02-24T15:49:47.675Z"
   },
   {
    "duration": 77,
    "start_time": "2022-02-24T15:49:47.964Z"
   },
   {
    "duration": 42,
    "start_time": "2022-02-24T15:49:48.043Z"
   },
   {
    "duration": 17,
    "start_time": "2022-02-24T15:49:48.086Z"
   },
   {
    "duration": 166,
    "start_time": "2022-02-24T15:49:48.105Z"
   },
   {
    "duration": 5,
    "start_time": "2022-02-24T15:49:48.273Z"
   },
   {
    "duration": 15,
    "start_time": "2022-02-24T15:49:48.280Z"
   },
   {
    "duration": 6,
    "start_time": "2022-02-24T15:49:48.296Z"
   },
   {
    "duration": 86,
    "start_time": "2022-02-24T15:49:48.304Z"
   },
   {
    "duration": 27,
    "start_time": "2022-02-24T15:49:48.392Z"
   },
   {
    "duration": 14,
    "start_time": "2022-02-24T15:49:48.422Z"
   },
   {
    "duration": 4,
    "start_time": "2022-02-24T15:49:48.438Z"
   },
   {
    "duration": 31,
    "start_time": "2022-02-24T15:49:48.444Z"
   },
   {
    "duration": 32,
    "start_time": "2022-02-24T15:49:48.477Z"
   },
   {
    "duration": 3,
    "start_time": "2022-02-24T15:49:48.511Z"
   },
   {
    "duration": 25,
    "start_time": "2022-02-24T15:49:48.516Z"
   },
   {
    "duration": 44,
    "start_time": "2022-02-24T15:49:48.543Z"
   },
   {
    "duration": 5,
    "start_time": "2022-02-24T15:49:48.589Z"
   },
   {
    "duration": 47,
    "start_time": "2022-02-24T15:49:48.596Z"
   },
   {
    "duration": 8002,
    "start_time": "2022-02-24T15:49:48.645Z"
   },
   {
    "duration": -840,
    "start_time": "2022-02-24T15:49:57.489Z"
   },
   {
    "duration": -841,
    "start_time": "2022-02-24T15:49:57.491Z"
   },
   {
    "duration": -843,
    "start_time": "2022-02-24T15:49:57.494Z"
   },
   {
    "duration": 684,
    "start_time": "2022-02-24T15:50:39.995Z"
   },
   {
    "duration": 426,
    "start_time": "2022-02-24T15:50:40.681Z"
   },
   {
    "duration": 23,
    "start_time": "2022-02-24T15:50:41.109Z"
   },
   {
    "duration": 20,
    "start_time": "2022-02-24T15:50:41.134Z"
   },
   {
    "duration": 60,
    "start_time": "2022-02-24T15:50:41.155Z"
   },
   {
    "duration": 1437,
    "start_time": "2022-02-24T15:50:41.216Z"
   },
   {
    "duration": 21,
    "start_time": "2022-02-24T15:50:42.655Z"
   },
   {
    "duration": 21,
    "start_time": "2022-02-24T15:50:42.680Z"
   },
   {
    "duration": 38,
    "start_time": "2022-02-24T15:50:42.705Z"
   },
   {
    "duration": 12,
    "start_time": "2022-02-24T15:50:42.770Z"
   },
   {
    "duration": 30,
    "start_time": "2022-02-24T15:50:42.784Z"
   },
   {
    "duration": 4,
    "start_time": "2022-02-24T15:50:42.815Z"
   },
   {
    "duration": 264,
    "start_time": "2022-02-24T15:50:42.821Z"
   },
   {
    "duration": 86,
    "start_time": "2022-02-24T15:50:43.086Z"
   },
   {
    "duration": 27,
    "start_time": "2022-02-24T15:50:43.174Z"
   },
   {
    "duration": 16,
    "start_time": "2022-02-24T15:50:43.203Z"
   },
   {
    "duration": 172,
    "start_time": "2022-02-24T15:50:43.221Z"
   },
   {
    "duration": 4,
    "start_time": "2022-02-24T15:50:43.395Z"
   },
   {
    "duration": 16,
    "start_time": "2022-02-24T15:50:43.401Z"
   },
   {
    "duration": 6,
    "start_time": "2022-02-24T15:50:43.419Z"
   },
   {
    "duration": 80,
    "start_time": "2022-02-24T15:50:43.427Z"
   },
   {
    "duration": 25,
    "start_time": "2022-02-24T15:50:43.508Z"
   },
   {
    "duration": 12,
    "start_time": "2022-02-24T15:50:43.536Z"
   },
   {
    "duration": 3,
    "start_time": "2022-02-24T15:50:43.570Z"
   },
   {
    "duration": 16,
    "start_time": "2022-02-24T15:50:43.574Z"
   },
   {
    "duration": 25,
    "start_time": "2022-02-24T15:50:43.591Z"
   },
   {
    "duration": 3,
    "start_time": "2022-02-24T15:50:43.618Z"
   },
   {
    "duration": 40,
    "start_time": "2022-02-24T15:50:43.622Z"
   },
   {
    "duration": 29,
    "start_time": "2022-02-24T15:50:43.664Z"
   },
   {
    "duration": 6,
    "start_time": "2022-02-24T15:50:43.695Z"
   },
   {
    "duration": 30,
    "start_time": "2022-02-24T15:50:43.703Z"
   },
   {
    "duration": 8339,
    "start_time": "2022-02-24T15:50:43.735Z"
   },
   {
    "duration": -826,
    "start_time": "2022-02-24T15:50:52.902Z"
   },
   {
    "duration": -828,
    "start_time": "2022-02-24T15:50:52.905Z"
   },
   {
    "duration": -829,
    "start_time": "2022-02-24T15:50:52.907Z"
   },
   {
    "duration": 9,
    "start_time": "2022-02-24T15:51:17.486Z"
   },
   {
    "duration": 32,
    "start_time": "2022-02-24T15:51:17.758Z"
   },
   {
    "duration": 9453,
    "start_time": "2022-02-24T15:51:17.956Z"
   },
   {
    "duration": 9,
    "start_time": "2022-02-24T15:51:27.411Z"
   },
   {
    "duration": 52,
    "start_time": "2022-02-24T15:51:27.422Z"
   },
   {
    "duration": 279,
    "start_time": "2022-02-24T15:51:27.476Z"
   },
   {
    "duration": 270,
    "start_time": "2022-02-24T15:52:14.277Z"
   },
   {
    "duration": 270,
    "start_time": "2022-02-24T15:52:27.230Z"
   },
   {
    "duration": 280,
    "start_time": "2022-02-24T15:52:40.389Z"
   },
   {
    "duration": 616,
    "start_time": "2022-02-24T15:53:05.013Z"
   },
   {
    "duration": 344,
    "start_time": "2022-02-24T15:54:04.150Z"
   },
   {
    "duration": 320,
    "start_time": "2022-02-24T15:54:53.605Z"
   },
   {
    "duration": 517,
    "start_time": "2022-02-24T15:55:37.117Z"
   },
   {
    "duration": 319,
    "start_time": "2022-02-24T15:56:38.309Z"
   },
   {
    "duration": 284,
    "start_time": "2022-02-24T15:57:03.747Z"
   },
   {
    "duration": 288,
    "start_time": "2022-02-24T15:57:11.997Z"
   },
   {
    "duration": 380,
    "start_time": "2022-02-25T09:50:44.839Z"
   },
   {
    "duration": 903,
    "start_time": "2022-02-25T09:51:21.377Z"
   },
   {
    "duration": 519,
    "start_time": "2022-02-25T09:51:22.282Z"
   },
   {
    "duration": 33,
    "start_time": "2022-02-25T09:51:22.805Z"
   },
   {
    "duration": 30,
    "start_time": "2022-02-25T09:51:22.841Z"
   },
   {
    "duration": 96,
    "start_time": "2022-02-25T09:51:22.874Z"
   },
   {
    "duration": 2472,
    "start_time": "2022-02-25T09:51:22.973Z"
   },
   {
    "duration": 23,
    "start_time": "2022-02-25T09:51:25.447Z"
   },
   {
    "duration": 23,
    "start_time": "2022-02-25T09:51:25.474Z"
   },
   {
    "duration": 81,
    "start_time": "2022-02-25T09:51:25.500Z"
   },
   {
    "duration": 18,
    "start_time": "2022-02-25T09:51:25.584Z"
   },
   {
    "duration": 82,
    "start_time": "2022-02-25T09:51:25.604Z"
   },
   {
    "duration": 5,
    "start_time": "2022-02-25T09:51:25.688Z"
   },
   {
    "duration": 367,
    "start_time": "2022-02-25T09:51:25.696Z"
   },
   {
    "duration": 112,
    "start_time": "2022-02-25T09:51:26.065Z"
   },
   {
    "duration": 34,
    "start_time": "2022-02-25T09:51:26.179Z"
   },
   {
    "duration": 60,
    "start_time": "2022-02-25T09:51:26.216Z"
   },
   {
    "duration": 210,
    "start_time": "2022-02-25T09:51:26.278Z"
   },
   {
    "duration": 9,
    "start_time": "2022-02-25T09:51:26.491Z"
   },
   {
    "duration": 58,
    "start_time": "2022-02-25T09:51:26.503Z"
   },
   {
    "duration": 7,
    "start_time": "2022-02-25T09:51:26.563Z"
   },
   {
    "duration": 112,
    "start_time": "2022-02-25T09:51:26.573Z"
   },
   {
    "duration": 35,
    "start_time": "2022-02-25T09:51:26.688Z"
   },
   {
    "duration": 40,
    "start_time": "2022-02-25T09:51:26.728Z"
   },
   {
    "duration": 5,
    "start_time": "2022-02-25T09:51:26.771Z"
   },
   {
    "duration": 36,
    "start_time": "2022-02-25T09:51:26.779Z"
   },
   {
    "duration": 64,
    "start_time": "2022-02-25T09:51:26.817Z"
   },
   {
    "duration": 5,
    "start_time": "2022-02-25T09:51:26.884Z"
   },
   {
    "duration": 44,
    "start_time": "2022-02-25T09:51:26.892Z"
   },
   {
    "duration": 57,
    "start_time": "2022-02-25T09:51:26.938Z"
   },
   {
    "duration": 9,
    "start_time": "2022-02-25T09:51:26.997Z"
   },
   {
    "duration": 70,
    "start_time": "2022-02-25T09:51:27.008Z"
   },
   {
    "duration": 15458,
    "start_time": "2022-02-25T09:51:27.081Z"
   },
   {
    "duration": 52,
    "start_time": "2022-02-25T09:51:42.542Z"
   },
   {
    "duration": 11,
    "start_time": "2022-02-25T09:51:42.597Z"
   },
   {
    "duration": 69,
    "start_time": "2022-02-25T09:51:42.610Z"
   },
   {
    "duration": 433,
    "start_time": "2022-02-25T09:51:42.682Z"
   },
   {
    "duration": 43,
    "start_time": "2022-02-25T09:52:28.773Z"
   },
   {
    "duration": 483,
    "start_time": "2022-02-25T09:54:09.269Z"
   },
   {
    "duration": 293,
    "start_time": "2022-02-25T09:54:23.115Z"
   },
   {
    "duration": 4573,
    "start_time": "2022-02-25T09:54:54.011Z"
   },
   {
    "duration": 318,
    "start_time": "2022-02-25T09:55:17.107Z"
   },
   {
    "duration": 872,
    "start_time": "2022-02-25T09:55:35.419Z"
   },
   {
    "duration": 515,
    "start_time": "2022-02-25T09:55:36.294Z"
   },
   {
    "duration": 29,
    "start_time": "2022-02-25T09:55:36.813Z"
   },
   {
    "duration": 24,
    "start_time": "2022-02-25T09:55:36.845Z"
   },
   {
    "duration": 97,
    "start_time": "2022-02-25T09:55:36.871Z"
   },
   {
    "duration": 2720,
    "start_time": "2022-02-25T09:55:36.971Z"
   },
   {
    "duration": 14,
    "start_time": "2022-02-25T09:55:39.693Z"
   },
   {
    "duration": 25,
    "start_time": "2022-02-25T09:55:39.711Z"
   },
   {
    "duration": 45,
    "start_time": "2022-02-25T09:55:39.762Z"
   },
   {
    "duration": 51,
    "start_time": "2022-02-25T09:55:39.810Z"
   },
   {
    "duration": 38,
    "start_time": "2022-02-25T09:55:39.864Z"
   },
   {
    "duration": 6,
    "start_time": "2022-02-25T09:55:39.904Z"
   },
   {
    "duration": 379,
    "start_time": "2022-02-25T09:55:39.912Z"
   },
   {
    "duration": 125,
    "start_time": "2022-02-25T09:55:40.294Z"
   },
   {
    "duration": 46,
    "start_time": "2022-02-25T09:55:40.422Z"
   },
   {
    "duration": 26,
    "start_time": "2022-02-25T09:55:40.470Z"
   },
   {
    "duration": 214,
    "start_time": "2022-02-25T09:55:40.499Z"
   },
   {
    "duration": 5,
    "start_time": "2022-02-25T09:55:40.716Z"
   },
   {
    "duration": 40,
    "start_time": "2022-02-25T09:55:40.724Z"
   },
   {
    "duration": 7,
    "start_time": "2022-02-25T09:55:40.766Z"
   },
   {
    "duration": 106,
    "start_time": "2022-02-25T09:55:40.775Z"
   },
   {
    "duration": 35,
    "start_time": "2022-02-25T09:55:40.883Z"
   },
   {
    "duration": 44,
    "start_time": "2022-02-25T09:55:40.922Z"
   },
   {
    "duration": 5,
    "start_time": "2022-02-25T09:55:40.970Z"
   },
   {
    "duration": 23,
    "start_time": "2022-02-25T09:55:40.978Z"
   },
   {
    "duration": 73,
    "start_time": "2022-02-25T09:55:41.004Z"
   },
   {
    "duration": 4,
    "start_time": "2022-02-25T09:55:41.080Z"
   },
   {
    "duration": 35,
    "start_time": "2022-02-25T09:55:41.086Z"
   },
   {
    "duration": 63,
    "start_time": "2022-02-25T09:55:41.123Z"
   },
   {
    "duration": 10,
    "start_time": "2022-02-25T09:55:41.188Z"
   },
   {
    "duration": 66,
    "start_time": "2022-02-25T09:55:41.200Z"
   },
   {
    "duration": 15874,
    "start_time": "2022-02-25T09:55:41.268Z"
   },
   {
    "duration": 407,
    "start_time": "2022-02-25T09:55:57.144Z"
   },
   {
    "duration": -1082,
    "start_time": "2022-02-25T09:55:58.636Z"
   },
   {
    "duration": -1084,
    "start_time": "2022-02-25T09:55:58.639Z"
   },
   {
    "duration": -1085,
    "start_time": "2022-02-25T09:55:58.642Z"
   },
   {
    "duration": 914,
    "start_time": "2022-02-25T14:02:26.142Z"
   },
   {
    "duration": 539,
    "start_time": "2022-02-25T14:02:27.060Z"
   },
   {
    "duration": 28,
    "start_time": "2022-02-25T14:02:27.602Z"
   },
   {
    "duration": 28,
    "start_time": "2022-02-25T14:02:27.633Z"
   },
   {
    "duration": 99,
    "start_time": "2022-02-25T14:02:27.663Z"
   },
   {
    "duration": 5096,
    "start_time": "2022-02-25T14:02:27.766Z"
   },
   {
    "duration": 22,
    "start_time": "2022-02-25T14:02:32.866Z"
   },
   {
    "duration": 37,
    "start_time": "2022-02-25T14:02:32.893Z"
   },
   {
    "duration": 54,
    "start_time": "2022-02-25T14:02:32.962Z"
   },
   {
    "duration": 51,
    "start_time": "2022-02-25T14:02:33.019Z"
   },
   {
    "duration": 88,
    "start_time": "2022-02-25T14:02:33.073Z"
   },
   {
    "duration": 7,
    "start_time": "2022-02-25T14:02:33.164Z"
   },
   {
    "duration": 369,
    "start_time": "2022-02-25T14:02:33.174Z"
   },
   {
    "duration": 187,
    "start_time": "2022-02-25T14:02:33.546Z"
   },
   {
    "duration": 69,
    "start_time": "2022-02-25T14:02:33.736Z"
   },
   {
    "duration": 58,
    "start_time": "2022-02-25T14:02:33.808Z"
   },
   {
    "duration": 251,
    "start_time": "2022-02-25T14:02:33.869Z"
   },
   {
    "duration": 9,
    "start_time": "2022-02-25T14:02:34.123Z"
   },
   {
    "duration": 37,
    "start_time": "2022-02-25T14:02:34.135Z"
   },
   {
    "duration": 7,
    "start_time": "2022-02-25T14:02:34.175Z"
   },
   {
    "duration": 113,
    "start_time": "2022-02-25T14:02:34.185Z"
   },
   {
    "duration": 36,
    "start_time": "2022-02-25T14:02:34.300Z"
   },
   {
    "duration": 39,
    "start_time": "2022-02-25T14:02:34.339Z"
   },
   {
    "duration": 4,
    "start_time": "2022-02-25T14:02:34.381Z"
   },
   {
    "duration": 24,
    "start_time": "2022-02-25T14:02:34.388Z"
   },
   {
    "duration": 82,
    "start_time": "2022-02-25T14:02:34.420Z"
   },
   {
    "duration": 5,
    "start_time": "2022-02-25T14:02:34.506Z"
   },
   {
    "duration": 59,
    "start_time": "2022-02-25T14:02:34.514Z"
   },
   {
    "duration": 34,
    "start_time": "2022-02-25T14:02:34.577Z"
   },
   {
    "duration": 10,
    "start_time": "2022-02-25T14:02:34.614Z"
   },
   {
    "duration": 71,
    "start_time": "2022-02-25T14:02:34.627Z"
   },
   {
    "duration": 15769,
    "start_time": "2022-02-25T14:02:34.702Z"
   },
   {
    "duration": 13,
    "start_time": "2022-02-25T14:02:50.474Z"
   },
   {
    "duration": 41,
    "start_time": "2022-02-25T14:02:50.490Z"
   },
   {
    "duration": 424,
    "start_time": "2022-02-25T14:02:50.562Z"
   },
   {
    "duration": 405,
    "start_time": "2022-02-25T14:09:39.836Z"
   },
   {
    "duration": 435,
    "start_time": "2022-02-25T14:10:01.451Z"
   },
   {
    "duration": 413,
    "start_time": "2022-02-25T14:10:05.820Z"
   },
   {
    "duration": 412,
    "start_time": "2022-02-25T14:10:41.601Z"
   },
   {
    "duration": 490,
    "start_time": "2022-02-25T14:10:50.451Z"
   },
   {
    "duration": 438,
    "start_time": "2022-02-25T14:12:14.587Z"
   },
   {
    "duration": 416,
    "start_time": "2022-02-25T14:14:28.346Z"
   },
   {
    "duration": 398,
    "start_time": "2022-02-25T14:15:03.578Z"
   },
   {
    "duration": 8,
    "start_time": "2022-02-25T14:23:54.262Z"
   },
   {
    "duration": 119,
    "start_time": "2022-02-25T14:24:44.222Z"
   },
   {
    "duration": 5304,
    "start_time": "2022-02-25T14:24:52.310Z"
   },
   {
    "duration": 330,
    "start_time": "2022-02-25T14:25:11.199Z"
   },
   {
    "duration": 756,
    "start_time": "2022-02-25T14:25:14.399Z"
   },
   {
    "duration": 391,
    "start_time": "2022-02-25T14:25:24.888Z"
   },
   {
    "duration": 498,
    "start_time": "2022-02-25T15:37:19.607Z"
   },
   {
    "duration": 326,
    "start_time": "2022-02-25T15:39:26.709Z"
   },
   {
    "duration": 292,
    "start_time": "2022-02-25T15:39:38.701Z"
   },
   {
    "duration": 6,
    "start_time": "2022-02-25T15:39:49.134Z"
   },
   {
    "duration": 6,
    "start_time": "2022-02-25T15:39:56.548Z"
   },
   {
    "duration": 7,
    "start_time": "2022-02-25T15:40:03.380Z"
   },
   {
    "duration": 45,
    "start_time": "2022-02-25T15:41:10.373Z"
   },
   {
    "duration": 49,
    "start_time": "2022-02-25T15:41:39.396Z"
   },
   {
    "duration": 11,
    "start_time": "2022-02-25T15:41:47.669Z"
   },
   {
    "duration": 7,
    "start_time": "2022-02-25T15:42:52.851Z"
   },
   {
    "duration": 108,
    "start_time": "2022-02-25T15:44:07.715Z"
   },
   {
    "duration": 126,
    "start_time": "2022-02-25T15:44:29.915Z"
   },
   {
    "duration": 93,
    "start_time": "2022-02-25T15:48:27.507Z"
   },
   {
    "duration": 11,
    "start_time": "2022-02-25T15:50:26.601Z"
   },
   {
    "duration": 8,
    "start_time": "2022-02-25T15:51:20.849Z"
   },
   {
    "duration": 358,
    "start_time": "2022-02-25T22:17:12.023Z"
   },
   {
    "duration": -946,
    "start_time": "2022-02-25T22:17:13.330Z"
   },
   {
    "duration": 36,
    "start_time": "2022-02-25T22:17:17.197Z"
   },
   {
    "duration": 38,
    "start_time": "2022-02-25T22:17:19.021Z"
   },
   {
    "duration": 35,
    "start_time": "2022-02-25T22:17:24.237Z"
   },
   {
    "duration": 36,
    "start_time": "2022-02-25T22:17:26.111Z"
   },
   {
    "duration": 57,
    "start_time": "2022-02-25T22:18:34.982Z"
   },
   {
    "duration": 34,
    "start_time": "2022-02-25T22:18:45.182Z"
   },
   {
    "duration": 1381,
    "start_time": "2022-02-25T22:19:03.552Z"
   },
   {
    "duration": 527,
    "start_time": "2022-02-25T22:19:04.936Z"
   },
   {
    "duration": 30,
    "start_time": "2022-02-25T22:19:05.466Z"
   },
   {
    "duration": 23,
    "start_time": "2022-02-25T22:19:05.499Z"
   },
   {
    "duration": 98,
    "start_time": "2022-02-25T22:19:05.524Z"
   },
   {
    "duration": 2413,
    "start_time": "2022-02-25T22:19:05.624Z"
   },
   {
    "duration": 23,
    "start_time": "2022-02-25T22:19:08.039Z"
   },
   {
    "duration": 32,
    "start_time": "2022-02-25T22:19:08.066Z"
   },
   {
    "duration": 68,
    "start_time": "2022-02-25T22:19:08.101Z"
   },
   {
    "duration": 17,
    "start_time": "2022-02-25T22:19:08.172Z"
   },
   {
    "duration": 69,
    "start_time": "2022-02-25T22:19:08.192Z"
   },
   {
    "duration": 7,
    "start_time": "2022-02-25T22:19:08.263Z"
   },
   {
    "duration": 340,
    "start_time": "2022-02-25T22:19:08.273Z"
   },
   {
    "duration": 102,
    "start_time": "2022-02-25T22:19:08.616Z"
   },
   {
    "duration": 41,
    "start_time": "2022-02-25T22:19:08.721Z"
   },
   {
    "duration": 23,
    "start_time": "2022-02-25T22:19:08.765Z"
   },
   {
    "duration": 216,
    "start_time": "2022-02-25T22:19:08.791Z"
   },
   {
    "duration": 9,
    "start_time": "2022-02-25T22:19:09.010Z"
   },
   {
    "duration": 48,
    "start_time": "2022-02-25T22:19:09.022Z"
   },
   {
    "duration": 7,
    "start_time": "2022-02-25T22:19:09.072Z"
   },
   {
    "duration": 103,
    "start_time": "2022-02-25T22:19:09.081Z"
   },
   {
    "duration": 36,
    "start_time": "2022-02-25T22:19:09.187Z"
   },
   {
    "duration": 40,
    "start_time": "2022-02-25T22:19:09.227Z"
   },
   {
    "duration": 6,
    "start_time": "2022-02-25T22:19:09.271Z"
   },
   {
    "duration": 20,
    "start_time": "2022-02-25T22:19:09.279Z"
   },
   {
    "duration": 29,
    "start_time": "2022-02-25T22:19:09.302Z"
   },
   {
    "duration": 4,
    "start_time": "2022-02-25T22:19:09.361Z"
   },
   {
    "duration": 34,
    "start_time": "2022-02-25T22:19:09.367Z"
   },
   {
    "duration": 61,
    "start_time": "2022-02-25T22:19:09.403Z"
   },
   {
    "duration": 9,
    "start_time": "2022-02-25T22:19:09.466Z"
   },
   {
    "duration": 41,
    "start_time": "2022-02-25T22:19:09.478Z"
   },
   {
    "duration": 15412,
    "start_time": "2022-02-25T22:19:09.522Z"
   },
   {
    "duration": 12,
    "start_time": "2022-02-25T22:19:24.936Z"
   },
   {
    "duration": 39,
    "start_time": "2022-02-25T22:19:24.962Z"
   },
   {
    "duration": 468,
    "start_time": "2022-02-25T22:19:25.004Z"
   },
   {
    "duration": 428,
    "start_time": "2022-02-25T22:19:25.475Z"
   },
   {
    "duration": 423,
    "start_time": "2022-02-25T22:19:25.905Z"
   },
   {
    "duration": 53,
    "start_time": "2022-02-25T22:19:26.330Z"
   },
   {
    "duration": 138,
    "start_time": "2022-02-25T22:19:26.386Z"
   },
   {
    "duration": 8,
    "start_time": "2022-02-25T22:19:26.527Z"
   },
   {
    "duration": 32,
    "start_time": "2022-02-25T22:19:26.538Z"
   },
   {
    "duration": 7,
    "start_time": "2022-02-25T22:19:26.572Z"
   },
   {
    "duration": 204,
    "start_time": "2022-02-27T10:29:21.865Z"
   },
   {
    "duration": 1069,
    "start_time": "2022-02-27T10:29:29.310Z"
   },
   {
    "duration": 356,
    "start_time": "2022-02-27T10:29:30.380Z"
   },
   {
    "duration": 20,
    "start_time": "2022-02-27T10:29:30.738Z"
   },
   {
    "duration": 23,
    "start_time": "2022-02-27T10:29:30.760Z"
   },
   {
    "duration": 62,
    "start_time": "2022-02-27T10:29:30.784Z"
   },
   {
    "duration": 1299,
    "start_time": "2022-02-27T10:29:30.847Z"
   },
   {
    "duration": 8,
    "start_time": "2022-02-27T10:29:32.148Z"
   },
   {
    "duration": 18,
    "start_time": "2022-02-27T10:29:32.159Z"
   },
   {
    "duration": 29,
    "start_time": "2022-02-27T10:29:32.179Z"
   },
   {
    "duration": 10,
    "start_time": "2022-02-27T10:29:32.233Z"
   },
   {
    "duration": 26,
    "start_time": "2022-02-27T10:29:32.245Z"
   },
   {
    "duration": 4,
    "start_time": "2022-02-27T10:29:32.272Z"
   },
   {
    "duration": 203,
    "start_time": "2022-02-27T10:29:32.278Z"
   },
   {
    "duration": 69,
    "start_time": "2022-02-27T10:29:32.483Z"
   },
   {
    "duration": 22,
    "start_time": "2022-02-27T10:29:32.554Z"
   },
   {
    "duration": 14,
    "start_time": "2022-02-27T10:29:32.578Z"
   },
   {
    "duration": 156,
    "start_time": "2022-02-27T10:29:32.593Z"
   },
   {
    "duration": 5,
    "start_time": "2022-02-27T10:29:32.751Z"
   },
   {
    "duration": 6,
    "start_time": "2022-02-27T10:29:32.757Z"
   },
   {
    "duration": 69,
    "start_time": "2022-02-27T10:29:32.765Z"
   },
   {
    "duration": 22,
    "start_time": "2022-02-27T10:29:32.836Z"
   },
   {
    "duration": 13,
    "start_time": "2022-02-27T10:29:32.860Z"
   },
   {
    "duration": 3,
    "start_time": "2022-02-27T10:29:32.876Z"
   },
   {
    "duration": 11,
    "start_time": "2022-02-27T10:29:32.881Z"
   },
   {
    "duration": 48,
    "start_time": "2022-02-27T10:29:32.894Z"
   },
   {
    "duration": 3,
    "start_time": "2022-02-27T10:29:32.943Z"
   },
   {
    "duration": 22,
    "start_time": "2022-02-27T10:29:32.947Z"
   },
   {
    "duration": 22,
    "start_time": "2022-02-27T10:29:32.971Z"
   },
   {
    "duration": 5,
    "start_time": "2022-02-27T10:29:32.995Z"
   },
   {
    "duration": 7958,
    "start_time": "2022-02-27T10:29:33.001Z"
   },
   {
    "duration": 99,
    "start_time": "2022-02-27T10:29:40.961Z"
   },
   {
    "duration": -1442,
    "start_time": "2022-02-27T10:29:42.504Z"
   },
   {
    "duration": -1451,
    "start_time": "2022-02-27T10:29:42.514Z"
   },
   {
    "duration": -1455,
    "start_time": "2022-02-27T10:29:42.519Z"
   },
   {
    "duration": -1465,
    "start_time": "2022-02-27T10:29:42.530Z"
   },
   {
    "duration": -1469,
    "start_time": "2022-02-27T10:29:42.535Z"
   },
   {
    "duration": -1480,
    "start_time": "2022-02-27T10:29:42.547Z"
   },
   {
    "duration": -1482,
    "start_time": "2022-02-27T10:29:42.550Z"
   },
   {
    "duration": -1495,
    "start_time": "2022-02-27T10:29:42.564Z"
   },
   {
    "duration": 1172,
    "start_time": "2022-02-27T10:29:46.761Z"
   },
   {
    "duration": 1160,
    "start_time": "2022-02-27T10:38:17.726Z"
   },
   {
    "duration": 1189,
    "start_time": "2022-02-27T10:38:21.910Z"
   },
   {
    "duration": 258,
    "start_time": "2022-02-27T10:39:56.750Z"
   },
   {
    "duration": 1068,
    "start_time": "2022-02-27T10:40:02.539Z"
   },
   {
    "duration": 363,
    "start_time": "2022-02-27T10:40:03.609Z"
   },
   {
    "duration": 22,
    "start_time": "2022-02-27T10:40:03.974Z"
   },
   {
    "duration": 16,
    "start_time": "2022-02-27T10:40:03.998Z"
   },
   {
    "duration": 53,
    "start_time": "2022-02-27T10:40:04.016Z"
   },
   {
    "duration": 1337,
    "start_time": "2022-02-27T10:40:04.070Z"
   },
   {
    "duration": 8,
    "start_time": "2022-02-27T10:40:05.409Z"
   },
   {
    "duration": 24,
    "start_time": "2022-02-27T10:40:05.419Z"
   },
   {
    "duration": 31,
    "start_time": "2022-02-27T10:40:05.445Z"
   },
   {
    "duration": 10,
    "start_time": "2022-02-27T10:40:05.478Z"
   },
   {
    "duration": 51,
    "start_time": "2022-02-27T10:40:05.490Z"
   },
   {
    "duration": 3,
    "start_time": "2022-02-27T10:40:05.543Z"
   },
   {
    "duration": 204,
    "start_time": "2022-02-27T10:40:05.548Z"
   },
   {
    "duration": 62,
    "start_time": "2022-02-27T10:40:05.753Z"
   },
   {
    "duration": 35,
    "start_time": "2022-02-27T10:40:05.817Z"
   },
   {
    "duration": 15,
    "start_time": "2022-02-27T10:40:05.853Z"
   },
   {
    "duration": 146,
    "start_time": "2022-02-27T10:40:05.869Z"
   },
   {
    "duration": 5,
    "start_time": "2022-02-27T10:40:06.017Z"
   },
   {
    "duration": 14,
    "start_time": "2022-02-27T10:40:06.023Z"
   },
   {
    "duration": 51,
    "start_time": "2022-02-27T10:40:06.039Z"
   },
   {
    "duration": 41,
    "start_time": "2022-02-27T10:40:06.092Z"
   },
   {
    "duration": 11,
    "start_time": "2022-02-27T10:40:06.135Z"
   },
   {
    "duration": 8,
    "start_time": "2022-02-27T10:40:06.149Z"
   },
   {
    "duration": 18,
    "start_time": "2022-02-27T10:40:06.159Z"
   },
   {
    "duration": 22,
    "start_time": "2022-02-27T10:40:06.179Z"
   },
   {
    "duration": 2,
    "start_time": "2022-02-27T10:40:06.203Z"
   },
   {
    "duration": 33,
    "start_time": "2022-02-27T10:40:06.207Z"
   },
   {
    "duration": 20,
    "start_time": "2022-02-27T10:40:06.241Z"
   },
   {
    "duration": 6,
    "start_time": "2022-02-27T10:40:06.262Z"
   },
   {
    "duration": 7575,
    "start_time": "2022-02-27T10:40:06.269Z"
   },
   {
    "duration": -1509,
    "start_time": "2022-02-27T10:40:15.355Z"
   },
   {
    "duration": -1511,
    "start_time": "2022-02-27T10:40:15.358Z"
   },
   {
    "duration": -1514,
    "start_time": "2022-02-27T10:40:15.362Z"
   },
   {
    "duration": -1520,
    "start_time": "2022-02-27T10:40:15.369Z"
   },
   {
    "duration": -1522,
    "start_time": "2022-02-27T10:40:15.372Z"
   },
   {
    "duration": -1523,
    "start_time": "2022-02-27T10:40:15.374Z"
   },
   {
    "duration": -1525,
    "start_time": "2022-02-27T10:40:15.377Z"
   },
   {
    "duration": -1531,
    "start_time": "2022-02-27T10:40:15.384Z"
   },
   {
    "duration": -1533,
    "start_time": "2022-02-27T10:40:15.387Z"
   },
   {
    "duration": 5,
    "start_time": "2022-02-27T10:40:42.146Z"
   },
   {
    "duration": 8248,
    "start_time": "2022-02-27T10:40:43.250Z"
   },
   {
    "duration": 976,
    "start_time": "2022-02-27T10:46:08.837Z"
   },
   {
    "duration": 379,
    "start_time": "2022-02-27T10:46:09.815Z"
   },
   {
    "duration": 20,
    "start_time": "2022-02-27T10:46:10.196Z"
   },
   {
    "duration": 15,
    "start_time": "2022-02-27T10:46:10.218Z"
   },
   {
    "duration": 49,
    "start_time": "2022-02-27T10:46:10.235Z"
   },
   {
    "duration": 1284,
    "start_time": "2022-02-27T10:46:10.285Z"
   },
   {
    "duration": 9,
    "start_time": "2022-02-27T10:46:11.571Z"
   },
   {
    "duration": 17,
    "start_time": "2022-02-27T10:46:11.583Z"
   },
   {
    "duration": 51,
    "start_time": "2022-02-27T10:46:11.603Z"
   },
   {
    "duration": 10,
    "start_time": "2022-02-27T10:46:11.656Z"
   },
   {
    "duration": 25,
    "start_time": "2022-02-27T10:46:11.668Z"
   },
   {
    "duration": 5,
    "start_time": "2022-02-27T10:46:11.695Z"
   },
   {
    "duration": 62,
    "start_time": "2022-02-27T10:46:11.733Z"
   },
   {
    "duration": 36,
    "start_time": "2022-02-27T10:46:11.797Z"
   },
   {
    "duration": 17,
    "start_time": "2022-02-27T10:46:11.834Z"
   },
   {
    "duration": 144,
    "start_time": "2022-02-27T10:46:11.853Z"
   },
   {
    "duration": 6,
    "start_time": "2022-02-27T10:46:11.998Z"
   },
   {
    "duration": 6,
    "start_time": "2022-02-27T10:46:12.006Z"
   },
   {
    "duration": 68,
    "start_time": "2022-02-27T10:46:12.014Z"
   },
   {
    "duration": 24,
    "start_time": "2022-02-27T10:46:12.084Z"
   },
   {
    "duration": 31,
    "start_time": "2022-02-27T10:46:12.109Z"
   },
   {
    "duration": 3,
    "start_time": "2022-02-27T10:46:12.142Z"
   },
   {
    "duration": 11,
    "start_time": "2022-02-27T10:46:12.149Z"
   },
   {
    "duration": 19,
    "start_time": "2022-02-27T10:46:12.162Z"
   },
   {
    "duration": 3,
    "start_time": "2022-02-27T10:46:12.183Z"
   },
   {
    "duration": 57,
    "start_time": "2022-02-27T10:46:12.188Z"
   },
   {
    "duration": 21,
    "start_time": "2022-02-27T10:46:12.246Z"
   },
   {
    "duration": 6,
    "start_time": "2022-02-27T10:46:12.269Z"
   },
   {
    "duration": 8040,
    "start_time": "2022-02-27T10:46:12.277Z"
   },
   {
    "duration": 60,
    "start_time": "2022-02-27T10:46:20.318Z"
   },
   {
    "duration": -1417,
    "start_time": "2022-02-27T10:46:21.796Z"
   },
   {
    "duration": -1418,
    "start_time": "2022-02-27T10:46:21.798Z"
   },
   {
    "duration": -1440,
    "start_time": "2022-02-27T10:46:21.821Z"
   },
   {
    "duration": -1442,
    "start_time": "2022-02-27T10:46:21.824Z"
   },
   {
    "duration": -1444,
    "start_time": "2022-02-27T10:46:21.827Z"
   },
   {
    "duration": -1456,
    "start_time": "2022-02-27T10:46:21.840Z"
   },
   {
    "duration": -1457,
    "start_time": "2022-02-27T10:46:21.842Z"
   },
   {
    "duration": -1461,
    "start_time": "2022-02-27T10:46:21.847Z"
   },
   {
    "duration": 726,
    "start_time": "2022-02-27T10:46:40.318Z"
   },
   {
    "duration": 242,
    "start_time": "2022-02-27T10:47:09.629Z"
   },
   {
    "duration": 263,
    "start_time": "2022-02-27T10:47:09.873Z"
   },
   {
    "duration": 237,
    "start_time": "2022-02-27T10:47:10.138Z"
   },
   {
    "duration": 86,
    "start_time": "2022-02-27T10:47:10.377Z"
   },
   {
    "duration": 5,
    "start_time": "2022-02-27T10:47:10.464Z"
   },
   {
    "duration": 9,
    "start_time": "2022-02-27T10:47:10.470Z"
   },
   {
    "duration": 5,
    "start_time": "2022-02-27T10:47:10.480Z"
   },
   {
    "duration": 237,
    "start_time": "2022-02-27T14:43:36.175Z"
   },
   {
    "duration": 235,
    "start_time": "2022-02-27T14:45:12.486Z"
   },
   {
    "duration": 239,
    "start_time": "2022-02-27T14:45:25.709Z"
   },
   {
    "duration": 230,
    "start_time": "2022-02-27T14:45:43.558Z"
   },
   {
    "duration": 239,
    "start_time": "2022-02-27T14:46:22.327Z"
   },
   {
    "duration": 239,
    "start_time": "2022-02-27T14:46:53.198Z"
   },
   {
    "duration": 1011,
    "start_time": "2022-02-27T15:41:03.705Z"
   },
   {
    "duration": 367,
    "start_time": "2022-02-27T15:41:04.718Z"
   },
   {
    "duration": 20,
    "start_time": "2022-02-27T15:41:05.089Z"
   },
   {
    "duration": 15,
    "start_time": "2022-02-27T15:41:05.111Z"
   },
   {
    "duration": 51,
    "start_time": "2022-02-27T15:41:05.128Z"
   },
   {
    "duration": 1489,
    "start_time": "2022-02-27T15:41:05.181Z"
   },
   {
    "duration": 9,
    "start_time": "2022-02-27T15:41:06.672Z"
   },
   {
    "duration": 17,
    "start_time": "2022-02-27T15:41:06.683Z"
   },
   {
    "duration": 49,
    "start_time": "2022-02-27T15:41:06.702Z"
   },
   {
    "duration": 10,
    "start_time": "2022-02-27T15:41:06.753Z"
   },
   {
    "duration": 29,
    "start_time": "2022-02-27T15:41:06.764Z"
   },
   {
    "duration": 4,
    "start_time": "2022-02-27T15:41:06.795Z"
   },
   {
    "duration": 93,
    "start_time": "2022-02-27T15:41:06.801Z"
   },
   {
    "duration": 37,
    "start_time": "2022-02-27T15:41:06.896Z"
   },
   {
    "duration": 15,
    "start_time": "2022-02-27T15:41:06.935Z"
   },
   {
    "duration": 143,
    "start_time": "2022-02-27T15:41:06.952Z"
   },
   {
    "duration": 4,
    "start_time": "2022-02-27T15:41:07.097Z"
   },
   {
    "duration": 6,
    "start_time": "2022-02-27T15:41:07.103Z"
   },
   {
    "duration": 69,
    "start_time": "2022-02-27T15:41:07.110Z"
   },
   {
    "duration": 22,
    "start_time": "2022-02-27T15:41:07.180Z"
   },
   {
    "duration": 32,
    "start_time": "2022-02-27T15:41:07.204Z"
   },
   {
    "duration": 3,
    "start_time": "2022-02-27T15:41:07.239Z"
   },
   {
    "duration": 13,
    "start_time": "2022-02-27T15:41:07.243Z"
   },
   {
    "duration": 19,
    "start_time": "2022-02-27T15:41:07.257Z"
   },
   {
    "duration": 3,
    "start_time": "2022-02-27T15:41:07.277Z"
   },
   {
    "duration": 24,
    "start_time": "2022-02-27T15:41:07.281Z"
   },
   {
    "duration": 27,
    "start_time": "2022-02-27T15:41:07.307Z"
   },
   {
    "duration": 5,
    "start_time": "2022-02-27T15:41:07.335Z"
   },
   {
    "duration": 8043,
    "start_time": "2022-02-27T15:41:07.342Z"
   },
   {
    "duration": 250,
    "start_time": "2022-02-27T15:41:15.387Z"
   },
   {
    "duration": 278,
    "start_time": "2022-02-27T15:41:15.638Z"
   },
   {
    "duration": 251,
    "start_time": "2022-02-27T15:41:15.918Z"
   },
   {
    "duration": 257,
    "start_time": "2022-02-27T15:41:16.171Z"
   },
   {
    "duration": -33,
    "start_time": "2022-02-27T15:41:16.463Z"
   },
   {
    "duration": -34,
    "start_time": "2022-02-27T15:41:16.465Z"
   },
   {
    "duration": -62,
    "start_time": "2022-02-27T15:41:16.494Z"
   },
   {
    "duration": 9559,
    "start_time": "2022-02-27T15:42:01.869Z"
   },
   {
    "duration": 422,
    "start_time": "2022-02-27T15:42:12.836Z"
   },
   {
    "duration": 1849,
    "start_time": "2022-02-27T15:43:31.160Z"
   },
   {
    "duration": 567,
    "start_time": "2022-02-27T15:43:33.012Z"
   },
   {
    "duration": 20,
    "start_time": "2022-02-27T15:43:33.580Z"
   },
   {
    "duration": 15,
    "start_time": "2022-02-27T15:43:33.602Z"
   },
   {
    "duration": 49,
    "start_time": "2022-02-27T15:43:33.618Z"
   },
   {
    "duration": 1276,
    "start_time": "2022-02-27T15:43:33.669Z"
   },
   {
    "duration": 10,
    "start_time": "2022-02-27T15:43:34.947Z"
   },
   {
    "duration": 18,
    "start_time": "2022-02-27T15:43:34.959Z"
   },
   {
    "duration": 54,
    "start_time": "2022-02-27T15:43:34.979Z"
   },
   {
    "duration": 11,
    "start_time": "2022-02-27T15:43:35.035Z"
   },
   {
    "duration": 27,
    "start_time": "2022-02-27T15:43:35.047Z"
   },
   {
    "duration": 4,
    "start_time": "2022-02-27T15:43:35.076Z"
   },
   {
    "duration": 92,
    "start_time": "2022-02-27T15:43:35.081Z"
   },
   {
    "duration": 25,
    "start_time": "2022-02-27T15:43:35.174Z"
   },
   {
    "duration": 33,
    "start_time": "2022-02-27T15:43:35.201Z"
   },
   {
    "duration": 133,
    "start_time": "2022-02-27T15:43:35.236Z"
   },
   {
    "duration": 5,
    "start_time": "2022-02-27T15:43:35.370Z"
   },
   {
    "duration": 7,
    "start_time": "2022-02-27T15:43:35.377Z"
   },
   {
    "duration": 63,
    "start_time": "2022-02-27T15:43:35.386Z"
   },
   {
    "duration": 23,
    "start_time": "2022-02-27T15:43:35.451Z"
   },
   {
    "duration": 11,
    "start_time": "2022-02-27T15:43:35.475Z"
   },
   {
    "duration": 2,
    "start_time": "2022-02-27T15:43:35.488Z"
   },
   {
    "duration": 11,
    "start_time": "2022-02-27T15:43:35.493Z"
   },
   {
    "duration": 45,
    "start_time": "2022-02-27T15:43:35.505Z"
   },
   {
    "duration": 3,
    "start_time": "2022-02-27T15:43:35.551Z"
   },
   {
    "duration": 22,
    "start_time": "2022-02-27T15:43:35.555Z"
   },
   {
    "duration": 20,
    "start_time": "2022-02-27T15:43:35.578Z"
   },
   {
    "duration": 7,
    "start_time": "2022-02-27T15:43:35.599Z"
   },
   {
    "duration": 7950,
    "start_time": "2022-02-27T15:43:35.608Z"
   },
   {
    "duration": 245,
    "start_time": "2022-02-27T15:43:43.560Z"
   },
   {
    "duration": 278,
    "start_time": "2022-02-27T15:43:43.807Z"
   },
   {
    "duration": 253,
    "start_time": "2022-02-27T15:43:44.086Z"
   },
   {
    "duration": 70,
    "start_time": "2022-02-27T15:43:44.341Z"
   },
   {
    "duration": 19,
    "start_time": "2022-02-27T15:43:44.413Z"
   },
   {
    "duration": 6,
    "start_time": "2022-02-27T15:43:44.434Z"
   },
   {
    "duration": 7,
    "start_time": "2022-02-27T15:43:44.442Z"
   },
   {
    "duration": 73,
    "start_time": "2022-02-27T15:50:33.812Z"
   },
   {
    "duration": 56,
    "start_time": "2022-02-27T15:53:53.211Z"
   },
   {
    "duration": 71,
    "start_time": "2022-02-27T15:54:47.082Z"
   },
   {
    "duration": 232,
    "start_time": "2022-02-27T15:54:52.791Z"
   },
   {
    "duration": 10,
    "start_time": "2022-02-27T16:01:15.593Z"
   },
   {
    "duration": 10,
    "start_time": "2022-02-27T16:01:30.337Z"
   },
   {
    "duration": 11,
    "start_time": "2022-02-27T16:01:45.688Z"
   },
   {
    "duration": 411,
    "start_time": "2022-02-27T17:58:30.611Z"
   },
   {
    "duration": 6,
    "start_time": "2022-02-27T17:58:51.139Z"
   },
   {
    "duration": 287,
    "start_time": "2022-02-27T17:58:54.572Z"
   },
   {
    "duration": 61,
    "start_time": "2022-02-27T17:59:13.299Z"
   },
   {
    "duration": 7,
    "start_time": "2022-02-27T17:59:16.475Z"
   },
   {
    "duration": 65,
    "start_time": "2022-02-27T18:00:54.282Z"
   },
   {
    "duration": 55,
    "start_time": "2022-02-27T18:01:08.307Z"
   },
   {
    "duration": 8,
    "start_time": "2022-02-27T18:01:16.154Z"
   },
   {
    "duration": 9,
    "start_time": "2022-02-27T18:01:37.050Z"
   },
   {
    "duration": 8,
    "start_time": "2022-02-27T18:02:09.018Z"
   },
   {
    "duration": 5337,
    "start_time": "2022-02-27T18:02:30.649Z"
   },
   {
    "duration": 3,
    "start_time": "2022-02-27T18:02:48.227Z"
   },
   {
    "duration": 8,
    "start_time": "2022-02-27T18:02:53.730Z"
   },
   {
    "duration": 8,
    "start_time": "2022-02-27T18:03:02.490Z"
   },
   {
    "duration": 9,
    "start_time": "2022-02-27T18:03:08.159Z"
   },
   {
    "duration": 8,
    "start_time": "2022-02-27T18:03:15.194Z"
   },
   {
    "duration": 8,
    "start_time": "2022-02-27T18:03:19.490Z"
   },
   {
    "duration": 9,
    "start_time": "2022-02-27T18:03:24.002Z"
   },
   {
    "duration": 8,
    "start_time": "2022-02-27T18:03:27.185Z"
   },
   {
    "duration": 9,
    "start_time": "2022-02-27T18:03:31.713Z"
   },
   {
    "duration": 8,
    "start_time": "2022-02-27T18:03:44.729Z"
   },
   {
    "duration": 8,
    "start_time": "2022-02-27T18:03:53.129Z"
   },
   {
    "duration": -91,
    "start_time": "2022-02-27T18:04:03.899Z"
   },
   {
    "duration": 8,
    "start_time": "2022-02-27T18:04:05.995Z"
   },
   {
    "duration": 7,
    "start_time": "2022-02-27T18:04:16.753Z"
   },
   {
    "duration": 61,
    "start_time": "2022-02-27T18:05:20.625Z"
   },
   {
    "duration": 62,
    "start_time": "2022-02-27T18:05:34.745Z"
   },
   {
    "duration": 56,
    "start_time": "2022-02-27T18:05:41.280Z"
   },
   {
    "duration": 59,
    "start_time": "2022-02-27T18:05:49.664Z"
   },
   {
    "duration": 7,
    "start_time": "2022-02-27T18:06:01.600Z"
   },
   {
    "duration": 8,
    "start_time": "2022-02-27T18:06:30.297Z"
   },
   {
    "duration": 60,
    "start_time": "2022-02-27T18:07:11.216Z"
   },
   {
    "duration": 60,
    "start_time": "2022-02-27T18:07:22.129Z"
   },
   {
    "duration": 11,
    "start_time": "2022-02-27T18:07:30.504Z"
   },
   {
    "duration": 10,
    "start_time": "2022-02-27T18:08:59.944Z"
   },
   {
    "duration": 9,
    "start_time": "2022-02-27T18:09:18.232Z"
   },
   {
    "duration": 715,
    "start_time": "2022-02-27T18:09:39.032Z"
   },
   {
    "duration": 577,
    "start_time": "2022-02-27T18:09:52.886Z"
   },
   {
    "duration": 9,
    "start_time": "2022-02-27T18:10:07.255Z"
   },
   {
    "duration": 4,
    "start_time": "2022-02-27T18:10:23.542Z"
   },
   {
    "duration": 9,
    "start_time": "2022-02-27T18:10:41.327Z"
   },
   {
    "duration": 59,
    "start_time": "2022-02-27T18:11:11.734Z"
   },
   {
    "duration": 180,
    "start_time": "2022-02-27T18:11:28.367Z"
   },
   {
    "duration": 1231,
    "start_time": "2022-02-27T18:12:55.798Z"
   },
   {
    "duration": 8,
    "start_time": "2022-02-27T18:13:02.422Z"
   },
   {
    "duration": 1071,
    "start_time": "2022-02-27T18:13:32.236Z"
   },
   {
    "duration": 357,
    "start_time": "2022-02-27T18:13:33.309Z"
   },
   {
    "duration": 21,
    "start_time": "2022-02-27T18:13:33.668Z"
   },
   {
    "duration": 15,
    "start_time": "2022-02-27T18:13:33.691Z"
   },
   {
    "duration": 52,
    "start_time": "2022-02-27T18:13:33.708Z"
   },
   {
    "duration": 1319,
    "start_time": "2022-02-27T18:13:33.762Z"
   },
   {
    "duration": 9,
    "start_time": "2022-02-27T18:13:35.083Z"
   },
   {
    "duration": 18,
    "start_time": "2022-02-27T18:13:35.094Z"
   },
   {
    "duration": 44,
    "start_time": "2022-02-27T18:13:35.116Z"
   },
   {
    "duration": 12,
    "start_time": "2022-02-27T18:13:35.162Z"
   },
   {
    "duration": 59,
    "start_time": "2022-02-27T18:13:35.176Z"
   },
   {
    "duration": 5,
    "start_time": "2022-02-27T18:13:35.237Z"
   },
   {
    "duration": 63,
    "start_time": "2022-02-27T18:13:35.244Z"
   },
   {
    "duration": 45,
    "start_time": "2022-02-27T18:13:35.309Z"
   },
   {
    "duration": 15,
    "start_time": "2022-02-27T18:13:35.356Z"
   },
   {
    "duration": 146,
    "start_time": "2022-02-27T18:13:35.373Z"
   },
   {
    "duration": 5,
    "start_time": "2022-02-27T18:13:35.521Z"
   },
   {
    "duration": 7,
    "start_time": "2022-02-27T18:13:35.532Z"
   },
   {
    "duration": 52,
    "start_time": "2022-02-27T18:13:35.540Z"
   },
   {
    "duration": 52,
    "start_time": "2022-02-27T18:13:35.594Z"
   },
   {
    "duration": 12,
    "start_time": "2022-02-27T18:13:35.648Z"
   },
   {
    "duration": 3,
    "start_time": "2022-02-27T18:13:35.662Z"
   },
   {
    "duration": 13,
    "start_time": "2022-02-27T18:13:35.666Z"
   },
   {
    "duration": 21,
    "start_time": "2022-02-27T18:13:35.680Z"
   },
   {
    "duration": 32,
    "start_time": "2022-02-27T18:13:35.702Z"
   },
   {
    "duration": 22,
    "start_time": "2022-02-27T18:13:35.736Z"
   },
   {
    "duration": 22,
    "start_time": "2022-02-27T18:13:35.761Z"
   },
   {
    "duration": 5,
    "start_time": "2022-02-27T18:13:35.785Z"
   },
   {
    "duration": 8041,
    "start_time": "2022-02-27T18:13:35.792Z"
   },
   {
    "duration": 241,
    "start_time": "2022-02-27T18:13:43.835Z"
   },
   {
    "duration": 11,
    "start_time": "2022-02-27T18:13:44.078Z"
   },
   {
    "duration": 295,
    "start_time": "2022-02-27T18:13:44.091Z"
   },
   {
    "duration": 249,
    "start_time": "2022-02-27T18:13:44.389Z"
   },
   {
    "duration": 11,
    "start_time": "2022-02-27T18:13:44.640Z"
   },
   {
    "duration": 6,
    "start_time": "2022-02-27T18:13:44.653Z"
   },
   {
    "duration": 10,
    "start_time": "2022-02-27T18:13:44.660Z"
   },
   {
    "duration": 5,
    "start_time": "2022-02-27T18:13:44.672Z"
   },
   {
    "duration": 9,
    "start_time": "2022-02-27T19:33:26.525Z"
   },
   {
    "duration": 56,
    "start_time": "2022-02-27T19:35:04.928Z"
   },
   {
    "duration": 10,
    "start_time": "2022-02-27T19:35:08.757Z"
   },
   {
    "duration": 10,
    "start_time": "2022-02-27T19:35:14.435Z"
   },
   {
    "duration": 6,
    "start_time": "2022-02-27T19:41:19.154Z"
   },
   {
    "duration": 3,
    "start_time": "2022-02-27T19:42:06.361Z"
   },
   {
    "duration": 5,
    "start_time": "2022-02-27T19:42:10.754Z"
   },
   {
    "duration": 5,
    "start_time": "2022-02-27T19:42:13.955Z"
   },
   {
    "duration": 1004,
    "start_time": "2022-02-27T19:42:19.796Z"
   },
   {
    "duration": 2,
    "start_time": "2022-02-27T19:42:20.802Z"
   },
   {
    "duration": 350,
    "start_time": "2022-02-27T19:42:20.806Z"
   },
   {
    "duration": 19,
    "start_time": "2022-02-27T19:42:21.158Z"
   },
   {
    "duration": 16,
    "start_time": "2022-02-27T19:42:21.179Z"
   },
   {
    "duration": 57,
    "start_time": "2022-02-27T19:42:21.197Z"
   },
   {
    "duration": 1242,
    "start_time": "2022-02-27T19:42:21.255Z"
   },
   {
    "duration": 9,
    "start_time": "2022-02-27T19:42:22.500Z"
   },
   {
    "duration": 28,
    "start_time": "2022-02-27T19:42:22.511Z"
   },
   {
    "duration": 30,
    "start_time": "2022-02-27T19:42:22.541Z"
   },
   {
    "duration": 10,
    "start_time": "2022-02-27T19:42:22.573Z"
   },
   {
    "duration": 51,
    "start_time": "2022-02-27T19:42:22.584Z"
   },
   {
    "duration": 4,
    "start_time": "2022-02-27T19:42:22.637Z"
   },
   {
    "duration": 65,
    "start_time": "2022-02-27T19:42:22.642Z"
   },
   {
    "duration": 40,
    "start_time": "2022-02-27T19:42:22.709Z"
   },
   {
    "duration": 14,
    "start_time": "2022-02-27T19:42:22.750Z"
   },
   {
    "duration": 143,
    "start_time": "2022-02-27T19:42:22.765Z"
   },
   {
    "duration": 4,
    "start_time": "2022-02-27T19:42:22.910Z"
   },
   {
    "duration": 18,
    "start_time": "2022-02-27T19:42:22.915Z"
   },
   {
    "duration": 53,
    "start_time": "2022-02-27T19:42:22.935Z"
   },
   {
    "duration": 43,
    "start_time": "2022-02-27T19:42:22.990Z"
   },
   {
    "duration": 13,
    "start_time": "2022-02-27T19:42:23.034Z"
   },
   {
    "duration": 2,
    "start_time": "2022-02-27T19:42:23.051Z"
   },
   {
    "duration": 12,
    "start_time": "2022-02-27T19:42:23.055Z"
   },
   {
    "duration": 21,
    "start_time": "2022-02-27T19:42:23.069Z"
   },
   {
    "duration": 3,
    "start_time": "2022-02-27T19:42:23.092Z"
   },
   {
    "duration": 50,
    "start_time": "2022-02-27T19:42:23.097Z"
   },
   {
    "duration": 19,
    "start_time": "2022-02-27T19:42:23.148Z"
   },
   {
    "duration": 5,
    "start_time": "2022-02-27T19:42:23.168Z"
   },
   {
    "duration": 8127,
    "start_time": "2022-02-27T19:42:23.174Z"
   },
   {
    "duration": 232,
    "start_time": "2022-02-27T19:42:31.303Z"
   },
   {
    "duration": 10,
    "start_time": "2022-02-27T19:42:31.536Z"
   },
   {
    "duration": 294,
    "start_time": "2022-02-27T19:42:31.548Z"
   },
   {
    "duration": 228,
    "start_time": "2022-02-27T19:42:31.844Z"
   },
   {
    "duration": 10,
    "start_time": "2022-02-27T19:42:32.073Z"
   },
   {
    "duration": 5,
    "start_time": "2022-02-27T19:42:32.085Z"
   },
   {
    "duration": 8,
    "start_time": "2022-02-27T19:42:32.092Z"
   },
   {
    "duration": 31,
    "start_time": "2022-02-27T19:42:32.102Z"
   },
   {
    "duration": 3,
    "start_time": "2022-02-27T19:45:07.917Z"
   },
   {
    "duration": 10,
    "start_time": "2022-02-27T19:45:10.466Z"
   },
   {
    "duration": 5,
    "start_time": "2022-02-27T19:45:12.019Z"
   },
   {
    "duration": 5,
    "start_time": "2022-02-27T19:45:13.658Z"
   },
   {
    "duration": 5,
    "start_time": "2022-02-27T19:45:14.954Z"
   },
   {
    "duration": 67,
    "start_time": "2022-02-27T19:47:03.369Z"
   },
   {
    "duration": 62,
    "start_time": "2022-02-27T19:47:08.683Z"
   },
   {
    "duration": 13,
    "start_time": "2022-02-27T19:47:14.417Z"
   },
   {
    "duration": 5,
    "start_time": "2022-02-27T19:47:25.921Z"
   },
   {
    "duration": 5,
    "start_time": "2022-02-27T19:47:37.379Z"
   },
   {
    "duration": 5,
    "start_time": "2022-02-27T19:47:42.761Z"
   },
   {
    "duration": 995,
    "start_time": "2022-02-27T19:47:52.301Z"
   },
   {
    "duration": 3,
    "start_time": "2022-02-27T19:47:53.297Z"
   },
   {
    "duration": 350,
    "start_time": "2022-02-27T19:47:53.302Z"
   },
   {
    "duration": 19,
    "start_time": "2022-02-27T19:47:53.653Z"
   },
   {
    "duration": 13,
    "start_time": "2022-02-27T19:47:53.674Z"
   },
   {
    "duration": 51,
    "start_time": "2022-02-27T19:47:53.689Z"
   },
   {
    "duration": 1257,
    "start_time": "2022-02-27T19:47:53.741Z"
   },
   {
    "duration": 9,
    "start_time": "2022-02-27T19:47:54.999Z"
   },
   {
    "duration": 29,
    "start_time": "2022-02-27T19:47:55.011Z"
   },
   {
    "duration": 30,
    "start_time": "2022-02-27T19:47:55.042Z"
   },
   {
    "duration": 10,
    "start_time": "2022-02-27T19:47:55.073Z"
   },
   {
    "duration": 52,
    "start_time": "2022-02-27T19:47:55.085Z"
   },
   {
    "duration": 4,
    "start_time": "2022-02-27T19:47:55.138Z"
   },
   {
    "duration": 64,
    "start_time": "2022-02-27T19:47:55.144Z"
   },
   {
    "duration": 40,
    "start_time": "2022-02-27T19:47:55.210Z"
   },
   {
    "duration": 14,
    "start_time": "2022-02-27T19:47:55.251Z"
   },
   {
    "duration": 145,
    "start_time": "2022-02-27T19:47:55.266Z"
   },
   {
    "duration": 4,
    "start_time": "2022-02-27T19:47:55.413Z"
   },
   {
    "duration": 15,
    "start_time": "2022-02-27T19:47:55.418Z"
   },
   {
    "duration": 51,
    "start_time": "2022-02-27T19:47:55.434Z"
   },
   {
    "duration": 23,
    "start_time": "2022-02-27T19:47:55.487Z"
   },
   {
    "duration": 28,
    "start_time": "2022-02-27T19:47:55.512Z"
   },
   {
    "duration": 6,
    "start_time": "2022-02-27T19:47:55.541Z"
   },
   {
    "duration": 16,
    "start_time": "2022-02-27T19:47:55.548Z"
   },
   {
    "duration": 18,
    "start_time": "2022-02-27T19:47:55.566Z"
   },
   {
    "duration": 3,
    "start_time": "2022-02-27T19:47:55.585Z"
   },
   {
    "duration": 42,
    "start_time": "2022-02-27T19:47:55.591Z"
   },
   {
    "duration": 19,
    "start_time": "2022-02-27T19:47:55.634Z"
   },
   {
    "duration": 6,
    "start_time": "2022-02-27T19:47:55.655Z"
   },
   {
    "duration": 7962,
    "start_time": "2022-02-27T19:47:55.662Z"
   },
   {
    "duration": 237,
    "start_time": "2022-02-27T19:48:03.626Z"
   },
   {
    "duration": 9,
    "start_time": "2022-02-27T19:48:03.864Z"
   },
   {
    "duration": 292,
    "start_time": "2022-02-27T19:48:03.875Z"
   },
   {
    "duration": 242,
    "start_time": "2022-02-27T19:48:04.168Z"
   },
   {
    "duration": 24,
    "start_time": "2022-02-27T19:48:04.412Z"
   },
   {
    "duration": 5,
    "start_time": "2022-02-27T19:48:04.438Z"
   },
   {
    "duration": 10,
    "start_time": "2022-02-27T19:48:04.444Z"
   },
   {
    "duration": 6,
    "start_time": "2022-02-27T19:48:04.456Z"
   },
   {
    "duration": 8,
    "start_time": "2022-02-27T19:48:48.250Z"
   },
   {
    "duration": 9,
    "start_time": "2022-02-27T19:49:44.666Z"
   },
   {
    "duration": 9,
    "start_time": "2022-02-27T19:50:13.905Z"
   },
   {
    "duration": 130,
    "start_time": "2022-02-27T19:52:30.447Z"
   },
   {
    "duration": 61,
    "start_time": "2022-02-27T20:35:53.842Z"
   },
   {
    "duration": 380,
    "start_time": "2022-02-27T20:36:03.106Z"
   },
   {
    "duration": 449,
    "start_time": "2022-02-27T20:36:08.770Z"
   },
   {
    "duration": 10,
    "start_time": "2022-02-27T20:36:12.925Z"
   },
   {
    "duration": 9,
    "start_time": "2022-02-27T20:49:40.310Z"
   },
   {
    "duration": 8,
    "start_time": "2022-02-27T21:24:45.706Z"
   },
   {
    "duration": 9,
    "start_time": "2022-02-27T21:24:56.259Z"
   },
   {
    "duration": 8,
    "start_time": "2022-02-27T21:25:46.986Z"
   },
   {
    "duration": 219,
    "start_time": "2022-02-27T21:26:03.890Z"
   },
   {
    "duration": 9,
    "start_time": "2022-02-27T21:26:22.715Z"
   },
   {
    "duration": 362,
    "start_time": "2022-02-27T21:29:29.065Z"
   },
   {
    "duration": 360,
    "start_time": "2022-02-27T21:29:32.960Z"
   },
   {
    "duration": 955,
    "start_time": "2022-02-27T21:36:31.653Z"
   },
   {
    "duration": 2,
    "start_time": "2022-02-27T21:36:32.610Z"
   },
   {
    "duration": 359,
    "start_time": "2022-02-27T21:36:32.613Z"
   },
   {
    "duration": 20,
    "start_time": "2022-02-27T21:36:32.974Z"
   },
   {
    "duration": 16,
    "start_time": "2022-02-27T21:36:32.995Z"
   },
   {
    "duration": 53,
    "start_time": "2022-02-27T21:36:33.013Z"
   },
   {
    "duration": 1266,
    "start_time": "2022-02-27T21:36:33.068Z"
   },
   {
    "duration": 9,
    "start_time": "2022-02-27T21:36:34.336Z"
   },
   {
    "duration": 17,
    "start_time": "2022-02-27T21:36:34.349Z"
   },
   {
    "duration": 33,
    "start_time": "2022-02-27T21:36:34.368Z"
   },
   {
    "duration": 40,
    "start_time": "2022-02-27T21:36:34.402Z"
   },
   {
    "duration": 26,
    "start_time": "2022-02-27T21:36:34.444Z"
   },
   {
    "duration": 5,
    "start_time": "2022-02-27T21:36:34.471Z"
   },
   {
    "duration": 95,
    "start_time": "2022-02-27T21:36:34.478Z"
   },
   {
    "duration": 23,
    "start_time": "2022-02-27T21:36:34.575Z"
   },
   {
    "duration": 34,
    "start_time": "2022-02-27T21:36:34.600Z"
   },
   {
    "duration": 136,
    "start_time": "2022-02-27T21:36:34.636Z"
   },
   {
    "duration": 6,
    "start_time": "2022-02-27T21:36:34.774Z"
   },
   {
    "duration": 6,
    "start_time": "2022-02-27T21:36:34.782Z"
   },
   {
    "duration": 73,
    "start_time": "2022-02-27T21:36:34.790Z"
   },
   {
    "duration": 24,
    "start_time": "2022-02-27T21:36:34.865Z"
   },
   {
    "duration": 13,
    "start_time": "2022-02-27T21:36:34.891Z"
   },
   {
    "duration": 5,
    "start_time": "2022-02-27T21:36:34.905Z"
   },
   {
    "duration": 15,
    "start_time": "2022-02-27T21:36:34.933Z"
   },
   {
    "duration": 24,
    "start_time": "2022-02-27T21:36:34.950Z"
   },
   {
    "duration": 2,
    "start_time": "2022-02-27T21:36:34.976Z"
   },
   {
    "duration": 26,
    "start_time": "2022-02-27T21:36:34.981Z"
   },
   {
    "duration": 42,
    "start_time": "2022-02-27T21:36:35.009Z"
   },
   {
    "duration": 7,
    "start_time": "2022-02-27T21:36:35.053Z"
   },
   {
    "duration": 8016,
    "start_time": "2022-02-27T21:36:35.061Z"
   },
   {
    "duration": 232,
    "start_time": "2022-02-27T21:36:43.079Z"
   },
   {
    "duration": 9,
    "start_time": "2022-02-27T21:36:43.312Z"
   },
   {
    "duration": 277,
    "start_time": "2022-02-27T21:36:43.322Z"
   },
   {
    "duration": 8,
    "start_time": "2022-02-27T21:36:43.601Z"
   },
   {
    "duration": 224,
    "start_time": "2022-02-27T21:36:43.611Z"
   },
   {
    "duration": 9,
    "start_time": "2022-02-27T21:36:43.836Z"
   },
   {
    "duration": 17,
    "start_time": "2022-02-27T21:36:43.846Z"
   },
   {
    "duration": 4,
    "start_time": "2022-02-27T21:36:43.865Z"
   },
   {
    "duration": 9,
    "start_time": "2022-02-27T21:36:43.871Z"
   },
   {
    "duration": 4,
    "start_time": "2022-02-27T21:36:43.881Z"
   },
   {
    "duration": 77,
    "start_time": "2022-02-27T21:38:26.309Z"
   },
   {
    "duration": 5,
    "start_time": "2022-02-27T21:40:44.781Z"
   },
   {
    "duration": 54,
    "start_time": "2022-02-27T21:50:00.418Z"
   },
   {
    "duration": 4,
    "start_time": "2022-02-27T21:53:50.904Z"
   },
   {
    "duration": 1011,
    "start_time": "2022-02-27T22:01:59.603Z"
   },
   {
    "duration": 364,
    "start_time": "2022-02-27T22:02:00.616Z"
   },
   {
    "duration": 20,
    "start_time": "2022-02-27T22:02:00.981Z"
   },
   {
    "duration": 16,
    "start_time": "2022-02-27T22:02:01.003Z"
   },
   {
    "duration": 51,
    "start_time": "2022-02-27T22:02:01.020Z"
   },
   {
    "duration": 1335,
    "start_time": "2022-02-27T22:02:01.073Z"
   },
   {
    "duration": 10,
    "start_time": "2022-02-27T22:02:02.410Z"
   },
   {
    "duration": 29,
    "start_time": "2022-02-27T22:02:02.422Z"
   },
   {
    "duration": 34,
    "start_time": "2022-02-27T22:02:02.454Z"
   },
   {
    "duration": 43,
    "start_time": "2022-02-27T22:02:02.491Z"
   },
   {
    "duration": 26,
    "start_time": "2022-02-27T22:02:02.542Z"
   },
   {
    "duration": 4,
    "start_time": "2022-02-27T22:02:02.570Z"
   },
   {
    "duration": 81,
    "start_time": "2022-02-27T22:02:02.576Z"
   },
   {
    "duration": 31,
    "start_time": "2022-02-27T22:02:02.659Z"
   },
   {
    "duration": 150,
    "start_time": "2022-02-27T22:02:02.692Z"
   },
   {
    "duration": 4,
    "start_time": "2022-02-27T22:02:02.844Z"
   },
   {
    "duration": 10,
    "start_time": "2022-02-27T22:02:02.850Z"
   },
   {
    "duration": 53,
    "start_time": "2022-02-27T22:02:02.861Z"
   },
   {
    "duration": 38,
    "start_time": "2022-02-27T22:02:02.916Z"
   },
   {
    "duration": 12,
    "start_time": "2022-02-27T22:02:02.956Z"
   },
   {
    "duration": 3,
    "start_time": "2022-02-27T22:02:02.970Z"
   },
   {
    "duration": 16,
    "start_time": "2022-02-27T22:02:02.975Z"
   },
   {
    "duration": 43,
    "start_time": "2022-02-27T22:02:02.992Z"
   },
   {
    "duration": 2,
    "start_time": "2022-02-27T22:02:03.037Z"
   },
   {
    "duration": 34,
    "start_time": "2022-02-27T22:02:03.041Z"
   },
   {
    "duration": 24,
    "start_time": "2022-02-27T22:02:03.077Z"
   },
   {
    "duration": 5,
    "start_time": "2022-02-27T22:02:03.105Z"
   },
   {
    "duration": 7883,
    "start_time": "2022-02-27T22:02:03.112Z"
   },
   {
    "duration": 238,
    "start_time": "2022-02-27T22:02:10.997Z"
   },
   {
    "duration": 10,
    "start_time": "2022-02-27T22:02:11.236Z"
   },
   {
    "duration": 277,
    "start_time": "2022-02-27T22:02:11.247Z"
   },
   {
    "duration": 12,
    "start_time": "2022-02-27T22:02:11.526Z"
   },
   {
    "duration": 229,
    "start_time": "2022-02-27T22:02:11.539Z"
   },
   {
    "duration": 9,
    "start_time": "2022-02-27T22:02:11.769Z"
   },
   {
    "duration": 10,
    "start_time": "2022-02-27T22:02:11.779Z"
   },
   {
    "duration": 4,
    "start_time": "2022-02-27T22:02:11.791Z"
   },
   {
    "duration": 57,
    "start_time": "2022-02-27T22:02:11.797Z"
   },
   {
    "duration": -22,
    "start_time": "2022-02-27T22:02:11.878Z"
   },
   {
    "duration": -24,
    "start_time": "2022-02-27T22:02:11.881Z"
   },
   {
    "duration": 989,
    "start_time": "2022-02-27T22:02:25.922Z"
   },
   {
    "duration": 360,
    "start_time": "2022-02-27T22:02:26.913Z"
   },
   {
    "duration": 21,
    "start_time": "2022-02-27T22:02:27.275Z"
   },
   {
    "duration": 15,
    "start_time": "2022-02-27T22:02:27.298Z"
   },
   {
    "duration": 49,
    "start_time": "2022-02-27T22:02:27.315Z"
   },
   {
    "duration": 1251,
    "start_time": "2022-02-27T22:02:27.365Z"
   },
   {
    "duration": 17,
    "start_time": "2022-02-27T22:02:28.617Z"
   },
   {
    "duration": 17,
    "start_time": "2022-02-27T22:02:28.637Z"
   },
   {
    "duration": 29,
    "start_time": "2022-02-27T22:02:28.656Z"
   },
   {
    "duration": 10,
    "start_time": "2022-02-27T22:02:28.686Z"
   },
   {
    "duration": 49,
    "start_time": "2022-02-27T22:02:28.697Z"
   },
   {
    "duration": 5,
    "start_time": "2022-02-27T22:02:28.748Z"
   },
   {
    "duration": 82,
    "start_time": "2022-02-27T22:02:28.754Z"
   },
   {
    "duration": 26,
    "start_time": "2022-02-27T22:02:28.838Z"
   },
   {
    "duration": 153,
    "start_time": "2022-02-27T22:02:28.866Z"
   },
   {
    "duration": 6,
    "start_time": "2022-02-27T22:02:29.021Z"
   },
   {
    "duration": 9,
    "start_time": "2022-02-27T22:02:29.028Z"
   },
   {
    "duration": 59,
    "start_time": "2022-02-27T22:02:29.038Z"
   },
   {
    "duration": 40,
    "start_time": "2022-02-27T22:02:29.099Z"
   },
   {
    "duration": 12,
    "start_time": "2022-02-27T22:02:29.141Z"
   },
   {
    "duration": 6,
    "start_time": "2022-02-27T22:02:29.155Z"
   },
   {
    "duration": 14,
    "start_time": "2022-02-27T22:02:29.163Z"
   },
   {
    "duration": 20,
    "start_time": "2022-02-27T22:02:29.180Z"
   },
   {
    "duration": 2,
    "start_time": "2022-02-27T22:02:29.202Z"
   },
   {
    "duration": 49,
    "start_time": "2022-02-27T22:02:29.205Z"
   },
   {
    "duration": 22,
    "start_time": "2022-02-27T22:02:29.256Z"
   },
   {
    "duration": 6,
    "start_time": "2022-02-27T22:02:29.279Z"
   },
   {
    "duration": 8188,
    "start_time": "2022-02-27T22:02:29.286Z"
   },
   {
    "duration": 225,
    "start_time": "2022-02-27T22:02:37.475Z"
   },
   {
    "duration": 8,
    "start_time": "2022-02-27T22:02:37.702Z"
   },
   {
    "duration": 278,
    "start_time": "2022-02-27T22:02:37.712Z"
   },
   {
    "duration": 9,
    "start_time": "2022-02-27T22:02:37.991Z"
   },
   {
    "duration": 238,
    "start_time": "2022-02-27T22:02:38.001Z"
   },
   {
    "duration": 10,
    "start_time": "2022-02-27T22:02:38.241Z"
   },
   {
    "duration": 10,
    "start_time": "2022-02-27T22:02:38.252Z"
   },
   {
    "duration": 5,
    "start_time": "2022-02-27T22:02:38.263Z"
   },
   {
    "duration": 11,
    "start_time": "2022-02-27T22:02:38.270Z"
   },
   {
    "duration": 6,
    "start_time": "2022-02-27T22:02:38.283Z"
   },
   {
    "duration": 218,
    "start_time": "2022-03-07T22:09:24.507Z"
   },
   {
    "duration": 1023,
    "start_time": "2022-03-07T22:09:36.230Z"
   },
   {
    "duration": 377,
    "start_time": "2022-03-07T22:09:37.255Z"
   },
   {
    "duration": 22,
    "start_time": "2022-03-07T22:09:37.634Z"
   },
   {
    "duration": 15,
    "start_time": "2022-03-07T22:09:37.658Z"
   },
   {
    "duration": 54,
    "start_time": "2022-03-07T22:09:37.675Z"
   },
   {
    "duration": 1588,
    "start_time": "2022-03-07T22:09:37.731Z"
   },
   {
    "duration": 9,
    "start_time": "2022-03-07T22:09:39.321Z"
   },
   {
    "duration": 34,
    "start_time": "2022-03-07T22:09:39.333Z"
   },
   {
    "duration": 39,
    "start_time": "2022-03-07T22:09:39.369Z"
   },
   {
    "duration": 9,
    "start_time": "2022-03-07T22:09:39.411Z"
   },
   {
    "duration": 42,
    "start_time": "2022-03-07T22:09:39.421Z"
   },
   {
    "duration": 4,
    "start_time": "2022-03-07T22:09:39.465Z"
   },
   {
    "duration": 291,
    "start_time": "2022-03-07T22:09:39.470Z"
   },
   {
    "duration": -57,
    "start_time": "2022-03-07T22:09:39.820Z"
   },
   {
    "duration": -59,
    "start_time": "2022-03-07T22:09:39.823Z"
   },
   {
    "duration": -60,
    "start_time": "2022-03-07T22:09:39.825Z"
   },
   {
    "duration": -67,
    "start_time": "2022-03-07T22:09:39.832Z"
   },
   {
    "duration": -70,
    "start_time": "2022-03-07T22:09:39.836Z"
   },
   {
    "duration": -71,
    "start_time": "2022-03-07T22:09:39.838Z"
   },
   {
    "duration": -73,
    "start_time": "2022-03-07T22:09:39.841Z"
   },
   {
    "duration": -75,
    "start_time": "2022-03-07T22:09:39.843Z"
   },
   {
    "duration": -77,
    "start_time": "2022-03-07T22:09:39.846Z"
   },
   {
    "duration": -80,
    "start_time": "2022-03-07T22:09:39.850Z"
   },
   {
    "duration": -83,
    "start_time": "2022-03-07T22:09:39.854Z"
   },
   {
    "duration": -85,
    "start_time": "2022-03-07T22:09:39.857Z"
   },
   {
    "duration": -88,
    "start_time": "2022-03-07T22:09:39.860Z"
   },
   {
    "duration": -107,
    "start_time": "2022-03-07T22:09:39.880Z"
   },
   {
    "duration": -112,
    "start_time": "2022-03-07T22:09:39.886Z"
   },
   {
    "duration": -114,
    "start_time": "2022-03-07T22:09:39.889Z"
   },
   {
    "duration": -117,
    "start_time": "2022-03-07T22:09:39.892Z"
   },
   {
    "duration": -118,
    "start_time": "2022-03-07T22:09:39.894Z"
   },
   {
    "duration": -120,
    "start_time": "2022-03-07T22:09:39.897Z"
   },
   {
    "duration": -122,
    "start_time": "2022-03-07T22:09:39.900Z"
   },
   {
    "duration": -124,
    "start_time": "2022-03-07T22:09:39.903Z"
   },
   {
    "duration": -127,
    "start_time": "2022-03-07T22:09:39.906Z"
   },
   {
    "duration": -128,
    "start_time": "2022-03-07T22:09:39.908Z"
   },
   {
    "duration": -310,
    "start_time": "2022-03-07T22:09:40.091Z"
   },
   {
    "duration": -313,
    "start_time": "2022-03-07T22:09:40.095Z"
   },
   {
    "duration": -317,
    "start_time": "2022-03-07T22:09:40.099Z"
   },
   {
    "duration": 66,
    "start_time": "2022-03-07T22:11:58.412Z"
   },
   {
    "duration": 66,
    "start_time": "2022-03-07T22:12:12.799Z"
   },
   {
    "duration": 15,
    "start_time": "2022-03-07T22:13:41.140Z"
   },
   {
    "duration": 41,
    "start_time": "2022-03-07T22:17:19.654Z"
   },
   {
    "duration": 3,
    "start_time": "2022-03-07T22:21:06.032Z"
   },
   {
    "duration": 39,
    "start_time": "2022-03-07T22:21:16.375Z"
   },
   {
    "duration": 118,
    "start_time": "2022-03-07T22:21:42.951Z"
   },
   {
    "duration": 99,
    "start_time": "2022-03-07T22:22:24.626Z"
   },
   {
    "duration": 40,
    "start_time": "2022-03-07T22:22:27.119Z"
   },
   {
    "duration": 203,
    "start_time": "2022-03-07T22:25:18.196Z"
   },
   {
    "duration": 6,
    "start_time": "2022-03-07T22:25:28.616Z"
   },
   {
    "duration": 6,
    "start_time": "2022-03-07T22:25:35.992Z"
   },
   {
    "duration": 5,
    "start_time": "2022-03-07T22:25:38.414Z"
   },
   {
    "duration": 186,
    "start_time": "2022-03-07T22:25:44.718Z"
   },
   {
    "duration": 5,
    "start_time": "2022-03-07T22:25:52.350Z"
   },
   {
    "duration": 8,
    "start_time": "2022-03-07T22:26:58.790Z"
   },
   {
    "duration": 91,
    "start_time": "2022-03-07T22:28:22.293Z"
   },
   {
    "duration": 6,
    "start_time": "2022-03-07T22:29:25.126Z"
   },
   {
    "duration": 91,
    "start_time": "2022-03-07T22:29:27.428Z"
   },
   {
    "duration": 34,
    "start_time": "2022-03-07T22:30:38.039Z"
   },
   {
    "duration": 84,
    "start_time": "2022-03-07T22:33:16.940Z"
   },
   {
    "duration": 387,
    "start_time": "2022-03-07T22:33:19.555Z"
   },
   {
    "duration": 370,
    "start_time": "2022-03-07T22:33:37.051Z"
   },
   {
    "duration": 197,
    "start_time": "2022-03-07T22:34:56.356Z"
   },
   {
    "duration": 268,
    "start_time": "2022-03-07T22:35:05.155Z"
   },
   {
    "duration": 204,
    "start_time": "2022-03-07T22:35:49.876Z"
   },
   {
    "duration": 202,
    "start_time": "2022-03-07T22:35:53.571Z"
   },
   {
    "duration": 3,
    "start_time": "2022-03-07T22:36:39.970Z"
   },
   {
    "duration": 55,
    "start_time": "2022-03-07T22:36:40.707Z"
   },
   {
    "duration": 90,
    "start_time": "2022-03-07T22:36:40.978Z"
   },
   {
    "duration": 4,
    "start_time": "2022-03-07T22:36:41.209Z"
   },
   {
    "duration": 93,
    "start_time": "2022-03-07T22:36:42.162Z"
   },
   {
    "duration": 33,
    "start_time": "2022-03-07T22:36:43.219Z"
   },
   {
    "duration": 182,
    "start_time": "2022-03-07T22:36:43.650Z"
   },
   {
    "duration": 206,
    "start_time": "2022-03-07T22:37:03.714Z"
   },
   {
    "duration": 4,
    "start_time": "2022-03-07T22:37:08.338Z"
   },
   {
    "duration": 4,
    "start_time": "2022-03-07T22:37:14.986Z"
   },
   {
    "duration": 185,
    "start_time": "2022-03-07T22:38:55.346Z"
   },
   {
    "duration": 192,
    "start_time": "2022-03-07T22:39:07.353Z"
   },
   {
    "duration": 14,
    "start_time": "2022-03-07T22:42:02.009Z"
   },
   {
    "duration": 193,
    "start_time": "2022-03-07T22:47:00.366Z"
   },
   {
    "duration": 65,
    "start_time": "2022-03-07T22:47:36.509Z"
   },
   {
    "duration": 18,
    "start_time": "2022-03-07T22:47:39.390Z"
   },
   {
    "duration": 212,
    "start_time": "2022-03-07T22:49:06.974Z"
   },
   {
    "duration": 216,
    "start_time": "2022-03-07T22:49:18.749Z"
   },
   {
    "duration": 212,
    "start_time": "2022-03-07T22:49:24.669Z"
   },
   {
    "duration": 71,
    "start_time": "2022-03-07T22:50:04.629Z"
   },
   {
    "duration": 63,
    "start_time": "2022-03-07T22:50:08.404Z"
   },
   {
    "duration": 207,
    "start_time": "2022-03-07T22:50:13.564Z"
   },
   {
    "duration": 200,
    "start_time": "2022-03-07T22:50:41.246Z"
   },
   {
    "duration": 1016,
    "start_time": "2022-03-07T22:50:53.229Z"
   },
   {
    "duration": 370,
    "start_time": "2022-03-07T22:50:54.247Z"
   },
   {
    "duration": 23,
    "start_time": "2022-03-07T22:50:54.619Z"
   },
   {
    "duration": 17,
    "start_time": "2022-03-07T22:50:54.644Z"
   },
   {
    "duration": 57,
    "start_time": "2022-03-07T22:50:54.663Z"
   },
   {
    "duration": 1360,
    "start_time": "2022-03-07T22:50:54.722Z"
   },
   {
    "duration": 10,
    "start_time": "2022-03-07T22:50:56.084Z"
   },
   {
    "duration": 23,
    "start_time": "2022-03-07T22:50:56.097Z"
   },
   {
    "duration": 50,
    "start_time": "2022-03-07T22:50:56.122Z"
   },
   {
    "duration": 12,
    "start_time": "2022-03-07T22:50:56.174Z"
   },
   {
    "duration": 26,
    "start_time": "2022-03-07T22:50:56.188Z"
   },
   {
    "duration": 5,
    "start_time": "2022-03-07T22:50:56.215Z"
   },
   {
    "duration": 103,
    "start_time": "2022-03-07T22:50:56.222Z"
   },
   {
    "duration": 5,
    "start_time": "2022-03-07T22:50:56.327Z"
   },
   {
    "duration": 235,
    "start_time": "2022-03-07T22:50:56.334Z"
   },
   {
    "duration": 11,
    "start_time": "2022-03-07T22:50:56.572Z"
   },
   {
    "duration": 241,
    "start_time": "2022-03-07T22:50:56.585Z"
   },
   {
    "duration": 20,
    "start_time": "2022-03-07T22:50:56.828Z"
   },
   {
    "duration": 54,
    "start_time": "2022-03-07T22:50:56.859Z"
   },
   {
    "duration": 4,
    "start_time": "2022-03-07T22:50:56.914Z"
   },
   {
    "duration": 149,
    "start_time": "2022-03-07T22:50:56.919Z"
   },
   {
    "duration": 4,
    "start_time": "2022-03-07T22:50:57.070Z"
   },
   {
    "duration": 23,
    "start_time": "2022-03-07T22:50:57.077Z"
   },
   {
    "duration": 86,
    "start_time": "2022-03-07T22:50:57.102Z"
   },
   {
    "duration": 28,
    "start_time": "2022-03-07T22:50:57.189Z"
   },
   {
    "duration": 11,
    "start_time": "2022-03-07T22:50:57.218Z"
   },
   {
    "duration": 9,
    "start_time": "2022-03-07T22:50:57.231Z"
   },
   {
    "duration": 31,
    "start_time": "2022-03-07T22:50:57.242Z"
   },
   {
    "duration": 40,
    "start_time": "2022-03-07T22:50:57.275Z"
   },
   {
    "duration": 3,
    "start_time": "2022-03-07T22:50:57.317Z"
   },
   {
    "duration": 47,
    "start_time": "2022-03-07T22:50:57.321Z"
   },
   {
    "duration": 22,
    "start_time": "2022-03-07T22:50:57.370Z"
   },
   {
    "duration": 5,
    "start_time": "2022-03-07T22:50:57.394Z"
   },
   {
    "duration": 8532,
    "start_time": "2022-03-07T22:50:57.401Z"
   },
   {
    "duration": 273,
    "start_time": "2022-03-07T22:51:05.934Z"
   },
   {
    "duration": 10,
    "start_time": "2022-03-07T22:51:06.208Z"
   },
   {
    "duration": 320,
    "start_time": "2022-03-07T22:51:06.219Z"
   },
   {
    "duration": 19,
    "start_time": "2022-03-07T22:51:06.541Z"
   },
   {
    "duration": 267,
    "start_time": "2022-03-07T22:51:06.561Z"
   },
   {
    "duration": 9,
    "start_time": "2022-03-07T22:51:06.830Z"
   },
   {
    "duration": 29,
    "start_time": "2022-03-07T22:51:06.840Z"
   },
   {
    "duration": 4,
    "start_time": "2022-03-07T22:51:06.871Z"
   },
   {
    "duration": 12,
    "start_time": "2022-03-07T22:51:06.877Z"
   },
   {
    "duration": 4,
    "start_time": "2022-03-07T22:51:06.891Z"
   },
   {
    "duration": 576,
    "start_time": "2022-03-07T22:55:00.693Z"
   },
   {
    "duration": 292,
    "start_time": "2022-03-07T22:55:06.633Z"
   },
   {
    "duration": 58,
    "start_time": "2022-03-07T22:55:28.129Z"
   },
   {
    "duration": 58,
    "start_time": "2022-03-07T22:55:50.482Z"
   },
   {
    "duration": 61,
    "start_time": "2022-03-07T22:56:11.200Z"
   },
   {
    "duration": 59,
    "start_time": "2022-03-07T22:56:20.136Z"
   },
   {
    "duration": 65,
    "start_time": "2022-03-07T22:56:27.601Z"
   },
   {
    "duration": 64,
    "start_time": "2022-03-07T22:56:36.762Z"
   },
   {
    "duration": 207,
    "start_time": "2022-03-07T22:56:44.056Z"
   },
   {
    "duration": 183,
    "start_time": "2022-03-07T22:56:47.161Z"
   },
   {
    "duration": 1075,
    "start_time": "2022-03-07T22:56:55.146Z"
   },
   {
    "duration": 362,
    "start_time": "2022-03-07T22:56:56.223Z"
   },
   {
    "duration": 21,
    "start_time": "2022-03-07T22:56:56.587Z"
   },
   {
    "duration": 17,
    "start_time": "2022-03-07T22:56:56.610Z"
   },
   {
    "duration": 59,
    "start_time": "2022-03-07T22:56:56.628Z"
   },
   {
    "duration": 1334,
    "start_time": "2022-03-07T22:56:56.690Z"
   },
   {
    "duration": 12,
    "start_time": "2022-03-07T22:56:58.026Z"
   },
   {
    "duration": 43,
    "start_time": "2022-03-07T22:56:58.041Z"
   },
   {
    "duration": 81,
    "start_time": "2022-03-07T22:56:58.087Z"
   },
   {
    "duration": 10,
    "start_time": "2022-03-07T22:56:58.170Z"
   },
   {
    "duration": 25,
    "start_time": "2022-03-07T22:56:58.182Z"
   },
   {
    "duration": 4,
    "start_time": "2022-03-07T22:56:58.260Z"
   },
   {
    "duration": 124,
    "start_time": "2022-03-07T22:56:58.265Z"
   },
   {
    "duration": 4,
    "start_time": "2022-03-07T22:56:58.390Z"
   },
   {
    "duration": 336,
    "start_time": "2022-03-07T22:56:58.395Z"
   },
   {
    "duration": 11,
    "start_time": "2022-03-07T22:56:58.732Z"
   },
   {
    "duration": 218,
    "start_time": "2022-03-07T22:56:58.745Z"
   },
   {
    "duration": 3,
    "start_time": "2022-03-07T22:56:58.965Z"
   },
   {
    "duration": 142,
    "start_time": "2022-03-07T22:56:58.970Z"
   },
   {
    "duration": 6,
    "start_time": "2022-03-07T22:56:59.114Z"
   },
   {
    "duration": 7,
    "start_time": "2022-03-07T22:56:59.122Z"
   },
   {
    "duration": 80,
    "start_time": "2022-03-07T22:56:59.130Z"
   },
   {
    "duration": 25,
    "start_time": "2022-03-07T22:56:59.215Z"
   },
   {
    "duration": 27,
    "start_time": "2022-03-07T22:56:59.242Z"
   },
   {
    "duration": 3,
    "start_time": "2022-03-07T22:56:59.271Z"
   },
   {
    "duration": 14,
    "start_time": "2022-03-07T22:56:59.276Z"
   },
   {
    "duration": 23,
    "start_time": "2022-03-07T22:56:59.292Z"
   },
   {
    "duration": 3,
    "start_time": "2022-03-07T22:56:59.317Z"
   },
   {
    "duration": 61,
    "start_time": "2022-03-07T22:56:59.322Z"
   },
   {
    "duration": 25,
    "start_time": "2022-03-07T22:56:59.385Z"
   },
   {
    "duration": 7,
    "start_time": "2022-03-07T22:56:59.412Z"
   },
   {
    "duration": 8357,
    "start_time": "2022-03-07T22:56:59.420Z"
   },
   {
    "duration": 258,
    "start_time": "2022-03-07T22:57:07.778Z"
   },
   {
    "duration": 9,
    "start_time": "2022-03-07T22:57:08.038Z"
   },
   {
    "duration": 300,
    "start_time": "2022-03-07T22:57:08.059Z"
   },
   {
    "duration": 9,
    "start_time": "2022-03-07T22:57:08.360Z"
   },
   {
    "duration": 265,
    "start_time": "2022-03-07T22:57:08.371Z"
   },
   {
    "duration": 9,
    "start_time": "2022-03-07T22:57:08.638Z"
   },
   {
    "duration": 10,
    "start_time": "2022-03-07T22:57:08.659Z"
   },
   {
    "duration": 4,
    "start_time": "2022-03-07T22:57:08.671Z"
   },
   {
    "duration": 10,
    "start_time": "2022-03-07T22:57:08.677Z"
   },
   {
    "duration": 5,
    "start_time": "2022-03-07T22:57:08.688Z"
   },
   {
    "duration": 3,
    "start_time": "2022-03-07T22:57:18.912Z"
   },
   {
    "duration": 4,
    "start_time": "2022-03-07T22:57:26.231Z"
   },
   {
    "duration": 4,
    "start_time": "2022-03-07T22:57:36.703Z"
   },
   {
    "duration": 4,
    "start_time": "2022-03-07T22:57:46.247Z"
   },
   {
    "duration": 210,
    "start_time": "2022-03-07T22:59:27.799Z"
   },
   {
    "duration": 7,
    "start_time": "2022-03-07T22:59:31.390Z"
   },
   {
    "duration": 209,
    "start_time": "2022-03-07T22:59:32.110Z"
   },
   {
    "duration": 4,
    "start_time": "2022-03-07T22:59:33.774Z"
   },
   {
    "duration": 1091,
    "start_time": "2022-03-07T22:59:42.361Z"
   },
   {
    "duration": 404,
    "start_time": "2022-03-07T22:59:43.454Z"
   },
   {
    "duration": 24,
    "start_time": "2022-03-07T22:59:43.860Z"
   },
   {
    "duration": 18,
    "start_time": "2022-03-07T22:59:43.886Z"
   },
   {
    "duration": 77,
    "start_time": "2022-03-07T22:59:43.906Z"
   },
   {
    "duration": 1682,
    "start_time": "2022-03-07T22:59:43.985Z"
   },
   {
    "duration": 10,
    "start_time": "2022-03-07T22:59:45.669Z"
   },
   {
    "duration": 22,
    "start_time": "2022-03-07T22:59:45.681Z"
   },
   {
    "duration": 39,
    "start_time": "2022-03-07T22:59:45.758Z"
   },
   {
    "duration": 62,
    "start_time": "2022-03-07T22:59:45.799Z"
   },
   {
    "duration": 32,
    "start_time": "2022-03-07T22:59:45.863Z"
   },
   {
    "duration": 5,
    "start_time": "2022-03-07T22:59:45.897Z"
   },
   {
    "duration": 128,
    "start_time": "2022-03-07T22:59:45.907Z"
   },
   {
    "duration": 4,
    "start_time": "2022-03-07T22:59:46.037Z"
   },
   {
    "duration": 260,
    "start_time": "2022-03-07T22:59:46.043Z"
   },
   {
    "duration": 12,
    "start_time": "2022-03-07T22:59:46.306Z"
   },
   {
    "duration": 240,
    "start_time": "2022-03-07T22:59:46.320Z"
   },
   {
    "duration": 3,
    "start_time": "2022-03-07T22:59:46.562Z"
   },
   {
    "duration": 148,
    "start_time": "2022-03-07T22:59:46.567Z"
   },
   {
    "duration": 5,
    "start_time": "2022-03-07T22:59:46.717Z"
   },
   {
    "duration": 7,
    "start_time": "2022-03-07T22:59:46.724Z"
   },
   {
    "duration": 87,
    "start_time": "2022-03-07T22:59:46.733Z"
   },
   {
    "duration": 38,
    "start_time": "2022-03-07T22:59:46.823Z"
   },
   {
    "duration": 13,
    "start_time": "2022-03-07T22:59:46.863Z"
   },
   {
    "duration": 3,
    "start_time": "2022-03-07T22:59:46.878Z"
   },
   {
    "duration": 17,
    "start_time": "2022-03-07T22:59:46.884Z"
   },
   {
    "duration": 27,
    "start_time": "2022-03-07T22:59:46.903Z"
   },
   {
    "duration": 3,
    "start_time": "2022-03-07T22:59:46.932Z"
   },
   {
    "duration": 32,
    "start_time": "2022-03-07T22:59:46.960Z"
   },
   {
    "duration": 25,
    "start_time": "2022-03-07T22:59:46.994Z"
   },
   {
    "duration": 5,
    "start_time": "2022-03-07T22:59:47.021Z"
   },
   {
    "duration": 9033,
    "start_time": "2022-03-07T22:59:47.028Z"
   },
   {
    "duration": 276,
    "start_time": "2022-03-07T22:59:56.063Z"
   },
   {
    "duration": 21,
    "start_time": "2022-03-07T22:59:56.340Z"
   },
   {
    "duration": 315,
    "start_time": "2022-03-07T22:59:56.363Z"
   },
   {
    "duration": 10,
    "start_time": "2022-03-07T22:59:56.680Z"
   },
   {
    "duration": 279,
    "start_time": "2022-03-07T22:59:56.692Z"
   },
   {
    "duration": 9,
    "start_time": "2022-03-07T22:59:56.973Z"
   },
   {
    "duration": 12,
    "start_time": "2022-03-07T22:59:56.984Z"
   },
   {
    "duration": 5,
    "start_time": "2022-03-07T22:59:56.997Z"
   },
   {
    "duration": 13,
    "start_time": "2022-03-07T22:59:57.003Z"
   },
   {
    "duration": 8,
    "start_time": "2022-03-07T22:59:57.017Z"
   },
   {
    "duration": 3,
    "start_time": "2022-03-07T23:00:13.230Z"
   },
   {
    "duration": 4,
    "start_time": "2022-03-07T23:00:18.178Z"
   },
   {
    "duration": 3,
    "start_time": "2022-03-07T23:00:22.142Z"
   },
   {
    "duration": 286,
    "start_time": "2022-03-07T23:02:36.574Z"
   },
   {
    "duration": 14,
    "start_time": "2022-03-07T23:03:29.142Z"
   },
   {
    "duration": 219,
    "start_time": "2022-03-07T23:03:31.148Z"
   },
   {
    "duration": 1064,
    "start_time": "2022-03-07T23:03:40.362Z"
   },
   {
    "duration": 363,
    "start_time": "2022-03-07T23:03:41.428Z"
   },
   {
    "duration": 22,
    "start_time": "2022-03-07T23:03:41.793Z"
   },
   {
    "duration": 16,
    "start_time": "2022-03-07T23:03:41.817Z"
   },
   {
    "duration": 55,
    "start_time": "2022-03-07T23:03:41.835Z"
   },
   {
    "duration": 1360,
    "start_time": "2022-03-07T23:03:41.891Z"
   },
   {
    "duration": 13,
    "start_time": "2022-03-07T23:03:43.252Z"
   },
   {
    "duration": 19,
    "start_time": "2022-03-07T23:03:43.267Z"
   },
   {
    "duration": 30,
    "start_time": "2022-03-07T23:03:43.289Z"
   },
   {
    "duration": 38,
    "start_time": "2022-03-07T23:03:43.321Z"
   },
   {
    "duration": 25,
    "start_time": "2022-03-07T23:03:43.360Z"
   },
   {
    "duration": 4,
    "start_time": "2022-03-07T23:03:43.386Z"
   },
   {
    "duration": 87,
    "start_time": "2022-03-07T23:03:43.392Z"
   },
   {
    "duration": 4,
    "start_time": "2022-03-07T23:03:43.480Z"
   },
   {
    "duration": 220,
    "start_time": "2022-03-07T23:03:43.485Z"
   },
   {
    "duration": 15,
    "start_time": "2022-03-07T23:03:43.707Z"
   },
   {
    "duration": 367,
    "start_time": "2022-03-07T23:03:43.724Z"
   },
   {
    "duration": 4,
    "start_time": "2022-03-07T23:03:44.092Z"
   },
   {
    "duration": 224,
    "start_time": "2022-03-07T23:03:44.098Z"
   },
   {
    "duration": 5,
    "start_time": "2022-03-07T23:03:44.323Z"
   },
   {
    "duration": 6,
    "start_time": "2022-03-07T23:03:44.330Z"
   },
   {
    "duration": 132,
    "start_time": "2022-03-07T23:03:44.337Z"
   },
   {
    "duration": 48,
    "start_time": "2022-03-07T23:03:44.471Z"
   },
   {
    "duration": 14,
    "start_time": "2022-03-07T23:03:44.521Z"
   },
   {
    "duration": 22,
    "start_time": "2022-03-07T23:03:44.537Z"
   },
   {
    "duration": 14,
    "start_time": "2022-03-07T23:03:44.561Z"
   },
   {
    "duration": 50,
    "start_time": "2022-03-07T23:03:44.578Z"
   },
   {
    "duration": 3,
    "start_time": "2022-03-07T23:03:44.630Z"
   },
   {
    "duration": 335,
    "start_time": "2022-03-07T23:03:44.635Z"
   },
   {
    "duration": -60,
    "start_time": "2022-03-07T23:03:45.032Z"
   },
   {
    "duration": -62,
    "start_time": "2022-03-07T23:03:45.035Z"
   },
   {
    "duration": -64,
    "start_time": "2022-03-07T23:03:45.038Z"
   },
   {
    "duration": -65,
    "start_time": "2022-03-07T23:03:45.040Z"
   },
   {
    "duration": -68,
    "start_time": "2022-03-07T23:03:45.044Z"
   },
   {
    "duration": -69,
    "start_time": "2022-03-07T23:03:45.046Z"
   },
   {
    "duration": -72,
    "start_time": "2022-03-07T23:03:45.049Z"
   },
   {
    "duration": -76,
    "start_time": "2022-03-07T23:03:45.054Z"
   },
   {
    "duration": -77,
    "start_time": "2022-03-07T23:03:45.056Z"
   },
   {
    "duration": -79,
    "start_time": "2022-03-07T23:03:45.059Z"
   },
   {
    "duration": -81,
    "start_time": "2022-03-07T23:03:45.062Z"
   },
   {
    "duration": -85,
    "start_time": "2022-03-07T23:03:45.066Z"
   },
   {
    "duration": -87,
    "start_time": "2022-03-07T23:03:45.070Z"
   },
   {
    "duration": 10,
    "start_time": "2022-03-07T23:04:13.118Z"
   },
   {
    "duration": 222,
    "start_time": "2022-03-07T23:04:15.951Z"
   },
   {
    "duration": 3,
    "start_time": "2022-03-07T23:04:16.925Z"
   },
   {
    "duration": 4816,
    "start_time": "2022-03-07T23:05:39.534Z"
   },
   {
    "duration": 178,
    "start_time": "2022-03-07T23:06:33.870Z"
   },
   {
    "duration": 8,
    "start_time": "2022-03-07T23:06:42.669Z"
   },
   {
    "duration": 1032,
    "start_time": "2022-03-07T23:06:50.710Z"
   },
   {
    "duration": 370,
    "start_time": "2022-03-07T23:06:51.744Z"
   },
   {
    "duration": 22,
    "start_time": "2022-03-07T23:06:52.116Z"
   },
   {
    "duration": 17,
    "start_time": "2022-03-07T23:06:52.140Z"
   },
   {
    "duration": 55,
    "start_time": "2022-03-07T23:06:52.159Z"
   },
   {
    "duration": 1460,
    "start_time": "2022-03-07T23:06:52.216Z"
   },
   {
    "duration": 10,
    "start_time": "2022-03-07T23:06:53.677Z"
   },
   {
    "duration": 72,
    "start_time": "2022-03-07T23:06:53.690Z"
   },
   {
    "duration": 31,
    "start_time": "2022-03-07T23:06:53.764Z"
   },
   {
    "duration": 66,
    "start_time": "2022-03-07T23:06:53.797Z"
   },
   {
    "duration": 29,
    "start_time": "2022-03-07T23:06:53.865Z"
   },
   {
    "duration": 4,
    "start_time": "2022-03-07T23:06:53.895Z"
   },
   {
    "duration": 114,
    "start_time": "2022-03-07T23:06:53.900Z"
   },
   {
    "duration": 3,
    "start_time": "2022-03-07T23:06:54.016Z"
   },
   {
    "duration": 208,
    "start_time": "2022-03-07T23:06:54.020Z"
   },
   {
    "duration": 11,
    "start_time": "2022-03-07T23:06:54.230Z"
   },
   {
    "duration": 216,
    "start_time": "2022-03-07T23:06:54.243Z"
   },
   {
    "duration": 3,
    "start_time": "2022-03-07T23:06:54.461Z"
   },
   {
    "duration": 151,
    "start_time": "2022-03-07T23:06:54.465Z"
   },
   {
    "duration": 4,
    "start_time": "2022-03-07T23:06:54.618Z"
   },
   {
    "duration": 6,
    "start_time": "2022-03-07T23:06:54.624Z"
   },
   {
    "duration": 82,
    "start_time": "2022-03-07T23:06:54.632Z"
   },
   {
    "duration": 23,
    "start_time": "2022-03-07T23:06:54.717Z"
   },
   {
    "duration": 21,
    "start_time": "2022-03-07T23:06:54.742Z"
   },
   {
    "duration": 4,
    "start_time": "2022-03-07T23:06:54.765Z"
   },
   {
    "duration": 13,
    "start_time": "2022-03-07T23:06:54.770Z"
   },
   {
    "duration": 22,
    "start_time": "2022-03-07T23:06:54.784Z"
   },
   {
    "duration": 3,
    "start_time": "2022-03-07T23:06:54.807Z"
   },
   {
    "duration": 48,
    "start_time": "2022-03-07T23:06:54.811Z"
   },
   {
    "duration": 24,
    "start_time": "2022-03-07T23:06:54.861Z"
   },
   {
    "duration": 6,
    "start_time": "2022-03-07T23:06:54.886Z"
   },
   {
    "duration": 8617,
    "start_time": "2022-03-07T23:06:54.893Z"
   },
   {
    "duration": 266,
    "start_time": "2022-03-07T23:07:03.512Z"
   },
   {
    "duration": 9,
    "start_time": "2022-03-07T23:07:03.779Z"
   },
   {
    "duration": 312,
    "start_time": "2022-03-07T23:07:03.790Z"
   },
   {
    "duration": 9,
    "start_time": "2022-03-07T23:07:04.103Z"
   },
   {
    "duration": 266,
    "start_time": "2022-03-07T23:07:04.114Z"
   },
   {
    "duration": 10,
    "start_time": "2022-03-07T23:07:04.382Z"
   },
   {
    "duration": 11,
    "start_time": "2022-03-07T23:07:04.394Z"
   },
   {
    "duration": 5,
    "start_time": "2022-03-07T23:07:04.406Z"
   },
   {
    "duration": 11,
    "start_time": "2022-03-07T23:07:04.412Z"
   },
   {
    "duration": 34,
    "start_time": "2022-03-07T23:07:04.425Z"
   },
   {
    "duration": 4,
    "start_time": "2022-03-07T23:15:32.725Z"
   },
   {
    "duration": 3,
    "start_time": "2022-03-07T23:15:39.869Z"
   },
   {
    "duration": 4,
    "start_time": "2022-03-07T23:15:43.317Z"
   },
   {
    "duration": 3,
    "start_time": "2022-03-07T23:15:46.717Z"
   },
   {
    "duration": 1048,
    "start_time": "2022-03-07T23:16:21.784Z"
   },
   {
    "duration": 370,
    "start_time": "2022-03-07T23:16:22.834Z"
   },
   {
    "duration": 21,
    "start_time": "2022-03-07T23:16:23.206Z"
   },
   {
    "duration": 15,
    "start_time": "2022-03-07T23:16:23.229Z"
   },
   {
    "duration": 51,
    "start_time": "2022-03-07T23:16:23.246Z"
   },
   {
    "duration": 1660,
    "start_time": "2022-03-07T23:16:23.299Z"
   },
   {
    "duration": 9,
    "start_time": "2022-03-07T23:16:24.961Z"
   },
   {
    "duration": 20,
    "start_time": "2022-03-07T23:16:24.972Z"
   },
   {
    "duration": 31,
    "start_time": "2022-03-07T23:16:24.995Z"
   },
   {
    "duration": 35,
    "start_time": "2022-03-07T23:16:25.028Z"
   },
   {
    "duration": 27,
    "start_time": "2022-03-07T23:16:25.065Z"
   },
   {
    "duration": 3,
    "start_time": "2022-03-07T23:16:25.094Z"
   },
   {
    "duration": 93,
    "start_time": "2022-03-07T23:16:25.099Z"
   },
   {
    "duration": 3,
    "start_time": "2022-03-07T23:16:25.194Z"
   },
   {
    "duration": 219,
    "start_time": "2022-03-07T23:16:25.198Z"
   },
   {
    "duration": 17,
    "start_time": "2022-03-07T23:16:25.419Z"
   },
   {
    "duration": 227,
    "start_time": "2022-03-07T23:16:25.437Z"
   },
   {
    "duration": 4,
    "start_time": "2022-03-07T23:16:25.665Z"
   },
   {
    "duration": 148,
    "start_time": "2022-03-07T23:16:25.671Z"
   },
   {
    "duration": 7,
    "start_time": "2022-03-07T23:16:25.820Z"
   },
   {
    "duration": 8,
    "start_time": "2022-03-07T23:16:25.829Z"
   },
   {
    "duration": 147,
    "start_time": "2022-03-07T23:16:25.838Z"
   },
   {
    "duration": 50,
    "start_time": "2022-03-07T23:16:25.987Z"
   },
   {
    "duration": 33,
    "start_time": "2022-03-07T23:16:26.038Z"
   },
   {
    "duration": 3,
    "start_time": "2022-03-07T23:16:26.073Z"
   },
   {
    "duration": 22,
    "start_time": "2022-03-07T23:16:26.078Z"
   },
   {
    "duration": 73,
    "start_time": "2022-03-07T23:16:26.105Z"
   },
   {
    "duration": 3,
    "start_time": "2022-03-07T23:16:26.180Z"
   },
   {
    "duration": 288,
    "start_time": "2022-03-07T23:16:26.185Z"
   },
   {
    "duration": -61,
    "start_time": "2022-03-07T23:16:26.537Z"
   },
   {
    "duration": -63,
    "start_time": "2022-03-07T23:16:26.540Z"
   },
   {
    "duration": -63,
    "start_time": "2022-03-07T23:16:26.542Z"
   },
   {
    "duration": -65,
    "start_time": "2022-03-07T23:16:26.545Z"
   },
   {
    "duration": -65,
    "start_time": "2022-03-07T23:16:26.547Z"
   },
   {
    "duration": -66,
    "start_time": "2022-03-07T23:16:26.549Z"
   },
   {
    "duration": -68,
    "start_time": "2022-03-07T23:16:26.553Z"
   },
   {
    "duration": -70,
    "start_time": "2022-03-07T23:16:26.556Z"
   },
   {
    "duration": -70,
    "start_time": "2022-03-07T23:16:26.558Z"
   },
   {
    "duration": -72,
    "start_time": "2022-03-07T23:16:26.561Z"
   },
   {
    "duration": -72,
    "start_time": "2022-03-07T23:16:26.563Z"
   },
   {
    "duration": -73,
    "start_time": "2022-03-07T23:16:26.565Z"
   },
   {
    "duration": -75,
    "start_time": "2022-03-07T23:16:26.569Z"
   },
   {
    "duration": 212,
    "start_time": "2022-03-07T23:17:29.912Z"
   },
   {
    "duration": 208,
    "start_time": "2022-03-07T23:17:35.720Z"
   },
   {
    "duration": 218,
    "start_time": "2022-03-07T23:17:56.623Z"
   },
   {
    "duration": 10,
    "start_time": "2022-03-07T23:18:16.463Z"
   },
   {
    "duration": 1036,
    "start_time": "2022-03-07T23:18:23.713Z"
   },
   {
    "duration": 371,
    "start_time": "2022-03-07T23:18:24.751Z"
   },
   {
    "duration": 21,
    "start_time": "2022-03-07T23:18:25.124Z"
   },
   {
    "duration": 17,
    "start_time": "2022-03-07T23:18:25.147Z"
   },
   {
    "duration": 54,
    "start_time": "2022-03-07T23:18:25.166Z"
   },
   {
    "duration": 1909,
    "start_time": "2022-03-07T23:18:25.222Z"
   },
   {
    "duration": 11,
    "start_time": "2022-03-07T23:18:27.132Z"
   },
   {
    "duration": 25,
    "start_time": "2022-03-07T23:18:27.145Z"
   },
   {
    "duration": 32,
    "start_time": "2022-03-07T23:18:27.173Z"
   },
   {
    "duration": 10,
    "start_time": "2022-03-07T23:18:27.207Z"
   },
   {
    "duration": 54,
    "start_time": "2022-03-07T23:18:27.219Z"
   },
   {
    "duration": 3,
    "start_time": "2022-03-07T23:18:27.275Z"
   },
   {
    "duration": 85,
    "start_time": "2022-03-07T23:18:27.279Z"
   },
   {
    "duration": 3,
    "start_time": "2022-03-07T23:18:27.366Z"
   },
   {
    "duration": 217,
    "start_time": "2022-03-07T23:18:27.371Z"
   },
   {
    "duration": 11,
    "start_time": "2022-03-07T23:18:27.590Z"
   },
   {
    "duration": 230,
    "start_time": "2022-03-07T23:18:27.603Z"
   },
   {
    "duration": 3,
    "start_time": "2022-03-07T23:18:27.835Z"
   },
   {
    "duration": 147,
    "start_time": "2022-03-07T23:18:27.839Z"
   },
   {
    "duration": 4,
    "start_time": "2022-03-07T23:18:27.988Z"
   },
   {
    "duration": 6,
    "start_time": "2022-03-07T23:18:27.994Z"
   },
   {
    "duration": 99,
    "start_time": "2022-03-07T23:18:28.001Z"
   },
   {
    "duration": 23,
    "start_time": "2022-03-07T23:18:28.103Z"
   },
   {
    "duration": 11,
    "start_time": "2022-03-07T23:18:28.129Z"
   },
   {
    "duration": 5,
    "start_time": "2022-03-07T23:18:28.141Z"
   },
   {
    "duration": 19,
    "start_time": "2022-03-07T23:18:28.147Z"
   },
   {
    "duration": 22,
    "start_time": "2022-03-07T23:18:28.167Z"
   },
   {
    "duration": 2,
    "start_time": "2022-03-07T23:18:28.191Z"
   },
   {
    "duration": 25,
    "start_time": "2022-03-07T23:18:28.195Z"
   },
   {
    "duration": 23,
    "start_time": "2022-03-07T23:18:28.222Z"
   },
   {
    "duration": 12,
    "start_time": "2022-03-07T23:18:28.247Z"
   },
   {
    "duration": 8693,
    "start_time": "2022-03-07T23:18:28.260Z"
   },
   {
    "duration": 266,
    "start_time": "2022-03-07T23:18:36.955Z"
   },
   {
    "duration": 9,
    "start_time": "2022-03-07T23:18:37.223Z"
   },
   {
    "duration": 316,
    "start_time": "2022-03-07T23:18:37.234Z"
   },
   {
    "duration": 15,
    "start_time": "2022-03-07T23:18:37.553Z"
   },
   {
    "duration": 266,
    "start_time": "2022-03-07T23:18:37.569Z"
   },
   {
    "duration": 22,
    "start_time": "2022-03-07T23:18:37.837Z"
   },
   {
    "duration": 10,
    "start_time": "2022-03-07T23:18:37.861Z"
   },
   {
    "duration": 5,
    "start_time": "2022-03-07T23:18:37.873Z"
   },
   {
    "duration": 13,
    "start_time": "2022-03-07T23:18:37.880Z"
   },
   {
    "duration": 5,
    "start_time": "2022-03-07T23:18:37.895Z"
   },
   {
    "duration": 72,
    "start_time": "2022-03-07T23:19:20.859Z"
   },
   {
    "duration": 57,
    "start_time": "2022-03-07T23:20:50.652Z"
   },
   {
    "duration": 6,
    "start_time": "2022-03-07T23:21:51.796Z"
   },
   {
    "duration": 152,
    "start_time": "2022-03-07T23:22:07.427Z"
   },
   {
    "duration": 6,
    "start_time": "2022-03-07T23:22:08.906Z"
   },
   {
    "duration": 276,
    "start_time": "2022-03-07T23:22:47.570Z"
   },
   {
    "duration": 257,
    "start_time": "2022-03-07T23:22:54.201Z"
   },
   {
    "duration": 62,
    "start_time": "2022-03-07T23:23:01.626Z"
   },
   {
    "duration": 265,
    "start_time": "2022-03-07T23:23:05.322Z"
   },
   {
    "duration": 273,
    "start_time": "2022-03-07T23:23:55.467Z"
   },
   {
    "duration": 264,
    "start_time": "2022-03-07T23:24:26.226Z"
   },
   {
    "duration": 265,
    "start_time": "2022-03-07T23:26:13.170Z"
   },
   {
    "duration": 267,
    "start_time": "2022-03-07T23:26:29.153Z"
   },
   {
    "duration": 260,
    "start_time": "2022-03-07T23:27:16.010Z"
   },
   {
    "duration": 266,
    "start_time": "2022-03-07T23:29:01.475Z"
   },
   {
    "duration": 341,
    "start_time": "2022-03-07T23:29:23.176Z"
   },
   {
    "duration": 6,
    "start_time": "2022-03-07T23:38:49.518Z"
   },
   {
    "duration": 71,
    "start_time": "2022-03-07T23:38:51.022Z"
   },
   {
    "duration": 61,
    "start_time": "2022-03-07T23:38:52.814Z"
   },
   {
    "duration": 3,
    "start_time": "2022-03-07T23:48:34.115Z"
   },
   {
    "duration": 3,
    "start_time": "2022-03-07T23:48:38.739Z"
   },
   {
    "duration": 4,
    "start_time": "2022-03-07T23:48:43.578Z"
   },
   {
    "duration": 212,
    "start_time": "2022-03-07T23:49:05.099Z"
   },
   {
    "duration": 203,
    "start_time": "2022-03-07T23:49:10.093Z"
   },
   {
    "duration": 225,
    "start_time": "2022-03-07T23:49:19.762Z"
   },
   {
    "duration": 213,
    "start_time": "2022-03-07T23:49:27.019Z"
   },
   {
    "duration": 3,
    "start_time": "2022-03-07T23:49:36.755Z"
   },
   {
    "duration": 204,
    "start_time": "2022-03-07T23:49:50.539Z"
   },
   {
    "duration": 2,
    "start_time": "2022-03-07T23:49:53.130Z"
   },
   {
    "duration": 280,
    "start_time": "2022-03-07T23:53:07.761Z"
   },
   {
    "duration": 176,
    "start_time": "2022-03-07T23:53:25.986Z"
   },
   {
    "duration": 370,
    "start_time": "2022-03-07T23:53:32.049Z"
   },
   {
    "duration": 199,
    "start_time": "2022-03-07T23:53:51.705Z"
   },
   {
    "duration": 25,
    "start_time": "2022-03-07T23:54:05.089Z"
   },
   {
    "duration": 6,
    "start_time": "2022-03-07T23:54:06.384Z"
   },
   {
    "duration": 59,
    "start_time": "2022-03-07T23:54:11.848Z"
   },
   {
    "duration": 71,
    "start_time": "2022-03-07T23:55:57.568Z"
   },
   {
    "duration": 265,
    "start_time": "2022-03-07T23:58:23.622Z"
   },
   {
    "duration": 255,
    "start_time": "2022-03-07T23:58:32.335Z"
   },
   {
    "duration": 263,
    "start_time": "2022-03-07T23:59:04.255Z"
   },
   {
    "duration": 260,
    "start_time": "2022-03-07T23:59:48.510Z"
   },
   {
    "duration": 8,
    "start_time": "2022-03-08T00:00:17.798Z"
   },
   {
    "duration": 66,
    "start_time": "2022-03-08T00:06:30.469Z"
   },
   {
    "duration": 1040,
    "start_time": "2022-03-08T00:06:39.851Z"
   },
   {
    "duration": 356,
    "start_time": "2022-03-08T00:06:40.893Z"
   },
   {
    "duration": 20,
    "start_time": "2022-03-08T00:06:41.250Z"
   },
   {
    "duration": 19,
    "start_time": "2022-03-08T00:06:41.272Z"
   },
   {
    "duration": 50,
    "start_time": "2022-03-08T00:06:41.293Z"
   },
   {
    "duration": 1338,
    "start_time": "2022-03-08T00:06:41.344Z"
   },
   {
    "duration": 10,
    "start_time": "2022-03-08T00:06:42.683Z"
   },
   {
    "duration": 19,
    "start_time": "2022-03-08T00:06:42.695Z"
   },
   {
    "duration": 52,
    "start_time": "2022-03-08T00:06:42.716Z"
   },
   {
    "duration": 10,
    "start_time": "2022-03-08T00:06:42.770Z"
   },
   {
    "duration": 26,
    "start_time": "2022-03-08T00:06:42.781Z"
   },
   {
    "duration": 3,
    "start_time": "2022-03-08T00:06:42.809Z"
   },
   {
    "duration": 93,
    "start_time": "2022-03-08T00:06:42.814Z"
   },
   {
    "duration": 3,
    "start_time": "2022-03-08T00:06:42.909Z"
   },
   {
    "duration": 222,
    "start_time": "2022-03-08T00:06:42.914Z"
   },
   {
    "duration": 21,
    "start_time": "2022-03-08T00:06:43.138Z"
   },
   {
    "duration": 207,
    "start_time": "2022-03-08T00:06:43.160Z"
   },
   {
    "duration": 3,
    "start_time": "2022-03-08T00:06:43.369Z"
   },
   {
    "duration": 155,
    "start_time": "2022-03-08T00:06:43.373Z"
   },
   {
    "duration": 4,
    "start_time": "2022-03-08T00:06:43.529Z"
   },
   {
    "duration": 45,
    "start_time": "2022-03-08T00:06:43.535Z"
   },
   {
    "duration": 6,
    "start_time": "2022-03-08T00:06:43.582Z"
   },
   {
    "duration": 52,
    "start_time": "2022-03-08T00:06:43.591Z"
   },
   {
    "duration": 37,
    "start_time": "2022-03-08T00:06:43.645Z"
   },
   {
    "duration": 12,
    "start_time": "2022-03-08T00:06:43.684Z"
   },
   {
    "duration": 4,
    "start_time": "2022-03-08T00:06:43.697Z"
   },
   {
    "duration": 13,
    "start_time": "2022-03-08T00:06:43.703Z"
   },
   {
    "duration": 49,
    "start_time": "2022-03-08T00:06:43.718Z"
   },
   {
    "duration": 3,
    "start_time": "2022-03-08T00:06:43.768Z"
   },
   {
    "duration": 26,
    "start_time": "2022-03-08T00:06:43.772Z"
   },
   {
    "duration": 23,
    "start_time": "2022-03-08T00:06:43.800Z"
   },
   {
    "duration": 5,
    "start_time": "2022-03-08T00:06:43.825Z"
   },
   {
    "duration": 8541,
    "start_time": "2022-03-08T00:06:43.831Z"
   },
   {
    "duration": 302,
    "start_time": "2022-03-08T00:06:52.374Z"
   },
   {
    "duration": 9,
    "start_time": "2022-03-08T00:06:52.678Z"
   },
   {
    "duration": 324,
    "start_time": "2022-03-08T00:06:52.689Z"
   },
   {
    "duration": 9,
    "start_time": "2022-03-08T00:06:53.014Z"
   },
   {
    "duration": 262,
    "start_time": "2022-03-08T00:06:53.024Z"
   },
   {
    "duration": 9,
    "start_time": "2022-03-08T00:06:53.287Z"
   },
   {
    "duration": 10,
    "start_time": "2022-03-08T00:06:53.298Z"
   },
   {
    "duration": 5,
    "start_time": "2022-03-08T00:06:53.309Z"
   },
   {
    "duration": 8,
    "start_time": "2022-03-08T00:06:53.316Z"
   },
   {
    "duration": 33,
    "start_time": "2022-03-08T00:06:53.325Z"
   },
   {
    "duration": 71,
    "start_time": "2022-03-08T00:15:16.966Z"
   },
   {
    "duration": 1019,
    "start_time": "2022-03-08T00:15:35.733Z"
   },
   {
    "duration": 370,
    "start_time": "2022-03-08T00:15:36.754Z"
   },
   {
    "duration": 20,
    "start_time": "2022-03-08T00:15:37.126Z"
   },
   {
    "duration": 22,
    "start_time": "2022-03-08T00:15:37.147Z"
   },
   {
    "duration": 52,
    "start_time": "2022-03-08T00:15:37.171Z"
   },
   {
    "duration": 1766,
    "start_time": "2022-03-08T00:15:37.225Z"
   },
   {
    "duration": 9,
    "start_time": "2022-03-08T00:15:38.992Z"
   },
   {
    "duration": 75,
    "start_time": "2022-03-08T00:15:39.003Z"
   },
   {
    "duration": 81,
    "start_time": "2022-03-08T00:15:39.079Z"
   },
   {
    "duration": 10,
    "start_time": "2022-03-08T00:15:39.162Z"
   },
   {
    "duration": 25,
    "start_time": "2022-03-08T00:15:39.174Z"
   },
   {
    "duration": 4,
    "start_time": "2022-03-08T00:15:39.200Z"
   },
   {
    "duration": 153,
    "start_time": "2022-03-08T00:15:39.206Z"
   },
   {
    "duration": 3,
    "start_time": "2022-03-08T00:15:39.361Z"
   },
   {
    "duration": 371,
    "start_time": "2022-03-08T00:15:39.365Z"
   },
   {
    "duration": 29,
    "start_time": "2022-03-08T00:15:39.737Z"
   },
   {
    "duration": 229,
    "start_time": "2022-03-08T00:15:39.767Z"
   },
   {
    "duration": 3,
    "start_time": "2022-03-08T00:15:39.998Z"
   },
   {
    "duration": 159,
    "start_time": "2022-03-08T00:15:40.003Z"
   },
   {
    "duration": 6,
    "start_time": "2022-03-08T00:15:40.164Z"
   },
   {
    "duration": 36,
    "start_time": "2022-03-08T00:15:40.172Z"
   },
   {
    "duration": 7,
    "start_time": "2022-03-08T00:15:40.210Z"
   },
   {
    "duration": 79,
    "start_time": "2022-03-08T00:15:40.222Z"
   },
   {
    "duration": 24,
    "start_time": "2022-03-08T00:15:40.304Z"
   },
   {
    "duration": 33,
    "start_time": "2022-03-08T00:15:40.330Z"
   },
   {
    "duration": 3,
    "start_time": "2022-03-08T00:15:40.365Z"
   },
   {
    "duration": 12,
    "start_time": "2022-03-08T00:15:40.370Z"
   },
   {
    "duration": 21,
    "start_time": "2022-03-08T00:15:40.384Z"
   },
   {
    "duration": 3,
    "start_time": "2022-03-08T00:15:40.406Z"
   },
   {
    "duration": 55,
    "start_time": "2022-03-08T00:15:40.411Z"
   },
   {
    "duration": 24,
    "start_time": "2022-03-08T00:15:40.468Z"
   },
   {
    "duration": 6,
    "start_time": "2022-03-08T00:15:40.494Z"
   },
   {
    "duration": 8299,
    "start_time": "2022-03-08T00:15:40.502Z"
   },
   {
    "duration": 273,
    "start_time": "2022-03-08T00:15:48.802Z"
   },
   {
    "duration": 10,
    "start_time": "2022-03-08T00:15:49.077Z"
   },
   {
    "duration": 315,
    "start_time": "2022-03-08T00:15:49.089Z"
   },
   {
    "duration": 11,
    "start_time": "2022-03-08T00:15:49.406Z"
   },
   {
    "duration": 275,
    "start_time": "2022-03-08T00:15:49.418Z"
   },
   {
    "duration": 9,
    "start_time": "2022-03-08T00:15:49.695Z"
   },
   {
    "duration": 13,
    "start_time": "2022-03-08T00:15:49.706Z"
   },
   {
    "duration": 5,
    "start_time": "2022-03-08T00:15:49.720Z"
   },
   {
    "duration": 32,
    "start_time": "2022-03-08T00:15:49.727Z"
   },
   {
    "duration": 5,
    "start_time": "2022-03-08T00:15:49.761Z"
   },
   {
    "duration": 63,
    "start_time": "2022-03-08T00:19:41.677Z"
   },
   {
    "duration": 61,
    "start_time": "2022-03-08T00:19:59.925Z"
   },
   {
    "duration": 63,
    "start_time": "2022-03-08T00:21:18.317Z"
   },
   {
    "duration": 1095,
    "start_time": "2022-03-08T00:23:23.336Z"
   },
   {
    "duration": 377,
    "start_time": "2022-03-08T00:23:24.433Z"
   },
   {
    "duration": 22,
    "start_time": "2022-03-08T00:23:24.812Z"
   },
   {
    "duration": 16,
    "start_time": "2022-03-08T00:23:24.836Z"
   },
   {
    "duration": 53,
    "start_time": "2022-03-08T00:23:24.853Z"
   },
   {
    "duration": 1601,
    "start_time": "2022-03-08T00:23:24.907Z"
   },
   {
    "duration": 9,
    "start_time": "2022-03-08T00:23:26.509Z"
   },
   {
    "duration": 19,
    "start_time": "2022-03-08T00:23:26.520Z"
   },
   {
    "duration": 44,
    "start_time": "2022-03-08T00:23:26.541Z"
   },
   {
    "duration": 9,
    "start_time": "2022-03-08T00:23:26.587Z"
   },
   {
    "duration": 25,
    "start_time": "2022-03-08T00:23:26.598Z"
   },
   {
    "duration": 9,
    "start_time": "2022-03-08T00:23:26.624Z"
   },
   {
    "duration": 72,
    "start_time": "2022-03-08T00:23:26.660Z"
   },
   {
    "duration": 3,
    "start_time": "2022-03-08T00:23:26.734Z"
   },
   {
    "duration": 226,
    "start_time": "2022-03-08T00:23:26.738Z"
   },
   {
    "duration": 11,
    "start_time": "2022-03-08T00:23:26.966Z"
   },
   {
    "duration": 222,
    "start_time": "2022-03-08T00:23:26.979Z"
   },
   {
    "duration": 3,
    "start_time": "2022-03-08T00:23:27.203Z"
   },
   {
    "duration": 159,
    "start_time": "2022-03-08T00:23:27.207Z"
   },
   {
    "duration": 4,
    "start_time": "2022-03-08T00:23:27.368Z"
   },
   {
    "duration": 35,
    "start_time": "2022-03-08T00:23:27.374Z"
   },
   {
    "duration": 5,
    "start_time": "2022-03-08T00:23:27.411Z"
   },
   {
    "duration": 76,
    "start_time": "2022-03-08T00:23:27.418Z"
   },
   {
    "duration": 25,
    "start_time": "2022-03-08T00:23:27.496Z"
   },
   {
    "duration": 11,
    "start_time": "2022-03-08T00:23:27.523Z"
   },
   {
    "duration": 23,
    "start_time": "2022-03-08T00:23:27.536Z"
   },
   {
    "duration": 12,
    "start_time": "2022-03-08T00:23:27.562Z"
   },
   {
    "duration": 23,
    "start_time": "2022-03-08T00:23:27.576Z"
   },
   {
    "duration": 3,
    "start_time": "2022-03-08T00:23:27.601Z"
   },
   {
    "duration": 24,
    "start_time": "2022-03-08T00:23:27.605Z"
   },
   {
    "duration": 51,
    "start_time": "2022-03-08T00:23:27.631Z"
   },
   {
    "duration": 6,
    "start_time": "2022-03-08T00:23:27.684Z"
   },
   {
    "duration": 8745,
    "start_time": "2022-03-08T00:23:27.691Z"
   },
   {
    "duration": 273,
    "start_time": "2022-03-08T00:23:36.438Z"
   },
   {
    "duration": 9,
    "start_time": "2022-03-08T00:23:36.713Z"
   },
   {
    "duration": 322,
    "start_time": "2022-03-08T00:23:36.724Z"
   },
   {
    "duration": 15,
    "start_time": "2022-03-08T00:23:37.048Z"
   },
   {
    "duration": 271,
    "start_time": "2022-03-08T00:23:37.064Z"
   },
   {
    "duration": 9,
    "start_time": "2022-03-08T00:23:37.336Z"
   },
   {
    "duration": 19,
    "start_time": "2022-03-08T00:23:37.346Z"
   },
   {
    "duration": 4,
    "start_time": "2022-03-08T00:23:37.367Z"
   },
   {
    "duration": 12,
    "start_time": "2022-03-08T00:23:37.373Z"
   },
   {
    "duration": 4,
    "start_time": "2022-03-08T00:23:37.387Z"
   },
   {
    "duration": 65,
    "start_time": "2022-03-08T00:24:21.732Z"
   },
   {
    "duration": 1024,
    "start_time": "2022-03-08T00:25:05.014Z"
   },
   {
    "duration": 373,
    "start_time": "2022-03-08T00:25:06.040Z"
   },
   {
    "duration": 21,
    "start_time": "2022-03-08T00:25:06.415Z"
   },
   {
    "duration": 16,
    "start_time": "2022-03-08T00:25:06.438Z"
   },
   {
    "duration": 53,
    "start_time": "2022-03-08T00:25:06.456Z"
   },
   {
    "duration": 1378,
    "start_time": "2022-03-08T00:25:06.511Z"
   },
   {
    "duration": 9,
    "start_time": "2022-03-08T00:25:07.891Z"
   },
   {
    "duration": 18,
    "start_time": "2022-03-08T00:25:07.903Z"
   },
   {
    "duration": 50,
    "start_time": "2022-03-08T00:25:07.923Z"
   },
   {
    "duration": 10,
    "start_time": "2022-03-08T00:25:07.975Z"
   },
   {
    "duration": 25,
    "start_time": "2022-03-08T00:25:07.987Z"
   },
   {
    "duration": 4,
    "start_time": "2022-03-08T00:25:08.014Z"
   },
   {
    "duration": 102,
    "start_time": "2022-03-08T00:25:08.019Z"
   },
   {
    "duration": 4,
    "start_time": "2022-03-08T00:25:08.122Z"
   },
   {
    "duration": 217,
    "start_time": "2022-03-08T00:25:08.127Z"
   },
   {
    "duration": 17,
    "start_time": "2022-03-08T00:25:08.346Z"
   },
   {
    "duration": 222,
    "start_time": "2022-03-08T00:25:08.364Z"
   },
   {
    "duration": 3,
    "start_time": "2022-03-08T00:25:08.588Z"
   },
   {
    "duration": 154,
    "start_time": "2022-03-08T00:25:08.592Z"
   },
   {
    "duration": 5,
    "start_time": "2022-03-08T00:25:08.759Z"
   },
   {
    "duration": 34,
    "start_time": "2022-03-08T00:25:08.765Z"
   },
   {
    "duration": 59,
    "start_time": "2022-03-08T00:25:08.800Z"
   },
   {
    "duration": 105,
    "start_time": "2022-03-08T00:25:08.863Z"
   },
   {
    "duration": 24,
    "start_time": "2022-03-08T00:25:08.969Z"
   },
   {
    "duration": 65,
    "start_time": "2022-03-08T00:25:08.995Z"
   },
   {
    "duration": 3,
    "start_time": "2022-03-08T00:25:09.062Z"
   },
   {
    "duration": 13,
    "start_time": "2022-03-08T00:25:09.066Z"
   },
   {
    "duration": 23,
    "start_time": "2022-03-08T00:25:09.080Z"
   },
   {
    "duration": 2,
    "start_time": "2022-03-08T00:25:09.160Z"
   },
   {
    "duration": 25,
    "start_time": "2022-03-08T00:25:09.164Z"
   },
   {
    "duration": 71,
    "start_time": "2022-03-08T00:25:09.191Z"
   },
   {
    "duration": 5,
    "start_time": "2022-03-08T00:25:09.263Z"
   },
   {
    "duration": 8695,
    "start_time": "2022-03-08T00:25:09.270Z"
   },
   {
    "duration": 274,
    "start_time": "2022-03-08T00:25:17.967Z"
   },
   {
    "duration": 18,
    "start_time": "2022-03-08T00:25:18.243Z"
   },
   {
    "duration": 321,
    "start_time": "2022-03-08T00:25:18.262Z"
   },
   {
    "duration": 9,
    "start_time": "2022-03-08T00:25:18.585Z"
   },
   {
    "duration": 282,
    "start_time": "2022-03-08T00:25:18.595Z"
   },
   {
    "duration": 9,
    "start_time": "2022-03-08T00:25:18.879Z"
   },
   {
    "duration": 16,
    "start_time": "2022-03-08T00:25:18.889Z"
   },
   {
    "duration": 4,
    "start_time": "2022-03-08T00:25:18.907Z"
   },
   {
    "duration": 14,
    "start_time": "2022-03-08T00:25:18.913Z"
   },
   {
    "duration": 31,
    "start_time": "2022-03-08T00:25:18.929Z"
   },
   {
    "duration": 1058,
    "start_time": "2022-03-08T00:27:06.851Z"
   },
   {
    "duration": 364,
    "start_time": "2022-03-08T00:27:07.911Z"
   },
   {
    "duration": 21,
    "start_time": "2022-03-08T00:27:08.277Z"
   },
   {
    "duration": 16,
    "start_time": "2022-03-08T00:27:08.299Z"
   },
   {
    "duration": 63,
    "start_time": "2022-03-08T00:27:08.316Z"
   },
   {
    "duration": 1679,
    "start_time": "2022-03-08T00:27:08.381Z"
   },
   {
    "duration": 9,
    "start_time": "2022-03-08T00:27:10.062Z"
   },
   {
    "duration": 17,
    "start_time": "2022-03-08T00:27:10.074Z"
   },
   {
    "duration": 87,
    "start_time": "2022-03-08T00:27:10.093Z"
   },
   {
    "duration": 10,
    "start_time": "2022-03-08T00:27:10.181Z"
   },
   {
    "duration": 80,
    "start_time": "2022-03-08T00:27:10.193Z"
   },
   {
    "duration": 3,
    "start_time": "2022-03-08T00:27:10.275Z"
   },
   {
    "duration": 108,
    "start_time": "2022-03-08T00:27:10.280Z"
   },
   {
    "duration": 3,
    "start_time": "2022-03-08T00:27:10.390Z"
   },
   {
    "duration": 212,
    "start_time": "2022-03-08T00:27:10.395Z"
   },
   {
    "duration": 11,
    "start_time": "2022-03-08T00:27:10.609Z"
   },
   {
    "duration": 220,
    "start_time": "2022-03-08T00:27:10.622Z"
   },
   {
    "duration": 3,
    "start_time": "2022-03-08T00:27:10.844Z"
   },
   {
    "duration": 160,
    "start_time": "2022-03-08T00:27:10.849Z"
   },
   {
    "duration": 5,
    "start_time": "2022-03-08T00:27:11.011Z"
   },
   {
    "duration": 47,
    "start_time": "2022-03-08T00:27:11.017Z"
   },
   {
    "duration": 6,
    "start_time": "2022-03-08T00:27:11.065Z"
   },
   {
    "duration": 51,
    "start_time": "2022-03-08T00:27:11.074Z"
   },
   {
    "duration": 41,
    "start_time": "2022-03-08T00:27:11.127Z"
   },
   {
    "duration": 12,
    "start_time": "2022-03-08T00:27:11.169Z"
   },
   {
    "duration": 5,
    "start_time": "2022-03-08T00:27:11.182Z"
   },
   {
    "duration": 14,
    "start_time": "2022-03-08T00:27:11.189Z"
   },
   {
    "duration": 22,
    "start_time": "2022-03-08T00:27:11.205Z"
   },
   {
    "duration": 2,
    "start_time": "2022-03-08T00:27:11.229Z"
   },
   {
    "duration": 48,
    "start_time": "2022-03-08T00:27:11.233Z"
   },
   {
    "duration": 25,
    "start_time": "2022-03-08T00:27:11.282Z"
   },
   {
    "duration": 6,
    "start_time": "2022-03-08T00:27:11.308Z"
   },
   {
    "duration": 8448,
    "start_time": "2022-03-08T00:27:11.315Z"
   },
   {
    "duration": 269,
    "start_time": "2022-03-08T00:27:19.764Z"
   },
   {
    "duration": 9,
    "start_time": "2022-03-08T00:27:20.035Z"
   },
   {
    "duration": 321,
    "start_time": "2022-03-08T00:27:20.045Z"
   },
   {
    "duration": 9,
    "start_time": "2022-03-08T00:27:20.367Z"
   },
   {
    "duration": 277,
    "start_time": "2022-03-08T00:27:20.378Z"
   },
   {
    "duration": 10,
    "start_time": "2022-03-08T00:27:20.656Z"
   },
   {
    "duration": 11,
    "start_time": "2022-03-08T00:27:20.667Z"
   },
   {
    "duration": 5,
    "start_time": "2022-03-08T00:27:20.680Z"
   },
   {
    "duration": 15,
    "start_time": "2022-03-08T00:27:20.686Z"
   },
   {
    "duration": 9,
    "start_time": "2022-03-08T00:27:20.703Z"
   }
  ],
  "kernelspec": {
   "display_name": "Python 3 (ipykernel)",
   "language": "python",
   "name": "python3"
  },
  "language_info": {
   "codemirror_mode": {
    "name": "ipython",
    "version": 3
   },
   "file_extension": ".py",
   "mimetype": "text/x-python",
   "name": "python",
   "nbconvert_exporter": "python",
   "pygments_lexer": "ipython3",
   "version": "3.9.5"
  },
  "toc": {
   "base_numbering": 1,
   "nav_menu": {
    "height": "161.982px",
    "width": "434.984px"
   },
   "number_sections": true,
   "sideBar": true,
   "skip_h1_title": true,
   "title_cell": "Содержание",
   "title_sidebar": "Содержание",
   "toc_cell": true,
   "toc_position": {
    "height": "calc(100% - 180px)",
    "left": "10px",
    "top": "150px",
    "width": "309.905px"
   },
   "toc_section_display": true,
   "toc_window_display": true
  }
 },
 "nbformat": 4,
 "nbformat_minor": 2
}
